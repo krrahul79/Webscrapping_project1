{
 "cells": [
  {
   "cell_type": "code",
   "execution_count": 1,
   "id": "b581ac52",
   "metadata": {},
   "outputs": [
    {
     "name": "stdout",
     "output_type": "stream",
     "text": [
      "Requirement already satisfied: BeautifulSoup4 in c:\\users\\krrah\\appdata\\local\\programs\\python\\python311\\lib\\site-packages (4.11.1)\n",
      "Requirement already satisfied: soupsieve>1.2 in c:\\users\\krrah\\appdata\\local\\programs\\python\\python311\\lib\\site-packages (from BeautifulSoup4) (2.3.2.post1)\n"
     ]
    }
   ],
   "source": [
    "!pip install BeautifulSoup4"
   ]
  },
  {
   "cell_type": "code",
   "execution_count": 3,
   "id": "a5eb562e",
   "metadata": {},
   "outputs": [
    {
     "name": "stdout",
     "output_type": "stream",
     "text": [
      "Requirement already satisfied: lxml in c:\\users\\krrah\\appdata\\local\\programs\\python\\python311\\lib\\site-packages (4.9.2)\n"
     ]
    }
   ],
   "source": [
    "!pip install lxml"
   ]
  },
  {
   "cell_type": "code",
   "execution_count": 4,
   "id": "f85e1162",
   "metadata": {},
   "outputs": [
    {
     "name": "stdout",
     "output_type": "stream",
     "text": [
      "Collecting html5lib\n",
      "  Downloading html5lib-1.1-py2.py3-none-any.whl (112 kB)\n",
      "     ------------------------------------ 112.2/112.2 kB 192.0 kB/s eta 0:00:00\n",
      "Requirement already satisfied: six>=1.9 in c:\\users\\krrah\\appdata\\local\\programs\\python\\python311\\lib\\site-packages (from html5lib) (1.16.0)\n",
      "Requirement already satisfied: webencodings in c:\\users\\krrah\\appdata\\local\\programs\\python\\python311\\lib\\site-packages (from html5lib) (0.5.1)\n",
      "Installing collected packages: html5lib\n",
      "Successfully installed html5lib-1.1\n"
     ]
    }
   ],
   "source": [
    "!pip install html5lib"
   ]
  },
  {
   "cell_type": "code",
   "execution_count": 2,
   "id": "f9fe0a71",
   "metadata": {},
   "outputs": [],
   "source": [
    "import requests\n",
    "import webbrowser\n",
    "\n",
    "from bs4 import BeautifulSoup"
   ]
  },
  {
   "cell_type": "code",
   "execution_count": 9,
   "id": "11cff600",
   "metadata": {},
   "outputs": [],
   "source": [
    "html = \"\"\"\n",
    "    <h1><a /><b><th <td>\n",
    "\"\"\""
   ]
  },
  {
   "cell_type": "code",
   "execution_count": 10,
   "id": "ef5c131d",
   "metadata": {},
   "outputs": [
    {
     "name": "stdout",
     "output_type": "stream",
     "text": [
      "<html>\n",
      " <body>\n",
      "  <h1>\n",
      "   <a>\n",
      "   </a>\n",
      "   <b>\n",
      "   </b>\n",
      "   <th>\n",
      "   </th>\n",
      "  </h1>\n",
      " </body>\n",
      "</html>\n"
     ]
    }
   ],
   "source": [
    "soup = BeautifulSoup(html)\n",
    "print(soup.prettify())"
   ]
  },
  {
   "cell_type": "code",
   "execution_count": 11,
   "id": "941968fd",
   "metadata": {},
   "outputs": [
    {
     "data": {
      "text/plain": [
       "<body><h1><a></a><b></b><th>\n",
       "</th></h1></body>"
      ]
     },
     "execution_count": 11,
     "metadata": {},
     "output_type": "execute_result"
    }
   ],
   "source": [
    "soup.body"
   ]
  },
  {
   "cell_type": "code",
   "execution_count": 12,
   "id": "e9d9ed97",
   "metadata": {},
   "outputs": [
    {
     "data": {
      "text/plain": [
       "'html'"
      ]
     },
     "execution_count": 12,
     "metadata": {},
     "output_type": "execute_result"
    }
   ],
   "source": [
    "soup.body.parent.name"
   ]
  },
  {
   "cell_type": "code",
   "execution_count": 13,
   "id": "eb2f0707",
   "metadata": {},
   "outputs": [],
   "source": [
    "soup = BeautifulSoup(html,'html5lib')"
   ]
  },
  {
   "cell_type": "code",
   "execution_count": 15,
   "id": "9b00585c",
   "metadata": {},
   "outputs": [],
   "source": [
    "soup = BeautifulSoup(html,'xml')"
   ]
  },
  {
   "cell_type": "code",
   "execution_count": 16,
   "id": "26360392",
   "metadata": {},
   "outputs": [],
   "source": [
    "soup = BeautifulSoup(html,'lxml-xml')"
   ]
  },
  {
   "cell_type": "code",
   "execution_count": 3,
   "id": "92c50307",
   "metadata": {},
   "outputs": [
    {
     "data": {
      "text/plain": [
       "<Response [200]>"
      ]
     },
     "execution_count": 3,
     "metadata": {},
     "output_type": "execute_result"
    }
   ],
   "source": [
    "resp = requests.get(\"https://google.com\")\n",
    "resp"
   ]
  },
  {
   "cell_type": "code",
   "execution_count": 4,
   "id": "6f624aeb",
   "metadata": {},
   "outputs": [
    {
     "data": {
      "text/plain": [
       "<!DOCTYPE html>\n",
       "<html itemscope=\"\" itemtype=\"http://schema.org/WebPage\" lang=\"en-GB\"><head><meta content=\"text/html; charset=utf-8\" http-equiv=\"Content-Type\"/><meta content=\"/images/branding/googleg/1x/googleg_standard_color_128dp.png\" itemprop=\"image\"/><title>Google</title><script nonce=\"EfgTcitMa_mqtmo2H7X0OQ\">(function(){window.google={kEI:'2_jOY4zkOOaYhbIP97edyAY',kEXPI:'0,18168,1341241,6058,207,2415,2389,2316,383,246,5,1129120,1197734,380757,16114,28684,22430,1362,12320,2814,1931,12834,4998,13228,3847,10622,22741,5081,1593,1279,2742,149,562,541,840,6297,109,3405,606,2025,2295,14670,3227,2847,7,4771,826,23476,4143,552,1850,2615,13142,3,576,1014,1,5445,148,11323,2652,4,1528,2304,7039,27731,7356,13659,4437,9358,7428,5815,2542,4094,17,4035,3,3541,1,14263,27891,2,14022,2715,23024,6699,952,30170,4568,6259,23418,1246,5841,12141,2826,4333,5016,2468,25076,2006,8155,6680,701,2,1478,14490,872,19634,7,1922,5784,3995,5864,15526,389,9543,4832,8311,18193,20232,4641,6618,8947,1622,1749,29,2208,1644,1125,8051,939,702,5199,721,1020,2356,3255,564,2,566,988,782,1753,495,426,848,186,333,2669,867,12,769,1411,20,3,867,136,1974,151,939,2829,1376,947,348,509,1767,1897,1219,338,697,607,258,767,184,1481,1070,182,5,490,1159,88,20,360,103,218,84,228,32,103,446,3,179,2,222,1762,840,2691,1049,460,62,1124,378,415,1255,117,949,2,3,17,2,3,575,921,1302,1150,590,1152,1352,84,44,161,48,2,358,17,116,66,1409,309,2241,1039,1017,255,1,272,5,382,1,665,805,1314,382,602,78,2,192,3278,747,108,620,479,5260668,4057,302,40,7,43,8798800,3311,141,795,19735,1,1,346,3924,23647361,299200,550,4041592,16261,2376,3405,9441,7197,195,994848,409474,103591',kBL:'m-wt'};google.sn='webhp';google.kHL='en-GB';})();(function(){\n",
       "var f=this||self;var h,k=[];function l(a){for(var b;a&&(!a.getAttribute||!(b=a.getAttribute(\"eid\")));)a=a.parentNode;return b||h}function m(a){for(var b=null;a&&(!a.getAttribute||!(b=a.getAttribute(\"leid\")));)a=a.parentNode;return b}\n",
       "function n(a,b,c,d,g){var e=\"\";c||-1!==b.search(\"&ei=\")||(e=\"&ei=\"+l(d),-1===b.search(\"&lei=\")&&(d=m(d))&&(e+=\"&lei=\"+d));d=\"\";!c&&f._cshid&&-1===b.search(\"&cshid=\")&&\"slh\"!==a&&(d=\"&cshid=\"+f._cshid);c=c||\"/\"+(g||\"gen_204\")+\"?atyp=i&ct=\"+a+\"&cad=\"+b+e+\"&zx=\"+Date.now()+d;/^http:/i.test(c)&&\"https:\"===window.location.protocol&&(google.ml&&google.ml(Error(\"a\"),!1,{src:c,glmm:1}),c=\"\");return c};h=google.kEI;google.getEI=l;google.getLEI=m;google.ml=function(){return null};google.log=function(a,b,c,d,g){if(c=n(a,b,c,d,g)){a=new Image;var e=k.length;k[e]=a;a.onerror=a.onload=a.onabort=function(){delete k[e]};a.src=c}};google.logUrl=n;}).call(this);(function(){google.y={};google.sy=[];google.x=function(a,b){if(a)var c=a.id;else{do c=Math.random();while(google.y[c])}google.y[c]=[a,b];return!1};google.sx=function(a){google.sy.push(a)};google.lm=[];google.plm=function(a){google.lm.push.apply(google.lm,a)};google.lq=[];google.load=function(a,b,c){google.lq.push([[a],b,c])};google.loadAll=function(a,b){google.lq.push([a,b])};google.bx=!1;google.lx=function(){};}).call(this);google.f={};(function(){\n",
       "document.documentElement.addEventListener(\"submit\",function(b){var a;if(a=b.target){var c=a.getAttribute(\"data-submitfalse\");a=\"1\"===c||\"q\"===c&&!a.elements.q.value?!0:!1}else a=!1;a&&(b.preventDefault(),b.stopPropagation())},!0);document.documentElement.addEventListener(\"click\",function(b){var a;a:{for(a=b.target;a&&a!==document.documentElement;a=a.parentElement)if(\"A\"===a.tagName){a=\"1\"===a.getAttribute(\"data-nohref\");break a}a=!1}a&&b.preventDefault()},!0);}).call(this);</script><style>#gbar,#guser{font-size:13px;padding-top:1px !important;}#gbar{height:22px}#guser{padding-bottom:7px !important;text-align:right}.gbh,.gbd{border-top:1px solid #c9d7f1;font-size:1px}.gbh{height:0;position:absolute;top:24px;width:100%}@media all{.gb1{height:22px;margin-right:.5em;vertical-align:top}#gbar{float:left}}a.gb1,a.gb4{text-decoration:underline !important}a.gb1,a.gb4{color:#00c !important}.gbi .gb4{color:#dd8e27 !important}.gbf .gb4{color:#900 !important}\n",
       "</style><style>body,td,a,p,.h{font-family:arial,sans-serif}body{margin:0;overflow-y:scroll}#gog{padding:3px 8px 0}td{line-height:.8em}.gac_m td{line-height:17px}form{margin-bottom:20px}.h{color:#1558d6}em{font-weight:bold;font-style:normal}.lst{height:25px;width:496px}.gsfi,.lst{font:18px arial,sans-serif}.gsfs{font:17px arial,sans-serif}.ds{display:inline-box;display:inline-block;margin:3px 0 4px;margin-left:4px}input{font-family:inherit}body{background:#fff;color:#000}a{color:#4b11a8;text-decoration:none}a:hover,a:active{text-decoration:underline}.fl a{color:#1558d6}a:visited{color:#4b11a8}.sblc{padding-top:5px}.sblc a{display:block;margin:2px 0;margin-left:13px;font-size:11px}.lsbb{background:#f8f9fa;border:solid 1px;border-color:#dadce0 #70757a #70757a #dadce0;height:30px}.lsbb{display:block}#WqQANb a{display:inline-block;margin:0 12px}.lsb{background:url(/images/nav_logo229.png) 0 -261px repeat-x;border:none;color:#000;cursor:pointer;height:30px;margin:0;outline:0;font:15px arial,sans-serif;vertical-align:top}.lsb:active{background:#dadce0}.lst:focus{outline:none}</style><script nonce=\"EfgTcitMa_mqtmo2H7X0OQ\">(function(){window.google.erd={jsr:1,bv:1728,de:true};\n",
       "var h=this||self;var k,l=null!=(k=h.mei)?k:1,n,p=null!=(n=h.sdo)?n:!0,q=0,r,t=google.erd,v=t.jsr;google.ml=function(a,b,d,m,e){e=void 0===e?2:e;b&&(r=a&&a.message);if(google.dl)return google.dl(a,e,d),null;if(0>v){window.console&&console.error(a,d);if(-2===v)throw a;b=!1}else b=!a||!a.message||\"Error loading script\"===a.message||q>=l&&!m?!1:!0;if(!b)return null;q++;d=d||{};b=encodeURIComponent;var c=\"/gen_204?atyp=i&ei=\"+b(google.kEI);google.kEXPI&&(c+=\"&jexpid=\"+b(google.kEXPI));c+=\"&srcpg=\"+b(google.sn)+\"&jsr=\"+b(t.jsr)+\"&bver=\"+b(t.bv);var f=a.lineNumber;void 0!==f&&(c+=\"&line=\"+f);var g=\n",
       "a.fileName;g&&(0<g.indexOf(\"-extension:/\")&&(e=3),c+=\"&script=\"+b(g),f&&g===window.location.href&&(f=document.documentElement.outerHTML.split(\"\\n\")[f],c+=\"&cad=\"+b(f?f.substring(0,300):\"No script found.\")));c+=\"&jsel=\"+e;for(var u in d)c+=\"&\",c+=b(u),c+=\"=\",c+=b(d[u]);c=c+\"&emsg=\"+b(a.name+\": \"+a.message);c=c+\"&jsst=\"+b(a.stack||\"N/A\");12288<=c.length&&(c=c.substr(0,12288));a=c;m||google.log(0,\"\",a);return a};window.onerror=function(a,b,d,m,e){r!==a&&(a=e instanceof Error?e:Error(a),void 0===d||\"lineNumber\"in a||(a.lineNumber=d),void 0===b||\"fileName\"in a||(a.fileName=b),google.ml(a,!1,void 0,!1,\"SyntaxError\"===a.name||\"SyntaxError\"===a.message.substring(0,11)||-1!==a.message.indexOf(\"Script error\")?3:0));r=null;p&&q>=l&&(window.onerror=null)};})();</script></head><body bgcolor=\"#fff\"><script nonce=\"EfgTcitMa_mqtmo2H7X0OQ\">(function(){var src='/images/nav_logo229.png';var iesg=false;document.body.onload = function(){window.n && window.n();if (document.images){new Image().src=src;}\n",
       "if (!iesg){document.f&&document.f.q.focus();document.gbqf&&document.gbqf.q.focus();}\n",
       "}\n",
       "})();</script><div id=\"mngb\"><div id=\"gbar\"><nobr><b class=\"gb1\">Search</b> <a class=\"gb1\" href=\"https://www.google.co.uk/imghp?hl=en&amp;tab=wi\">Images</a> <a class=\"gb1\" href=\"https://maps.google.co.uk/maps?hl=en&amp;tab=wl\">Maps</a> <a class=\"gb1\" href=\"https://play.google.com/?hl=en&amp;tab=w8\">Play</a> <a class=\"gb1\" href=\"https://www.youtube.com/?tab=w1\">YouTube</a> <a class=\"gb1\" href=\"https://news.google.com/?tab=wn\">News</a> <a class=\"gb1\" href=\"https://mail.google.com/mail/?tab=wm\">Gmail</a> <a class=\"gb1\" href=\"https://drive.google.com/?tab=wo\">Drive</a> <a class=\"gb1\" href=\"https://www.google.co.uk/intl/en/about/products?tab=wh\" style=\"text-decoration:none\"><u>More</u> »</a></nobr></div><div id=\"guser\" width=\"100%\"><nobr><span class=\"gbi\" id=\"gbn\"></span><span class=\"gbf\" id=\"gbf\"></span><span id=\"gbe\"></span><a class=\"gb4\" href=\"http://www.google.co.uk/history/optout?hl=en\">Web History</a> | <a class=\"gb4\" href=\"/preferences?hl=en\">Settings</a> | <a class=\"gb4\" href=\"https://accounts.google.com/ServiceLogin?hl=en&amp;passive=true&amp;continue=https://www.google.com/&amp;ec=GAZAAQ\" id=\"gb_70\" target=\"_top\">Sign in</a></nobr></div><div class=\"gbh\" style=\"left:0\"></div><div class=\"gbh\" style=\"right:0\"></div></div><center><br clear=\"all\" id=\"lgpd\"/><div id=\"lga\"><img alt=\"Google\" height=\"92\" id=\"hplogo\" src=\"/images/branding/googlelogo/1x/googlelogo_white_background_color_272x92dp.png\" style=\"padding:28px 0 14px\" width=\"272\"/><br/><br/></div><form action=\"/search\" name=\"f\"><table cellpadding=\"0\" cellspacing=\"0\"><tr valign=\"top\"><td width=\"25%\"> </td><td align=\"center\" nowrap=\"\"><input name=\"ie\" type=\"hidden\" value=\"ISO-8859-1\"/><input name=\"hl\" type=\"hidden\" value=\"en-GB\"/><input name=\"source\" type=\"hidden\" value=\"hp\"/><input name=\"biw\" type=\"hidden\"/><input name=\"bih\" type=\"hidden\"/><div class=\"ds\" style=\"height:32px;margin:4px 0\"><input autocomplete=\"off\" class=\"lst\" maxlength=\"2048\" name=\"q\" size=\"57\" style=\"margin:0;padding:5px 8px 0 6px;vertical-align:top;color:#000\" title=\"Google Search\" value=\"\"/></div><br style=\"line-height:0\"/><span class=\"ds\"><span class=\"lsbb\"><input class=\"lsb\" name=\"btnG\" type=\"submit\" value=\"Google Search\"/></span></span><span class=\"ds\"><span class=\"lsbb\"><input class=\"lsb\" id=\"tsuid_1\" name=\"btnI\" type=\"submit\" value=\"I'm Feeling Lucky\"/><script nonce=\"EfgTcitMa_mqtmo2H7X0OQ\">(function(){var id='tsuid_1';document.getElementById(id).onclick = function(){if (this.form.q.value){this.checked = 1;if (this.form.iflsig)this.form.iflsig.disabled = false;}\n",
       "else top.location='/doodles/';};})();</script><input name=\"iflsig\" type=\"hidden\" value=\"AK50M_UAAAAAY88G6182UrAa-5XiZbHQY9cZxm3IyQQJ\"/></span></span></td><td align=\"left\" class=\"fl sblc\" nowrap=\"\" width=\"25%\"><a href=\"/advanced_search?hl=en-GB&amp;authuser=0\">Advanced search</a></td></tr></table><input id=\"gbv\" name=\"gbv\" type=\"hidden\" value=\"1\"/><script nonce=\"EfgTcitMa_mqtmo2H7X0OQ\">(function(){var a,b=\"1\";if(document&&document.getElementById)if(\"undefined\"!=typeof XMLHttpRequest)b=\"2\";else if(\"undefined\"!=typeof ActiveXObject){var c,d,e=[\"MSXML2.XMLHTTP.6.0\",\"MSXML2.XMLHTTP.3.0\",\"MSXML2.XMLHTTP\",\"Microsoft.XMLHTTP\"];for(c=0;d=e[c++];)try{new ActiveXObject(d),b=\"2\"}catch(h){}}a=b;if(\"2\"==a&&-1==location.search.indexOf(\"&gbv=2\")){var f=google.gbvu,g=document.getElementById(\"gbv\");g&&(g.value=a);f&&window.setTimeout(function(){location.href=f},0)};}).call(this);</script></form><div id=\"gac_scont\"></div><div style=\"font-size:83%;min-height:3.5em\"><br/></div><span id=\"footer\"><div style=\"font-size:10pt\"><div id=\"WqQANb\" style=\"margin:19px auto;text-align:center\"><a href=\"/intl/en/ads/\">Advertising Programmes</a><a href=\"/services/\">Business Solutions</a><a href=\"/intl/en/about.html\">About Google</a><a href=\"https://www.google.com/setprefdomain?prefdom=GB&amp;prev=https://www.google.co.uk/&amp;sig=K__W0-rLxl0TBVeit3mB_Nhtghnrw%3D\">Google.co.uk</a></div></div><p style=\"font-size:8pt;color:#70757a\">© 2023 - <a href=\"/intl/en/policies/privacy/\">Privacy</a> - <a href=\"/intl/en/policies/terms/\">Terms</a></p></span></center><script nonce=\"EfgTcitMa_mqtmo2H7X0OQ\">(function(){window.google.cdo={height:757,width:1440};(function(){var a=window.innerWidth,b=window.innerHeight;if(!a||!b){var c=window.document,d=\"CSS1Compat\"==c.compatMode?c.documentElement:c.body;a=d.clientWidth;b=d.clientHeight}a&&b&&(a!=google.cdo.width||b!=google.cdo.height)&&google.log(\"\",\"\",\"/client_204?&atyp=i&biw=\"+a+\"&bih=\"+b+\"&ei=\"+google.kEI);}).call(this);})();</script> <script nonce=\"EfgTcitMa_mqtmo2H7X0OQ\">(function(){google.xjs={ck:'xjs.hp.L0TU2uVtv08.L.X.O',cs:'ACT90oG4OhYuSxoo3UobSMyg6f7rQ61wGw',excm:[]};})();</script> <script nonce=\"EfgTcitMa_mqtmo2H7X0OQ\">(function(){var u='/xjs/_/js/k\\x3dxjs.hp.en.KYtrkbUa1yA.O/am\\x3dAADoBABQAGAB/d\\x3d1/ed\\x3d1/rs\\x3dACT90oG9PiYKSNDk-O12Glku5QBk3NlclQ/m\\x3dsb_he,d';var amd=0;\n",
       "var d=this||self,e=function(a){return a};var g;var l=function(a,b){this.g=b===h?a:\"\"};l.prototype.toString=function(){return this.g+\"\"};var h={};\n",
       "function m(){var a=u;google.lx=function(){p(a);google.lx=function(){}};google.bx||google.lx()}\n",
       "function p(a){google.timers&&google.timers.load&&google.tick&&google.tick(\"load\",\"xjsls\");var b=document;var c=\"SCRIPT\";\"application/xhtml+xml\"===b.contentType&&(c=c.toLowerCase());c=b.createElement(c);a=null===a?\"null\":void 0===a?\"undefined\":a;if(void 0===g){b=null;var k=d.trustedTypes;if(k&&k.createPolicy){try{b=k.createPolicy(\"goog#html\",{createHTML:e,createScript:e,createScriptURL:e})}catch(q){d.console&&d.console.error(q.message)}g=b}else g=b}a=(b=g)?b.createScriptURL(a):a;a=new l(a,h);c.src=\n",
       "a instanceof l&&a.constructor===l?a.g:\"type_error:TrustedResourceUrl\";var f,n;(f=(a=null==(n=(f=(c.ownerDocument&&c.ownerDocument.defaultView||window).document).querySelector)?void 0:n.call(f,\"script[nonce]\"))?a.nonce||a.getAttribute(\"nonce\")||\"\":\"\")&&c.setAttribute(\"nonce\",f);document.body.appendChild(c);google.psa=!0};google.xjsu=u;setTimeout(function(){0<amd?google.caft(function(){return m()},amd):m()},0);})();function _DumpException(e){throw e;}\n",
       "function _F_installCss(c){}\n",
       "(function(){google.jl={blt:'none',chnk:0,dw:false,dwu:true,emtn:0,end:0,ico:false,ikb:0,ine:false,injs:'none',injt:0,injth:0,injv2:false,lls:'default',pdt:0,rep:0,snet:true,strt:0,ubm:false,uwp:true};})();(function(){var pmc='{\\x22d\\x22:{},\\x22sb_he\\x22:{\\x22agen\\x22:true,\\x22cgen\\x22:true,\\x22client\\x22:\\x22heirloom-hp\\x22,\\x22dh\\x22:true,\\x22ds\\x22:\\x22\\x22,\\x22fl\\x22:true,\\x22host\\x22:\\x22google.com\\x22,\\x22jsonp\\x22:true,\\x22msgs\\x22:{\\x22cibl\\x22:\\x22Clear Search\\x22,\\x22dym\\x22:\\x22Did you mean:\\x22,\\x22lcky\\x22:\\x22I\\\\u0026#39;m Feeling Lucky\\x22,\\x22lml\\x22:\\x22Learn more\\x22,\\x22psrc\\x22:\\x22This search was removed from your \\\\u003Ca href\\x3d\\\\\\x22/history\\\\\\x22\\\\u003EWeb History\\\\u003C/a\\\\u003E\\x22,\\x22psrl\\x22:\\x22Remove\\x22,\\x22sbit\\x22:\\x22Search by image\\x22,\\x22srch\\x22:\\x22Google Search\\x22},\\x22ovr\\x22:{},\\x22pq\\x22:\\x22\\x22,\\x22rfs\\x22:[],\\x22sbas\\x22:\\x220 3px 8px 0 rgba(0,0,0,0.2),0 0 0 1px rgba(0,0,0,0.08)\\x22,\\x22stok\\x22:\\x22RGk2W3-XxEVeLE4KyAa8PVAFINQ\\x22}}';google.pmc=JSON.parse(pmc);})();</script> </body></html>"
      ]
     },
     "execution_count": 4,
     "metadata": {},
     "output_type": "execute_result"
    }
   ],
   "source": [
    "#the html conent of the response will be in the text property\n",
    "soup = BeautifulSoup(resp.text,\"lxml\")\n",
    "soup"
   ]
  },
  {
   "cell_type": "code",
   "execution_count": 5,
   "id": "684c8719",
   "metadata": {},
   "outputs": [],
   "source": [
    "with open('GiantPanda.html') as html_code:\n",
    "    soup = BeautifulSoup(html_code,'lxml')"
   ]
  },
  {
   "cell_type": "code",
   "execution_count": 6,
   "id": "43520e94",
   "metadata": {},
   "outputs": [
    {
     "name": "stdout",
     "output_type": "stream",
     "text": [
      "<html>\n",
      " <head>\n",
      "  <title>\n",
      "   \"Giant Panda\"\n",
      "  </title>\n",
      " </head>\n",
      " <body>\n",
      "  <h1>\n",
      "   The giant panda also known as panda bear or simply panda\n",
      "  </h1>\n",
      "  <h2 style=\"color:blue;\">\n",
      "   Giant Panda\n",
      "  </h2>\n",
      "  <h3 style=\"background-color:yellow;color:red;\">\n",
      "   The name \"giant panda\" is sometimes used to distinguish it from the\n",
      "   <br/>\n",
      "   red panda.\n",
      "  </h3>\n",
      "  <h6>\n",
      "   The giant panda lives in a few mountain ranges in central China\n",
      "  </h6>\n",
      "  <b class=\"panda\">\n",
      "   pandas were thought to be rare and noble creatures\n",
      "  </b>\n",
      "  <div>\n",
      "   <a href=\"https://en.wikipedia.org/wiki/Giant_panda\">\n",
      "    Link to Wikipedia page\n",
      "   </a>\n",
      "  </div>\n",
      "  <br/>\n",
      "  <br/>\n",
      "  <i>\n",
      "   <!--Here is a Panda image from Wikipedia -->\n",
      "  </i>\n",
      "  <div>\n",
      "   <img alt=\"panda not found\" src=\"Panda.jpeg\"/>\n",
      "  </div>\n",
      "  <div>\n",
      "   <p class=\"panda highlight\">\n",
      "    Giant pandas in the wild will occasionally eat other grasses, wild tubers, or even meat in the form of birds\n",
      "   </p>\n",
      "  </div>\n",
      " </body>\n",
      "</html>\n"
     ]
    }
   ],
   "source": [
    "print(soup.prettify())"
   ]
  },
  {
   "cell_type": "code",
   "execution_count": 7,
   "id": "720f273a",
   "metadata": {},
   "outputs": [
    {
     "data": {
      "text/plain": [
       "<title>\"Giant Panda\"</title>"
      ]
     },
     "execution_count": 7,
     "metadata": {},
     "output_type": "execute_result"
    }
   ],
   "source": [
    "tag = soup.title\n",
    "tag"
   ]
  },
  {
   "cell_type": "code",
   "execution_count": 8,
   "id": "7ef58508",
   "metadata": {},
   "outputs": [
    {
     "data": {
      "text/plain": [
       "<h1>The giant panda also known as panda bear or simply panda</h1>"
      ]
     },
     "execution_count": 8,
     "metadata": {},
     "output_type": "execute_result"
    }
   ],
   "source": [
    "tag = soup.h1\n",
    "tag"
   ]
  },
  {
   "cell_type": "code",
   "execution_count": 9,
   "id": "7a283be8",
   "metadata": {},
   "outputs": [
    {
     "data": {
      "text/plain": [
       "'h1'"
      ]
     },
     "execution_count": 9,
     "metadata": {},
     "output_type": "execute_result"
    }
   ],
   "source": [
    "tag.name"
   ]
  },
  {
   "cell_type": "code",
   "execution_count": 15,
   "id": "f7684e1b",
   "metadata": {},
   "outputs": [
    {
     "data": {
      "text/plain": [
       "<h1>The giant panda also known as panda bear or simply panda</h1>"
      ]
     },
     "execution_count": 15,
     "metadata": {},
     "output_type": "execute_result"
    }
   ],
   "source": [
    "tag = soup.h1\n",
    "tag"
   ]
  },
  {
   "cell_type": "code",
   "execution_count": 16,
   "id": "16761229",
   "metadata": {},
   "outputs": [],
   "source": [
    "#soup can be used to modify the html tags as well and create a new html based on that\n",
    "tag.name = \"user_defined\""
   ]
  },
  {
   "cell_type": "code",
   "execution_count": 17,
   "id": "3e3edfb1",
   "metadata": {},
   "outputs": [
    {
     "data": {
      "text/plain": [
       "<user_defined>The giant panda also known as panda bear or simply panda</user_defined>"
      ]
     },
     "execution_count": 17,
     "metadata": {},
     "output_type": "execute_result"
    }
   ],
   "source": [
    "tag"
   ]
  },
  {
   "cell_type": "code",
   "execution_count": 18,
   "id": "2bae32ae",
   "metadata": {
    "scrolled": true
   },
   "outputs": [
    {
     "data": {
      "text/plain": [
       "<a href=\"https://en.wikipedia.org/wiki/Giant_panda\"> Link to Wikipedia page </a>"
      ]
     },
     "execution_count": 18,
     "metadata": {},
     "output_type": "execute_result"
    }
   ],
   "source": [
    "tag = soup.a\n",
    "tag"
   ]
  },
  {
   "cell_type": "code",
   "execution_count": 19,
   "id": "200c554a",
   "metadata": {},
   "outputs": [
    {
     "data": {
      "text/plain": [
       "'https://en.wikipedia.org/wiki/Giant_panda'"
      ]
     },
     "execution_count": 19,
     "metadata": {},
     "output_type": "execute_result"
    }
   ],
   "source": [
    "#the attribute can be fetched using the square brackets\n",
    "tag['href']\n"
   ]
  }
 ],
 "metadata": {
  "kernelspec": {
   "display_name": "Python 3 (ipykernel)",
   "language": "python",
   "name": "python3"
  },
  "language_info": {
   "codemirror_mode": {
    "name": "ipython",
    "version": 3
   },
   "file_extension": ".py",
   "mimetype": "text/x-python",
   "name": "python",
   "nbconvert_exporter": "python",
   "pygments_lexer": "ipython3",
   "version": "3.11.1"
  }
 },
 "nbformat": 4,
 "nbformat_minor": 5
}
