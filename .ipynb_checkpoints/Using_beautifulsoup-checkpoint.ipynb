{
 "cells": [
  {
   "cell_type": "code",
   "execution_count": 1,
   "id": "b581ac52",
   "metadata": {},
   "outputs": [
    {
     "name": "stdout",
     "output_type": "stream",
     "text": [
      "Requirement already satisfied: BeautifulSoup4 in c:\\users\\krrah\\appdata\\local\\programs\\python\\python311\\lib\\site-packages (4.11.1)\n",
      "Requirement already satisfied: soupsieve>1.2 in c:\\users\\krrah\\appdata\\local\\programs\\python\\python311\\lib\\site-packages (from BeautifulSoup4) (2.3.2.post1)\n"
     ]
    }
   ],
   "source": [
    "!pip install BeautifulSoup4"
   ]
  },
  {
   "cell_type": "code",
   "execution_count": 2,
   "id": "a5eb562e",
   "metadata": {},
   "outputs": [
    {
     "name": "stdout",
     "output_type": "stream",
     "text": [
      "Requirement already satisfied: lxml in c:\\users\\krrah\\appdata\\local\\programs\\python\\python311\\lib\\site-packages (4.9.2)\n"
     ]
    }
   ],
   "source": [
    "!pip install lxml"
   ]
  },
  {
   "cell_type": "code",
   "execution_count": 3,
   "id": "f85e1162",
   "metadata": {},
   "outputs": [
    {
     "name": "stdout",
     "output_type": "stream",
     "text": [
      "Requirement already satisfied: html5lib in c:\\users\\krrah\\appdata\\local\\programs\\python\\python311\\lib\\site-packages (1.1)\n",
      "Requirement already satisfied: six>=1.9 in c:\\users\\krrah\\appdata\\local\\programs\\python\\python311\\lib\\site-packages (from html5lib) (1.16.0)\n",
      "Requirement already satisfied: webencodings in c:\\users\\krrah\\appdata\\local\\programs\\python\\python311\\lib\\site-packages (from html5lib) (0.5.1)\n"
     ]
    }
   ],
   "source": [
    "!pip install html5lib"
   ]
  },
  {
   "cell_type": "code",
   "execution_count": 66,
   "id": "f9fe0a71",
   "metadata": {},
   "outputs": [],
   "source": [
    "import requests\n",
    "import webbrowser\n",
    "\n",
    "from bs4 import SoupStrainer, BeautifulSoup"
   ]
  },
  {
   "cell_type": "code",
   "execution_count": 5,
   "id": "11cff600",
   "metadata": {},
   "outputs": [],
   "source": [
    "html = \"\"\"\n",
    "    <h1><a /><b><th <td>\n",
    "\"\"\""
   ]
  },
  {
   "cell_type": "code",
   "execution_count": 6,
   "id": "ef5c131d",
   "metadata": {},
   "outputs": [
    {
     "name": "stdout",
     "output_type": "stream",
     "text": [
      "<html>\n",
      " <body>\n",
      "  <h1>\n",
      "   <a>\n",
      "   </a>\n",
      "   <b>\n",
      "   </b>\n",
      "   <th>\n",
      "   </th>\n",
      "  </h1>\n",
      " </body>\n",
      "</html>\n"
     ]
    }
   ],
   "source": [
    "soup = BeautifulSoup(html)\n",
    "print(soup.prettify())"
   ]
  },
  {
   "cell_type": "code",
   "execution_count": 7,
   "id": "941968fd",
   "metadata": {},
   "outputs": [
    {
     "data": {
      "text/plain": [
       "<body><h1><a></a><b></b><th>\n",
       "</th></h1></body>"
      ]
     },
     "execution_count": 7,
     "metadata": {},
     "output_type": "execute_result"
    }
   ],
   "source": [
    "soup.body"
   ]
  },
  {
   "cell_type": "code",
   "execution_count": 8,
   "id": "e9d9ed97",
   "metadata": {},
   "outputs": [
    {
     "data": {
      "text/plain": [
       "'html'"
      ]
     },
     "execution_count": 8,
     "metadata": {},
     "output_type": "execute_result"
    }
   ],
   "source": [
    "soup.body.parent.name"
   ]
  },
  {
   "cell_type": "code",
   "execution_count": 9,
   "id": "eb2f0707",
   "metadata": {},
   "outputs": [],
   "source": [
    "soup = BeautifulSoup(html,'html5lib')"
   ]
  },
  {
   "cell_type": "code",
   "execution_count": 10,
   "id": "9b00585c",
   "metadata": {},
   "outputs": [],
   "source": [
    "soup = BeautifulSoup(html,'xml')"
   ]
  },
  {
   "cell_type": "code",
   "execution_count": 11,
   "id": "26360392",
   "metadata": {},
   "outputs": [],
   "source": [
    "soup = BeautifulSoup(html,'lxml-xml')"
   ]
  },
  {
   "cell_type": "code",
   "execution_count": 12,
   "id": "92c50307",
   "metadata": {},
   "outputs": [
    {
     "data": {
      "text/plain": [
       "<Response [200]>"
      ]
     },
     "execution_count": 12,
     "metadata": {},
     "output_type": "execute_result"
    }
   ],
   "source": [
    "resp = requests.get(\"https://google.com\")\n",
    "resp"
   ]
  },
  {
   "cell_type": "code",
   "execution_count": 13,
   "id": "6f624aeb",
   "metadata": {},
   "outputs": [
    {
     "data": {
      "text/plain": [
       "<!DOCTYPE html>\n",
       "<html itemscope=\"\" itemtype=\"http://schema.org/WebPage\" lang=\"en-GB\"><head><meta content=\"text/html; charset=utf-8\" http-equiv=\"Content-Type\"/><meta content=\"/images/branding/googleg/1x/googleg_standard_color_128dp.png\" itemprop=\"image\"/><title>Google</title><script nonce=\"FTir3XOQEfRDPXsJ5noyhg\">(function(){window.google={kEI:'KnrRY6-VEofZgAahh6SIAQ',kEXPI:'0,1359409,6059,206,4804,2316,383,246,5,1129120,1197793,98,503,380097,16114,19397,9287,22430,1362,12317,17582,4998,13228,3847,10622,22743,5079,1593,1279,2742,149,1103,840,2196,4101,3514,606,2023,2297,14670,3227,2845,7,5599,23476,4696,1849,2615,13142,3,346,230,1014,1,5445,148,11323,2652,4,1528,2304,7039,20309,14778,13659,13795,7428,5803,2554,4094,4052,3,3541,1,39047,2,3108,2,14019,2715,23024,5679,1021,31121,4569,6258,23417,1247,5841,12137,2830,4333,7484,25076,2006,8155,405,6976,2,1477,14491,872,18755,879,8,1921,5784,3995,13880,7511,9931,4832,8311,18192,11814,8419,4641,6618,8947,1622,1779,669,3182,1125,8990,700,2775,2426,721,462,559,2355,551,2704,564,2,37,526,991,782,1753,495,427,1033,333,2669,723,144,12,769,1411,20,3,867,2261,3768,1376,947,857,74,29,927,795,1847,1211,1037,329,276,261,764,184,476,4,1001,1252,5,270,1379,88,20,67,292,104,57,161,84,238,125,131,315,3,171,2,234,1161,597,840,574,3332,6,3,346,1125,378,415,292,963,117,949,2,3,17,2,3,1042,27,427,2466,3208,132,80,2,354,14,7,114,62,1412,309,1720,521,261,429,1366,252,1,187,88,5,693,1074,85,224,3,997,418,59,1,597,76,7,525,1095,378,30,57,527,51,451,336,50,22,692,108,5265824,12,87,244,6,5995533,2803310,3311,141,795,19735,1,1,346,3924,23647374,299187,4042142,1964,14297,2376,3405,9440,8643',kBL:'m-wt'};google.sn='webhp';google.kHL='en-GB';})();(function(){\n",
       "var f=this||self;var h,k=[];function l(a){for(var b;a&&(!a.getAttribute||!(b=a.getAttribute(\"eid\")));)a=a.parentNode;return b||h}function m(a){for(var b=null;a&&(!a.getAttribute||!(b=a.getAttribute(\"leid\")));)a=a.parentNode;return b}\n",
       "function n(a,b,c,d,g){var e=\"\";c||-1!==b.search(\"&ei=\")||(e=\"&ei=\"+l(d),-1===b.search(\"&lei=\")&&(d=m(d))&&(e+=\"&lei=\"+d));d=\"\";!c&&f._cshid&&-1===b.search(\"&cshid=\")&&\"slh\"!==a&&(d=\"&cshid=\"+f._cshid);c=c||\"/\"+(g||\"gen_204\")+\"?atyp=i&ct=\"+a+\"&cad=\"+b+e+\"&zx=\"+Date.now()+d;/^http:/i.test(c)&&\"https:\"===window.location.protocol&&(google.ml&&google.ml(Error(\"a\"),!1,{src:c,glmm:1}),c=\"\");return c};h=google.kEI;google.getEI=l;google.getLEI=m;google.ml=function(){return null};google.log=function(a,b,c,d,g){if(c=n(a,b,c,d,g)){a=new Image;var e=k.length;k[e]=a;a.onerror=a.onload=a.onabort=function(){delete k[e]};a.src=c}};google.logUrl=n;}).call(this);(function(){google.y={};google.sy=[];google.x=function(a,b){if(a)var c=a.id;else{do c=Math.random();while(google.y[c])}google.y[c]=[a,b];return!1};google.sx=function(a){google.sy.push(a)};google.lm=[];google.plm=function(a){google.lm.push.apply(google.lm,a)};google.lq=[];google.load=function(a,b,c){google.lq.push([[a],b,c])};google.loadAll=function(a,b){google.lq.push([a,b])};google.bx=!1;google.lx=function(){};}).call(this);google.f={};(function(){\n",
       "document.documentElement.addEventListener(\"submit\",function(b){var a;if(a=b.target){var c=a.getAttribute(\"data-submitfalse\");a=\"1\"===c||\"q\"===c&&!a.elements.q.value?!0:!1}else a=!1;a&&(b.preventDefault(),b.stopPropagation())},!0);document.documentElement.addEventListener(\"click\",function(b){var a;a:{for(a=b.target;a&&a!==document.documentElement;a=a.parentElement)if(\"A\"===a.tagName){a=\"1\"===a.getAttribute(\"data-nohref\");break a}a=!1}a&&b.preventDefault()},!0);}).call(this);</script><style>#gbar,#guser{font-size:13px;padding-top:1px !important;}#gbar{height:22px}#guser{padding-bottom:7px !important;text-align:right}.gbh,.gbd{border-top:1px solid #c9d7f1;font-size:1px}.gbh{height:0;position:absolute;top:24px;width:100%}@media all{.gb1{height:22px;margin-right:.5em;vertical-align:top}#gbar{float:left}}a.gb1,a.gb4{text-decoration:underline !important}a.gb1,a.gb4{color:#00c !important}.gbi .gb4{color:#dd8e27 !important}.gbf .gb4{color:#900 !important}\n",
       "</style><style>body,td,a,p,.h{font-family:arial,sans-serif}body{margin:0;overflow-y:scroll}#gog{padding:3px 8px 0}td{line-height:.8em}.gac_m td{line-height:17px}form{margin-bottom:20px}.h{color:#1558d6}em{font-weight:bold;font-style:normal}.lst{height:25px;width:496px}.gsfi,.lst{font:18px arial,sans-serif}.gsfs{font:17px arial,sans-serif}.ds{display:inline-box;display:inline-block;margin:3px 0 4px;margin-left:4px}input{font-family:inherit}body{background:#fff;color:#000}a{color:#4b11a8;text-decoration:none}a:hover,a:active{text-decoration:underline}.fl a{color:#1558d6}a:visited{color:#4b11a8}.sblc{padding-top:5px}.sblc a{display:block;margin:2px 0;margin-left:13px;font-size:11px}.lsbb{background:#f8f9fa;border:solid 1px;border-color:#dadce0 #70757a #70757a #dadce0;height:30px}.lsbb{display:block}#WqQANb a{display:inline-block;margin:0 12px}.lsb{background:url(/images/nav_logo229.png) 0 -261px repeat-x;border:none;color:#000;cursor:pointer;height:30px;margin:0;outline:0;font:15px arial,sans-serif;vertical-align:top}.lsb:active{background:#dadce0}.lst:focus{outline:none}</style><script nonce=\"FTir3XOQEfRDPXsJ5noyhg\">(function(){window.google.erd={jsr:1,bv:1728,de:true};\n",
       "var h=this||self;var k,l=null!=(k=h.mei)?k:1,n,p=null!=(n=h.sdo)?n:!0,q=0,r,t=google.erd,v=t.jsr;google.ml=function(a,b,d,m,e){e=void 0===e?2:e;b&&(r=a&&a.message);if(google.dl)return google.dl(a,e,d),null;if(0>v){window.console&&console.error(a,d);if(-2===v)throw a;b=!1}else b=!a||!a.message||\"Error loading script\"===a.message||q>=l&&!m?!1:!0;if(!b)return null;q++;d=d||{};b=encodeURIComponent;var c=\"/gen_204?atyp=i&ei=\"+b(google.kEI);google.kEXPI&&(c+=\"&jexpid=\"+b(google.kEXPI));c+=\"&srcpg=\"+b(google.sn)+\"&jsr=\"+b(t.jsr)+\"&bver=\"+b(t.bv);var f=a.lineNumber;void 0!==f&&(c+=\"&line=\"+f);var g=\n",
       "a.fileName;g&&(0<g.indexOf(\"-extension:/\")&&(e=3),c+=\"&script=\"+b(g),f&&g===window.location.href&&(f=document.documentElement.outerHTML.split(\"\\n\")[f],c+=\"&cad=\"+b(f?f.substring(0,300):\"No script found.\")));c+=\"&jsel=\"+e;for(var u in d)c+=\"&\",c+=b(u),c+=\"=\",c+=b(d[u]);c=c+\"&emsg=\"+b(a.name+\": \"+a.message);c=c+\"&jsst=\"+b(a.stack||\"N/A\");12288<=c.length&&(c=c.substr(0,12288));a=c;m||google.log(0,\"\",a);return a};window.onerror=function(a,b,d,m,e){r!==a&&(a=e instanceof Error?e:Error(a),void 0===d||\"lineNumber\"in a||(a.lineNumber=d),void 0===b||\"fileName\"in a||(a.fileName=b),google.ml(a,!1,void 0,!1,\"SyntaxError\"===a.name||\"SyntaxError\"===a.message.substring(0,11)||-1!==a.message.indexOf(\"Script error\")?3:0));r=null;p&&q>=l&&(window.onerror=null)};})();</script></head><body bgcolor=\"#fff\"><script nonce=\"FTir3XOQEfRDPXsJ5noyhg\">(function(){var src='/images/nav_logo229.png';var iesg=false;document.body.onload = function(){window.n && window.n();if (document.images){new Image().src=src;}\n",
       "if (!iesg){document.f&&document.f.q.focus();document.gbqf&&document.gbqf.q.focus();}\n",
       "}\n",
       "})();</script><div id=\"mngb\"><div id=\"gbar\"><nobr><b class=\"gb1\">Search</b> <a class=\"gb1\" href=\"https://www.google.co.uk/imghp?hl=en&amp;tab=wi\">Images</a> <a class=\"gb1\" href=\"https://maps.google.co.uk/maps?hl=en&amp;tab=wl\">Maps</a> <a class=\"gb1\" href=\"https://play.google.com/?hl=en&amp;tab=w8\">Play</a> <a class=\"gb1\" href=\"https://www.youtube.com/?tab=w1\">YouTube</a> <a class=\"gb1\" href=\"https://news.google.com/?tab=wn\">News</a> <a class=\"gb1\" href=\"https://mail.google.com/mail/?tab=wm\">Gmail</a> <a class=\"gb1\" href=\"https://drive.google.com/?tab=wo\">Drive</a> <a class=\"gb1\" href=\"https://www.google.co.uk/intl/en/about/products?tab=wh\" style=\"text-decoration:none\"><u>More</u> »</a></nobr></div><div id=\"guser\" width=\"100%\"><nobr><span class=\"gbi\" id=\"gbn\"></span><span class=\"gbf\" id=\"gbf\"></span><span id=\"gbe\"></span><a class=\"gb4\" href=\"http://www.google.co.uk/history/optout?hl=en\">Web History</a> | <a class=\"gb4\" href=\"/preferences?hl=en\">Settings</a> | <a class=\"gb4\" href=\"https://accounts.google.com/ServiceLogin?hl=en&amp;passive=true&amp;continue=https://www.google.com/&amp;ec=GAZAAQ\" id=\"gb_70\" target=\"_top\">Sign in</a></nobr></div><div class=\"gbh\" style=\"left:0\"></div><div class=\"gbh\" style=\"right:0\"></div></div><center><br clear=\"all\" id=\"lgpd\"/><div id=\"lga\"><img alt=\"Google\" height=\"92\" id=\"hplogo\" src=\"/images/branding/googlelogo/1x/googlelogo_white_background_color_272x92dp.png\" style=\"padding:28px 0 14px\" width=\"272\"/><br/><br/></div><form action=\"/search\" name=\"f\"><table cellpadding=\"0\" cellspacing=\"0\"><tr valign=\"top\"><td width=\"25%\"> </td><td align=\"center\" nowrap=\"\"><input name=\"ie\" type=\"hidden\" value=\"ISO-8859-1\"/><input name=\"hl\" type=\"hidden\" value=\"en-GB\"/><input name=\"source\" type=\"hidden\" value=\"hp\"/><input name=\"biw\" type=\"hidden\"/><input name=\"bih\" type=\"hidden\"/><div class=\"ds\" style=\"height:32px;margin:4px 0\"><input autocomplete=\"off\" class=\"lst\" maxlength=\"2048\" name=\"q\" size=\"57\" style=\"margin:0;padding:5px 8px 0 6px;vertical-align:top;color:#000\" title=\"Google Search\" value=\"\"/></div><br style=\"line-height:0\"/><span class=\"ds\"><span class=\"lsbb\"><input class=\"lsb\" name=\"btnG\" type=\"submit\" value=\"Google Search\"/></span></span><span class=\"ds\"><span class=\"lsbb\"><input class=\"lsb\" id=\"tsuid_1\" name=\"btnI\" type=\"submit\" value=\"I'm Feeling Lucky\"/><script nonce=\"FTir3XOQEfRDPXsJ5noyhg\">(function(){var id='tsuid_1';document.getElementById(id).onclick = function(){if (this.form.q.value){this.checked = 1;if (this.form.iflsig)this.form.iflsig.disabled = false;}\n",
       "else top.location='/doodles/';};})();</script><input name=\"iflsig\" type=\"hidden\" value=\"AK50M_UAAAAAY9GIOkrzLmwReFIbG2O3V3GE04Ew0Jig\"/></span></span></td><td align=\"left\" class=\"fl sblc\" nowrap=\"\" width=\"25%\"><a href=\"/advanced_search?hl=en-GB&amp;authuser=0\">Advanced search</a></td></tr></table><input id=\"gbv\" name=\"gbv\" type=\"hidden\" value=\"1\"/><script nonce=\"FTir3XOQEfRDPXsJ5noyhg\">(function(){var a,b=\"1\";if(document&&document.getElementById)if(\"undefined\"!=typeof XMLHttpRequest)b=\"2\";else if(\"undefined\"!=typeof ActiveXObject){var c,d,e=[\"MSXML2.XMLHTTP.6.0\",\"MSXML2.XMLHTTP.3.0\",\"MSXML2.XMLHTTP\",\"Microsoft.XMLHTTP\"];for(c=0;d=e[c++];)try{new ActiveXObject(d),b=\"2\"}catch(h){}}a=b;if(\"2\"==a&&-1==location.search.indexOf(\"&gbv=2\")){var f=google.gbvu,g=document.getElementById(\"gbv\");g&&(g.value=a);f&&window.setTimeout(function(){location.href=f},0)};}).call(this);</script></form><div id=\"gac_scont\"></div><div style=\"font-size:83%;min-height:3.5em\"><br/></div><span id=\"footer\"><div style=\"font-size:10pt\"><div id=\"WqQANb\" style=\"margin:19px auto;text-align:center\"><a href=\"/intl/en/ads/\">Advertising Programmes</a><a href=\"/services/\">Business Solutions</a><a href=\"/intl/en/about.html\">About Google</a><a href=\"https://www.google.com/setprefdomain?prefdom=GB&amp;prev=https://www.google.co.uk/&amp;sig=K_0yIUOuCfqTKkzLBttXuXou49zUQ%3D\">Google.co.uk</a></div></div><p style=\"font-size:8pt;color:#70757a\">© 2023 - <a href=\"/intl/en/policies/privacy/\">Privacy</a> - <a href=\"/intl/en/policies/terms/\">Terms</a></p></span></center><script nonce=\"FTir3XOQEfRDPXsJ5noyhg\">(function(){window.google.cdo={height:757,width:1440};(function(){var a=window.innerWidth,b=window.innerHeight;if(!a||!b){var c=window.document,d=\"CSS1Compat\"==c.compatMode?c.documentElement:c.body;a=d.clientWidth;b=d.clientHeight}a&&b&&(a!=google.cdo.width||b!=google.cdo.height)&&google.log(\"\",\"\",\"/client_204?&atyp=i&biw=\"+a+\"&bih=\"+b+\"&ei=\"+google.kEI);}).call(this);})();</script> <script nonce=\"FTir3XOQEfRDPXsJ5noyhg\">(function(){google.xjs={ck:'xjs.hp.L0TU2uVtv08.L.X.O',cs:'ACT90oG4OhYuSxoo3UobSMyg6f7rQ61wGw',excm:[]};})();</script> <script nonce=\"FTir3XOQEfRDPXsJ5noyhg\">(function(){var u='/xjs/_/js/k\\x3dxjs.hp.en.KYtrkbUa1yA.O/am\\x3dAADoBABQAGAB/d\\x3d1/ed\\x3d1/rs\\x3dACT90oG9PiYKSNDk-O12Glku5QBk3NlclQ/m\\x3dsb_he,d';var amd=0;\n",
       "var d=this||self,e=function(a){return a};var g;var l=function(a,b){this.g=b===h?a:\"\"};l.prototype.toString=function(){return this.g+\"\"};var h={};\n",
       "function m(){var a=u;google.lx=function(){p(a);google.lx=function(){}};google.bx||google.lx()}\n",
       "function p(a){google.timers&&google.timers.load&&google.tick&&google.tick(\"load\",\"xjsls\");var b=document;var c=\"SCRIPT\";\"application/xhtml+xml\"===b.contentType&&(c=c.toLowerCase());c=b.createElement(c);a=null===a?\"null\":void 0===a?\"undefined\":a;if(void 0===g){b=null;var k=d.trustedTypes;if(k&&k.createPolicy){try{b=k.createPolicy(\"goog#html\",{createHTML:e,createScript:e,createScriptURL:e})}catch(q){d.console&&d.console.error(q.message)}g=b}else g=b}a=(b=g)?b.createScriptURL(a):a;a=new l(a,h);c.src=\n",
       "a instanceof l&&a.constructor===l?a.g:\"type_error:TrustedResourceUrl\";var f,n;(f=(a=null==(n=(f=(c.ownerDocument&&c.ownerDocument.defaultView||window).document).querySelector)?void 0:n.call(f,\"script[nonce]\"))?a.nonce||a.getAttribute(\"nonce\")||\"\":\"\")&&c.setAttribute(\"nonce\",f);document.body.appendChild(c);google.psa=!0};google.xjsu=u;setTimeout(function(){0<amd?google.caft(function(){return m()},amd):m()},0);})();function _DumpException(e){throw e;}\n",
       "function _F_installCss(c){}\n",
       "(function(){google.jl={blt:'none',chnk:0,dw:false,dwu:true,emtn:0,end:0,ico:false,ikb:0,ine:false,injs:'none',injt:0,injth:0,injv2:false,lls:'default',pdt:0,rep:0,snet:true,strt:0,ubm:false,uwp:true};})();(function(){var pmc='{\\x22d\\x22:{},\\x22sb_he\\x22:{\\x22agen\\x22:true,\\x22cgen\\x22:true,\\x22client\\x22:\\x22heirloom-hp\\x22,\\x22dh\\x22:true,\\x22ds\\x22:\\x22\\x22,\\x22fl\\x22:true,\\x22host\\x22:\\x22google.com\\x22,\\x22jsonp\\x22:true,\\x22msgs\\x22:{\\x22cibl\\x22:\\x22Clear Search\\x22,\\x22dym\\x22:\\x22Did you mean:\\x22,\\x22lcky\\x22:\\x22I\\\\u0026#39;m Feeling Lucky\\x22,\\x22lml\\x22:\\x22Learn more\\x22,\\x22psrc\\x22:\\x22This search was removed from your \\\\u003Ca href\\x3d\\\\\\x22/history\\\\\\x22\\\\u003EWeb History\\\\u003C/a\\\\u003E\\x22,\\x22psrl\\x22:\\x22Remove\\x22,\\x22sbit\\x22:\\x22Search by image\\x22,\\x22srch\\x22:\\x22Google Search\\x22},\\x22ovr\\x22:{},\\x22pq\\x22:\\x22\\x22,\\x22rfs\\x22:[],\\x22sbas\\x22:\\x220 3px 8px 0 rgba(0,0,0,0.2),0 0 0 1px rgba(0,0,0,0.08)\\x22,\\x22stok\\x22:\\x22tR1jbnqibQXUPcuh41yMSxnH3fk\\x22}}';google.pmc=JSON.parse(pmc);})();</script> </body></html>"
      ]
     },
     "execution_count": 13,
     "metadata": {},
     "output_type": "execute_result"
    }
   ],
   "source": [
    "#the html conent of the response will be in the text property\n",
    "soup = BeautifulSoup(resp.text,\"lxml\")\n",
    "soup"
   ]
  },
  {
   "cell_type": "code",
   "execution_count": 14,
   "id": "684c8719",
   "metadata": {},
   "outputs": [],
   "source": [
    "with open('GiantPanda.html') as html_code:\n",
    "    soup = BeautifulSoup(html_code,'lxml')"
   ]
  },
  {
   "cell_type": "code",
   "execution_count": 15,
   "id": "43520e94",
   "metadata": {},
   "outputs": [
    {
     "name": "stdout",
     "output_type": "stream",
     "text": [
      "<html>\n",
      " <head>\n",
      "  <title>\n",
      "   \"Giant Panda\"\n",
      "  </title>\n",
      " </head>\n",
      " <body>\n",
      "  <h1>\n",
      "   The giant panda also known as panda bear or simply panda\n",
      "  </h1>\n",
      "  <h2 style=\"color:blue;\">\n",
      "   Giant Panda\n",
      "  </h2>\n",
      "  <h3 style=\"background-color:yellow;color:red;\">\n",
      "   The name \"giant panda\" is sometimes used to distinguish it from the\n",
      "   <br/>\n",
      "   red panda.\n",
      "  </h3>\n",
      "  <h6>\n",
      "   The giant panda lives in a few mountain ranges in central China\n",
      "  </h6>\n",
      "  <b class=\"panda\">\n",
      "   pandas were thought to be rare and noble creatures\n",
      "  </b>\n",
      "  <div>\n",
      "   <a href=\"https://en.wikipedia.org/wiki/Giant_panda\">\n",
      "    Link to Wikipedia page\n",
      "   </a>\n",
      "  </div>\n",
      "  <br/>\n",
      "  <br/>\n",
      "  <i>\n",
      "   <!--Here is a Panda image from Wikipedia -->\n",
      "  </i>\n",
      "  <div>\n",
      "   <img alt=\"panda not found\" src=\"Panda.jpeg\"/>\n",
      "  </div>\n",
      "  <div>\n",
      "   <p class=\"panda highlight\">\n",
      "    Giant pandas in the wild will occasionally eat other grasses, wild tubers, or even meat in the form of birds\n",
      "   </p>\n",
      "  </div>\n",
      " </body>\n",
      "</html>\n"
     ]
    }
   ],
   "source": [
    "print(soup.prettify())"
   ]
  },
  {
   "cell_type": "code",
   "execution_count": 16,
   "id": "720f273a",
   "metadata": {},
   "outputs": [
    {
     "data": {
      "text/plain": [
       "<title>\"Giant Panda\"</title>"
      ]
     },
     "execution_count": 16,
     "metadata": {},
     "output_type": "execute_result"
    }
   ],
   "source": [
    "tag = soup.title\n",
    "tag"
   ]
  },
  {
   "cell_type": "code",
   "execution_count": 17,
   "id": "7ef58508",
   "metadata": {},
   "outputs": [
    {
     "data": {
      "text/plain": [
       "<h1>The giant panda also known as panda bear or simply panda</h1>"
      ]
     },
     "execution_count": 17,
     "metadata": {},
     "output_type": "execute_result"
    }
   ],
   "source": [
    "tag = soup.h1\n",
    "tag"
   ]
  },
  {
   "cell_type": "code",
   "execution_count": 18,
   "id": "7a283be8",
   "metadata": {},
   "outputs": [
    {
     "data": {
      "text/plain": [
       "'h1'"
      ]
     },
     "execution_count": 18,
     "metadata": {},
     "output_type": "execute_result"
    }
   ],
   "source": [
    "tag.name"
   ]
  },
  {
   "cell_type": "code",
   "execution_count": 19,
   "id": "f7684e1b",
   "metadata": {},
   "outputs": [
    {
     "data": {
      "text/plain": [
       "<h1>The giant panda also known as panda bear or simply panda</h1>"
      ]
     },
     "execution_count": 19,
     "metadata": {},
     "output_type": "execute_result"
    }
   ],
   "source": [
    "tag = soup.h1\n",
    "tag"
   ]
  },
  {
   "cell_type": "code",
   "execution_count": 20,
   "id": "16761229",
   "metadata": {},
   "outputs": [],
   "source": [
    "#soup can be used to modify the html tags as well and create a new html based on that\n",
    "tag.name = \"user_defined\""
   ]
  },
  {
   "cell_type": "code",
   "execution_count": 21,
   "id": "3e3edfb1",
   "metadata": {},
   "outputs": [
    {
     "data": {
      "text/plain": [
       "<user_defined>The giant panda also known as panda bear or simply panda</user_defined>"
      ]
     },
     "execution_count": 21,
     "metadata": {},
     "output_type": "execute_result"
    }
   ],
   "source": [
    "tag"
   ]
  },
  {
   "cell_type": "code",
   "execution_count": 22,
   "id": "2bae32ae",
   "metadata": {
    "scrolled": true
   },
   "outputs": [
    {
     "data": {
      "text/plain": [
       "<a href=\"https://en.wikipedia.org/wiki/Giant_panda\"> Link to Wikipedia page </a>"
      ]
     },
     "execution_count": 22,
     "metadata": {},
     "output_type": "execute_result"
    }
   ],
   "source": [
    "tag = soup.a\n",
    "tag"
   ]
  },
  {
   "cell_type": "code",
   "execution_count": 23,
   "id": "200c554a",
   "metadata": {},
   "outputs": [
    {
     "data": {
      "text/plain": [
       "'https://en.wikipedia.org/wiki/Giant_panda'"
      ]
     },
     "execution_count": 23,
     "metadata": {},
     "output_type": "execute_result"
    }
   ],
   "source": [
    "#the attribute can be fetched using the square brackets\n",
    "tag['href']\n"
   ]
  },
  {
   "cell_type": "code",
   "execution_count": 24,
   "id": "58b41438",
   "metadata": {},
   "outputs": [
    {
     "data": {
      "text/plain": [
       "{'href': 'https://en.wikipedia.org/wiki/Giant_panda'}"
      ]
     },
     "execution_count": 24,
     "metadata": {},
     "output_type": "execute_result"
    }
   ],
   "source": [
    "tag.attrs"
   ]
  },
  {
   "cell_type": "code",
   "execution_count": 25,
   "id": "758b7d97",
   "metadata": {},
   "outputs": [
    {
     "data": {
      "text/plain": [
       "<img alt=\"panda not found\" src=\"Panda.jpeg\"/>"
      ]
     },
     "execution_count": 25,
     "metadata": {},
     "output_type": "execute_result"
    }
   ],
   "source": [
    "tag = soup.img\n",
    "tag"
   ]
  },
  {
   "cell_type": "code",
   "execution_count": 26,
   "id": "f4d13ac4",
   "metadata": {},
   "outputs": [
    {
     "data": {
      "text/plain": [
       "{'src': 'Panda.jpeg', 'alt': 'panda not found'}"
      ]
     },
     "execution_count": 26,
     "metadata": {},
     "output_type": "execute_result"
    }
   ],
   "source": [
    "tag.attrs"
   ]
  },
  {
   "cell_type": "code",
   "execution_count": 27,
   "id": "c6128fe6",
   "metadata": {},
   "outputs": [],
   "source": [
    "tag = soup.p"
   ]
  },
  {
   "cell_type": "code",
   "execution_count": 28,
   "id": "12e37778",
   "metadata": {},
   "outputs": [
    {
     "data": {
      "text/plain": [
       "<p class=\"panda highlight\">Giant pandas in the wild will occasionally eat other grasses, wild tubers, or even meat in the form of birds</p>"
      ]
     },
     "execution_count": 28,
     "metadata": {},
     "output_type": "execute_result"
    }
   ],
   "source": [
    "tag"
   ]
  },
  {
   "cell_type": "code",
   "execution_count": 29,
   "id": "8918af9e",
   "metadata": {},
   "outputs": [
    {
     "data": {
      "text/plain": [
       "['panda', 'highlight']"
      ]
     },
     "execution_count": 29,
     "metadata": {},
     "output_type": "execute_result"
    }
   ],
   "source": [
    "tag['class']"
   ]
  },
  {
   "cell_type": "code",
   "execution_count": 30,
   "id": "d216ac59",
   "metadata": {},
   "outputs": [
    {
     "data": {
      "text/plain": [
       "['panda', 'highlight']"
      ]
     },
     "execution_count": 30,
     "metadata": {},
     "output_type": "execute_result"
    }
   ],
   "source": [
    "tag.get_attribute_list('class')"
   ]
  },
  {
   "cell_type": "code",
   "execution_count": 31,
   "id": "6846c1db",
   "metadata": {},
   "outputs": [
    {
     "data": {
      "text/plain": [
       "'Giant pandas in the wild will occasionally eat other grasses, wild tubers, or even meat in the form of birds'"
      ]
     },
     "execution_count": 31,
     "metadata": {},
     "output_type": "execute_result"
    }
   ],
   "source": [
    "tag.string"
   ]
  },
  {
   "cell_type": "code",
   "execution_count": 32,
   "id": "81773e36",
   "metadata": {},
   "outputs": [
    {
     "data": {
      "text/plain": [
       "bs4.element.NavigableString"
      ]
     },
     "execution_count": 32,
     "metadata": {},
     "output_type": "execute_result"
    }
   ],
   "source": [
    "type(tag.string)"
   ]
  },
  {
   "cell_type": "code",
   "execution_count": 33,
   "id": "60eb1bdf",
   "metadata": {},
   "outputs": [
    {
     "data": {
      "text/plain": [
       "<i><!--Here is a Panda image from Wikipedia --></i>"
      ]
     },
     "execution_count": 33,
     "metadata": {},
     "output_type": "execute_result"
    }
   ],
   "source": [
    "#i is the comments of the html\n",
    "tag = soup.i\n",
    "tag"
   ]
  },
  {
   "cell_type": "code",
   "execution_count": 34,
   "id": "9e7957f7",
   "metadata": {},
   "outputs": [],
   "source": [
    "import re"
   ]
  },
  {
   "cell_type": "code",
   "execution_count": 37,
   "id": "0f1bb8a7",
   "metadata": {},
   "outputs": [],
   "source": [
    "with open('TomJerry_Story.html') as html_code:\n",
    "    soup = BeautifulSoup(html_code,'lxml')"
   ]
  },
  {
   "cell_type": "code",
   "execution_count": 38,
   "id": "2c55a6c2",
   "metadata": {},
   "outputs": [
    {
     "name": "stdout",
     "output_type": "stream",
     "text": [
      "<html>\n",
      " <head>\n",
      "  <title>\n",
      "   The story of Tom and Jerry\n",
      "  </title>\n",
      " </head>\n",
      " <body>\n",
      "  <p class=\"title\">\n",
      "   <b>\n",
      "    Tom and Jerry\n",
      "   </b>\n",
      "  </p>\n",
      "  <img alt=\"cartoon_image\" height=\"300\" src=\"TomAndJerry.jpg\" width=\"300\"/>\n",
      "  <p class=\"comedy animated series\">\n",
      "   Tom and Jerry is an American animated series of comedy short films created by\n",
      "   <a class=\"creator\" href=\"https://en.wikipedia.org/wiki/William_Hanna\" id=\"link1\">\n",
      "    William_Hanna\n",
      "   </a>\n",
      "   and\n",
      "   <a class=\"creator\" href=\"https://en.wikipedia.org/wiki/Joseph_Barbera\" id=\"link2\">\n",
      "    Joseph Barbera\n",
      "   </a>\n",
      "   . \n",
      "        It centers on a rivalry between the title characters\n",
      "   <a class=\"character\" href=\"https://en.wikipedia.org/wiki/Tom_Cat\" id=\"link3\">\n",
      "    Tom\n",
      "   </a>\n",
      "   , a cat, and\n",
      "   <a class=\"character\" href=\"https://en.wikipedia.org/wiki/Jerry_Mouse\" id=\"link4\">\n",
      "    Jerry\n",
      "   </a>\n",
      "   , a mouse.\n",
      "  </p>\n",
      "  <p class=\"comedy story\">\n",
      "   The series features comic fights between an iconic pair of adversaries, \n",
      "            a house cat (Tom) and a mouse (Jerry). The plots of each short usually center on Tom's \n",
      "            numerous attempts to capture Jerry and the mayhem and destruction that follows. \n",
      "            Tom rarely succeeds in catching Jerry, mainly because of Jerry's cleverness, \n",
      "            cunning abilities, and luck.\n",
      "  </p>\n",
      " </body>\n",
      "</html>\n"
     ]
    }
   ],
   "source": [
    "print(soup.prettify())"
   ]
  },
  {
   "cell_type": "code",
   "execution_count": 39,
   "id": "d46d081b",
   "metadata": {},
   "outputs": [
    {
     "data": {
      "text/plain": [
       "<p class=\"title\"><b>Tom and Jerry</b></p>"
      ]
     },
     "execution_count": 39,
     "metadata": {},
     "output_type": "execute_result"
    }
   ],
   "source": [
    "#find can be used to return the first instance of that element\n",
    "soup.find('p')"
   ]
  },
  {
   "cell_type": "code",
   "execution_count": 41,
   "id": "05686484",
   "metadata": {
    "scrolled": true
   },
   "outputs": [
    {
     "data": {
      "text/plain": [
       "[<p class=\"title\"><b>Tom and Jerry</b></p>,\n",
       " <p class=\"comedy animated series\">\n",
       "         Tom and Jerry is an American animated series of comedy short films created by \n",
       "         <a class=\"creator\" href=\"https://en.wikipedia.org/wiki/William_Hanna\" id=\"link1\">William_Hanna</a> and  \n",
       "         <a class=\"creator\" href=\"https://en.wikipedia.org/wiki/Joseph_Barbera\" id=\"link2\">Joseph Barbera</a>. \n",
       "         It centers on a rivalry between the title characters\n",
       "         <a class=\"character\" href=\"https://en.wikipedia.org/wiki/Tom_Cat\" id=\"link3\">Tom</a>, a cat, and \n",
       "         <a class=\"character\" href=\"https://en.wikipedia.org/wiki/Jerry_Mouse\" id=\"link4\">Jerry</a>, a mouse.</p>,\n",
       " <p class=\"comedy story\">\n",
       "             The series features comic fights between an iconic pair of adversaries, \n",
       "             a house cat (Tom) and a mouse (Jerry). The plots of each short usually center on Tom's \n",
       "             numerous attempts to capture Jerry and the mayhem and destruction that follows. \n",
       "             Tom rarely succeeds in catching Jerry, mainly because of Jerry's cleverness, \n",
       "             cunning abilities, and luck. \n",
       "         </p>]"
      ]
     },
     "execution_count": 41,
     "metadata": {},
     "output_type": "execute_result"
    }
   ],
   "source": [
    "soup.findAll('p')"
   ]
  },
  {
   "cell_type": "code",
   "execution_count": 42,
   "id": "b2ffb298",
   "metadata": {
    "scrolled": true
   },
   "outputs": [
    {
     "name": "stdout",
     "output_type": "stream",
     "text": [
      "None\n"
     ]
    }
   ],
   "source": [
    "#if the tag is not present it will return None\n",
    "print(soup.find('span'))"
   ]
  },
  {
   "cell_type": "code",
   "execution_count": 43,
   "id": "29d926ce",
   "metadata": {},
   "outputs": [
    {
     "data": {
      "text/plain": [
       "[<img alt=\"cartoon_image\" height=\"300\" src=\"TomAndJerry.jpg\" width=\"300\"/>]"
      ]
     },
     "execution_count": 43,
     "metadata": {},
     "output_type": "execute_result"
    }
   ],
   "source": [
    "#Find all can also be used to find all the tags with a particular attribute\n",
    "soup.findAll(src='TomAndJerry.jpg')"
   ]
  },
  {
   "cell_type": "code",
   "execution_count": 44,
   "id": "1b27d023",
   "metadata": {
    "scrolled": true
   },
   "outputs": [
    {
     "name": "stdout",
     "output_type": "stream",
     "text": [
      "<a class=\"creator\" href=\"https://en.wikipedia.org/wiki/William_Hanna\" id=\"link1\">William_Hanna</a>\n",
      "<a class=\"creator\" href=\"https://en.wikipedia.org/wiki/Joseph_Barbera\" id=\"link2\">Joseph Barbera</a>\n",
      "<a class=\"character\" href=\"https://en.wikipedia.org/wiki/Tom_Cat\" id=\"link3\">Tom</a>\n",
      "<a class=\"character\" href=\"https://en.wikipedia.org/wiki/Jerry_Mouse\" id=\"link4\">Jerry</a>\n"
     ]
    }
   ],
   "source": [
    "#regex can also be used to fetch a particular tag\n",
    "\n",
    "for tag in soup.findAll(re.compile(\"^a\")):\n",
    "    print(tag)"
   ]
  },
  {
   "cell_type": "code",
   "execution_count": 45,
   "id": "29ab78f9",
   "metadata": {},
   "outputs": [
    {
     "data": {
      "text/plain": [
       "<a class=\"creator\" href=\"https://en.wikipedia.org/wiki/William_Hanna\" id=\"link1\">William_Hanna</a>"
      ]
     },
     "execution_count": 45,
     "metadata": {},
     "output_type": "execute_result"
    }
   ],
   "source": [
    "soup.find('a',attrs = {'class':re.compile('^cre')})"
   ]
  },
  {
   "cell_type": "code",
   "execution_count": 48,
   "id": "ee282cff",
   "metadata": {},
   "outputs": [
    {
     "data": {
      "text/plain": [
       "<a class=\"creator\" href=\"https://en.wikipedia.org/wiki/William_Hanna\" id=\"link1\">William_Hanna</a>"
      ]
     },
     "execution_count": 48,
     "metadata": {},
     "output_type": "execute_result"
    }
   ],
   "source": [
    "soup.find('a',attrs = {'class':re.compile('r')})"
   ]
  },
  {
   "cell_type": "code",
   "execution_count": 49,
   "id": "23cc62f0",
   "metadata": {
    "scrolled": true
   },
   "outputs": [
    {
     "name": "stdout",
     "output_type": "stream",
     "text": [
      "<a class=\"creator\" href=\"https://en.wikipedia.org/wiki/Joseph_Barbera\" id=\"link2\">Joseph Barbera</a>\n"
     ]
    }
   ],
   "source": [
    "#check for all html elements which has 2 in it's id\n",
    "for tag in soup.findAll(id = re.compile(\"2\")):\n",
    "    print(tag)"
   ]
  },
  {
   "cell_type": "code",
   "execution_count": 51,
   "id": "8bb05d1a",
   "metadata": {},
   "outputs": [
    {
     "data": {
      "text/plain": [
       "[<img alt=\"cartoon_image\" height=\"300\" src=\"TomAndJerry.jpg\" width=\"300\"/>,\n",
       " <a class=\"creator\" href=\"https://en.wikipedia.org/wiki/William_Hanna\" id=\"link1\">William_Hanna</a>,\n",
       " <a class=\"creator\" href=\"https://en.wikipedia.org/wiki/Joseph_Barbera\" id=\"link2\">Joseph Barbera</a>,\n",
       " <a class=\"character\" href=\"https://en.wikipedia.org/wiki/Tom_Cat\" id=\"link3\">Tom</a>,\n",
       " <a class=\"character\" href=\"https://en.wikipedia.org/wiki/Jerry_Mouse\" id=\"link4\">Jerry</a>]"
      ]
     },
     "execution_count": 51,
     "metadata": {},
     "output_type": "execute_result"
    }
   ],
   "source": [
    "#we can find multiple conditions with the findall\n",
    "soup.findAll(['a','img'])"
   ]
  },
  {
   "cell_type": "code",
   "execution_count": 52,
   "id": "44f955c0",
   "metadata": {},
   "outputs": [],
   "source": [
    "#defining complex check using custom function\n",
    "def has_scr_but_no_href(tag):\n",
    "    return tag.has_attr('src') and not tag.has_attr('href')"
   ]
  },
  {
   "cell_type": "code",
   "execution_count": 53,
   "id": "75a58f15",
   "metadata": {},
   "outputs": [
    {
     "data": {
      "text/plain": [
       "[<img alt=\"cartoon_image\" height=\"300\" src=\"TomAndJerry.jpg\" width=\"300\"/>]"
      ]
     },
     "execution_count": 53,
     "metadata": {},
     "output_type": "execute_result"
    }
   ],
   "source": [
    "soup.findAll(has_scr_but_no_href)"
   ]
  },
  {
   "cell_type": "code",
   "execution_count": 54,
   "id": "fb463c9a",
   "metadata": {},
   "outputs": [],
   "source": [
    "def has_no_tom(href):\n",
    "    return href and not re.compile(\"Tom_Cat\").search(href)"
   ]
  },
  {
   "cell_type": "code",
   "execution_count": 55,
   "id": "9f33e3af",
   "metadata": {
    "scrolled": true
   },
   "outputs": [
    {
     "data": {
      "text/plain": [
       "[<a class=\"creator\" href=\"https://en.wikipedia.org/wiki/William_Hanna\" id=\"link1\">William_Hanna</a>,\n",
       " <a class=\"creator\" href=\"https://en.wikipedia.org/wiki/Joseph_Barbera\" id=\"link2\">Joseph Barbera</a>,\n",
       " <a class=\"character\" href=\"https://en.wikipedia.org/wiki/Jerry_Mouse\" id=\"link4\">Jerry</a>]"
      ]
     },
     "execution_count": 55,
     "metadata": {},
     "output_type": "execute_result"
    }
   ],
   "source": [
    "soup.findAll(href = has_no_tom)"
   ]
  },
  {
   "cell_type": "code",
   "execution_count": 56,
   "id": "f44ece33",
   "metadata": {},
   "outputs": [],
   "source": [
    "url = \"https://mashable.com/archive/static-website-generators\""
   ]
  },
  {
   "cell_type": "code",
   "execution_count": 57,
   "id": "480c0872",
   "metadata": {},
   "outputs": [],
   "source": [
    "resp = requests.get(url)"
   ]
  },
  {
   "cell_type": "code",
   "execution_count": 58,
   "id": "a1e5b22a",
   "metadata": {},
   "outputs": [
    {
     "data": {
      "text/plain": [
       "<!DOCTYPE html>\n",
       "<html lang=\"en\">\n",
       "<head>\n",
       "<title>13 Static Site Generators to Help You Build Your Ultimate Website | Mashable</title>\n",
       "<meta charset=\"utf-8\"/>\n",
       "<link href=\"https://mashable.com/archive/static-website-generators\" rel=\"canonical\"/>\n",
       "<meta content=\"width=device-width, initial-scale=1\" name=\"viewport\"/>\n",
       "<meta content=\"#00aeef\" name=\"theme-color\"/>\n",
       "<meta content=\"Mashable.com\" name=\"application-name\"/>\n",
       "<meta content=\"13 Static Site Generators to Help You Build Your Ultimate Website\" name=\"description\"/>\n",
       "<meta content=\"122071082108\" property=\"fb:app_id\"/>\n",
       "<meta content=\"18807449704\" property=\"fb:pages\"/>\n",
       "<meta content=\"Mashable\" property=\"og:site_name\"/>\n",
       "<meta content=\"13 Static Site Generators to Help You Build Your Ultimate Website\" property=\"og:title\"/>\n",
       "<meta content=\"https://mashable.com/archive/static-website-generators\" property=\"og:url\"/>\n",
       "<meta content=\"13 Static Site Generators to Help You Build Your Ultimate Website\" property=\"og:description\"/>\n",
       "<meta content=\"https://helios-i.mashable.com/imagery/archives/00s0gVKdAC9EPTZERS7TvPb/hero-image.fill.size_1200x675.v1647024413.jpg\" property=\"og:image\"/>\n",
       "<meta content=\"https://helios-i.mashable.com/imagery/archives/00s0gVKdAC9EPTZERS7TvPb/hero-image.fill.size_1200x675.v1647024413.jpg\" property=\"og:image:secure_url\"/>\n",
       "<meta content=\"675\" property=\"og:image:height\"/>\n",
       "<meta content=\"1200\" property=\"og:image:width\"/>\n",
       "<meta content=\"article\" property=\"og:type\"/>\n",
       "<meta content=\"Grace Smith\" property=\"article:author\"/>\n",
       "<meta content=\"2022-03-11T18:46:53+00:00\" property=\"article:modified_time\"/>\n",
       "<meta content=\"2014-08-28T11:15:22+00:00\" property=\"article:published_time\"/>\n",
       "<meta content=\"@mashable\" name=\"twitter:site\"/>\n",
       "<meta content=\"summary_large_image\" property=\"twitter:card\"/>\n",
       "<meta content=\"@mashable\" property=\"twitter:creator\"/>\n",
       "<meta content=\"13 Static Site Generators to Help You Build Your Ultimate Website\" property=\"twitter:title\"/>\n",
       "<meta content=\"13 Static Site Generators to Help You Build Your Ultimate Website\" property=\"twitter:description\"/>\n",
       "<meta content=\"https://helios-i.mashable.com/imagery/archives/00s0gVKdAC9EPTZERS7TvPb/hero-image.fill.size_1200x675.v1647024413.jpg\" property=\"twitter:image\"/>\n",
       "<meta content=\"max-image-preview:large\" name=\"robots\"/>\n",
       "<link href=\"https://mashable.com/archive/static-website-generators\" hreflang=\"en\" rel=\"alternate\"/>\n",
       "<link href=\"https://mashable.com/archive/static-website-generators\" hreflang=\"en-us\" rel=\"alternate\"/>\n",
       "<link href=\"https://mashable.com/archive/static-website-generators\" hreflang=\"x-default\" rel=\"alternate\"/>\n",
       "<link color=\"#000\" href=\"/favicons/favicon.svg\" rel=\"shortcut icon mask-icon\"/>\n",
       "<link href=\"/favicons/favicon-16x16.png\" rel=\"icon\" sizes=\"16x16\" type=\"image/png\"/>\n",
       "<link href=\"/favicons/favicon-32x32.png\" rel=\"icon\" sizes=\"32x32\" type=\"image/png\"/>\n",
       "<link href=\"/favicons/apple-touch-icon.png\" rel=\"apple-touch-icon\" sizes=\"180x180\"/>\n",
       "<link href=\"/favicons/android-chrome-192x192.png\" rel=\"icon\" sizes=\"192x192\" type=\"image/png\"/>\n",
       "<link href=\"/favicons/android-chrome-512x512.png\" rel=\"icon\" sizes=\"512x512\" type=\"image/png\"/>\n",
       "<link crossorigin=\"use-credentials\" href=\"/manifest.json\" rel=\"manifest\"/>\n",
       "<link href=\"/css/app.css?id=42350b266580cf520274d6b72a6738e1\" rel=\"stylesheet\"/>\n",
       "<script type=\"application/ld+json\">{\"@context\":\"https:\\/\\/schema.org\",\"@type\":\"Organization\",\"url\":\"https:\\/\\/mashable.com\\/\",\"name\":\"Mashable\",\"logo\":{\"@type\":\"ImageObject\",\"url\":\"https:\\/\\/mashable.com\\/images\\/mashable-logomark.png\",\"width\":2400,\"height\":2400},\"sameAs\":[\"https:\\/\\/www.facebook.com\\/mashable\\/\",\"https:\\/\\/twitter.com\\/mashable\",\"https:\\/\\/flipboard.com\\/@Mashable\",\"https:\\/\\/www.pinterest.com\\/mashable\\/\",\"https:\\/\\/www.youtube.com\\/user\\/mashable\"],\"description\":\"Mashable is a global, multi-platform media and entertainment company.\\n            Powered by its own proprietary technology, Mashable is the go-to source for tech,\\n             digital culture and entertainment content for its dedicated and influential audience around the globe.\"}</script> <script type=\"application/ld+json\">{\"@context\":\"https:\\/\\/schema.org\",\"@type\":\"BreadcrumbList\",\"itemListElement\":[{\"@type\":\"ListItem\",\"position\":1,\"name\":\"Home\",\"item\":\"https:\\/\\/mashable.com\"}]}</script>\n",
       "<link href=\"//cdn.ziffstatic.com\" rel=\"preconnect\"/>\n",
       "<link href=\"//www.googletagmanager.com\" rel=\"preconnect\"/>\n",
       "<link href=\"https://use.typekit.net\" rel=\"preconnect\"/>\n",
       "<link as=\"font\" crossorigin=\"\" href=\"/fonts/Outfit.woff2\" rel=\"preload\" type=\"font/woff2\"/>\n",
       "<link as=\"script\" href=\"https://g.mashable.com/mashable.js?url=https%3A%2F%2Fmashable.com%2Farchive%2Fstatic-website-generators\" rel=\"preload\"/>\n",
       "<script async=\"\" src=\"https://g.mashable.com/mashable.js?url=https%3A%2F%2Fmashable.com%2Farchive%2Fstatic-website-generators\" type=\"text/javascript\"></script>\n",
       "<link as=\"image\" href=\"/images/icons/spritemap.svg\" rel=\"preload\"/>\n",
       "<link as=\"script\" href=\"https://cdn.ziffstatic.com/jst/zdconsent.js\" rel=\"preload\"/>\n",
       "<script async=\"\" src=\"https://cdn.ziffstatic.com/jst/zdconsent.js\" type=\"text/javascript\"></script>\n",
       "<link as=\"script\" href=\"https://cdn.static.zdbb.net/js/z0WVjCBSEeGLoxIxOQVEwQ.min.js\" rel=\"preload\"/>\n",
       "<script async=\"\" src=\"https://cdn.static.zdbb.net/js/z0WVjCBSEeGLoxIxOQVEwQ.min.js\" type=\"text/javascript\"></script>\n",
       "<script async=\"\" src=\"https://www.googletagmanager.com/gtag/js?id=UA-92124-1\"></script>\n",
       "<script>\n",
       "    window.dataLayer = window.dataLayer || [];\n",
       "    window.globalGAInfo = {\"page_view_type\":\"Standard\",\"template\":\"article\",\"content_type\":\"article\",\"transport_type\":\"beacon\",\"allow_ad_personalization_signals\":false,\"test_uuid\":null,\"test_version\":null,\"custom_map\":{\"dimension10\":\"content_type\",\"dimension11\":\"channel_name\",\"dimension12\":\"post_lead_type\",\"dimension13\":\"content_source_type\",\"dimension14\":\"content_source_name\",\"dimension15\":\"author_name\",\"dimension17\":\"day_published\",\"dimension18\":\"month_published\",\"dimension19\":\"year_published\",\"dimension20\":\"full_published_date\",\"dimension21\":\"video_show_name\",\"dimension23\":\"cms_id\",\"dimension27\":\"level_of_effort\",\"dimension29\":\"job_function\",\"dimension32\":\"tags\",\"dimension33\":\"story_flags\",\"dimension34\":\"categories\",\"dimension36\":\"page_view_type\",\"dimension38\":\"ad_block\",\"dimension41\":\"videoId\",\"dimension42\":\"videoPlayType\",\"dimension43\":\"videoPlayerType\",\"dimension44\":\"videoUrl\",\"dimension45\":\"revenue_page_type\",\"dimension46\":\"videoName\",\"dimension49\":\"template\",\"dimension50\":\"module\",\"dimension51\":\"element\",\"dimension52\":\"item\",\"dimension53\":\"position\",\"dimension62\":\"object_type\",\"dimension63\":\"object_uuid\",\"dimension65\":\"test_uuid\",\"dimension66\":\"test_version\",\"dimension67\":\"original_published_date\"},\"cms_id\":2820899,\"object_uuid\":\"00s0gVKdAC9EPTZERS7TvPb\",\"object_type\":\"archive\",\"title\":\"13 Static Site Generators to Help You Build Your Ultimate Website\",\"canonical_url\":\"https:\\/\\/mashable.com\\/archive\\/static-website-generators\",\"full_published_date\":\"08\\/28\\/2014\",\"original_published_date\":\"08\\/28\\/2014\",\"story_flags\":\"\",\"content_source_name\":\"Internal\",\"video_show_name\":\"\",\"content_source_type\":\"Internal\",\"author_name\":\"Grace Smith\",\"day_published\":28,\"month_published\":8,\"year_published\":2014,\"categories\":\"\",\"sections\":\"\",\"tags\":\"\",\"post_lead_type\":null};\n",
       "    window.globalGAInfo.send_page_view = typeof window._ziffIntlGeoRedirect === 'undefined';\n",
       "    window.globalGAInfo.ad_block = window.adblock ? 'Blocked' : 'NotBlocked';\n",
       "    window.globalGAInfo.page_path = window.location.pathname;\n",
       "\n",
       "    function gtag() {dataLayer.push(arguments);}\n",
       "\n",
       "    gtag('js', new Date());\n",
       "    gtag('config', 'UA-92124-1', window.globalGAInfo);\n",
       "</script>\n",
       "<script>(function(w,d,s,l,i){w[l]=w[l]||[];w[l].push({'gtm.start': new Date().getTime(),event:'gtm.js'});var f=d.getElementsByTagName(s)[0], j=d.createElement(s),dl=l!='dataLayer'?'&l='+l:'';j.async=true;j.src= 'https://www.googletagmanager.com/gtm.js?id='+i+dl;f.parentNode.insertBefore(j,f);})(window,document,'script','dataLayer','GTM-MN78SWW');</script>\n",
       "<script async=\"\" src=\"https://www.googletagmanager.com/gtag/js?id=G-BPBF083TYP\"></script>\n",
       "<script>\n",
       "    window.dataLayer = window.dataLayer || [];\n",
       "    function gtag4(){dataLayer.push(arguments);}\n",
       "    gtag4('js', new Date());\n",
       "\n",
       "    gtag4('config', 'G-BPBF083TYP');\n",
       "</script>\n",
       "<script type=\"text/javascript\">\n",
       "    (function() {\n",
       "        var _sf_async_config = window._sf_async_config = (window._sf_async_config || {});\n",
       "        /** CONFIGURATION START **/\n",
       "        _sf_async_config.uid = 65789;\n",
       "        _sf_async_config.domain = 'mashable.com';\n",
       "        _sf_async_config.useCanonical = true;\n",
       "        _sf_async_config.useCanonicalDomain = true;\n",
       "        _sf_async_config.sections = window.globalGAInfo.sections || '';\n",
       "        _sf_async_config.authors = window.globalGAInfo.author_name || '';\n",
       "        _sf_async_config.type = window.globalGAInfo.content_type || '';\n",
       "                /** CONFIGURATION END **/\n",
       "        function loadChartbeat() {\n",
       "            var e = document.createElement('script');\n",
       "            var n = document.getElementsByTagName('script')[0];\n",
       "            e.type = 'text/javascript';\n",
       "            e.async = true;\n",
       "            e.src = '//static.chartbeat.com/js/chartbeat_video.js';\n",
       "            n.parentNode.insertBefore(e, n);\n",
       "        }\n",
       "        loadChartbeat();\n",
       "    })();\n",
       "</script>\n",
       "<script>\n",
       "    var facebookPixelLoaded = false;\n",
       "    window.addEventListener('load', function(){\n",
       "        document.addEventListener('scroll', facebookPixelScript);\n",
       "        document.addEventListener('mousemove', facebookPixelScript);\n",
       "    })\n",
       "    function facebookPixelScript() {\n",
       "        if (!facebookPixelLoaded) {\n",
       "            facebookPixelLoaded = true;\n",
       "            document.removeEventListener('scroll', facebookPixelScript);\n",
       "            document.removeEventListener('mousemove', facebookPixelScript);\n",
       "            !function(f,b,e,v,n,t,s){if(f.fbq)return;n=f.fbq=function(){n.callMethod?\n",
       "                n.callMethod.apply(n,arguments):n.queue.push(arguments)};if(!f._fbq)f._fbq=n;\n",
       "                n.push=n;n.loaded=!0;n.version='2.0';n.queue=[];t=b.createElement(e);t.async=!0;\n",
       "                t.src=v;s=b.getElementsByTagName(e)[0];s.parentNode.insertBefore(t,s)}(window,\n",
       "                document,'script','//connect.facebook.net/en_US/fbevents.js');\n",
       "            fbq('init', '1453039084979896');\n",
       "            fbq('track', \"PageView\");\n",
       "        }\n",
       "    }\n",
       "</script>\n",
       "<script async=\"\" id=\"pogo\" src=\"https://cdn.ziffstatic.com/pg/mashable.js\" type=\"text/javascript\"></script>\n",
       "<link as=\"script\" href=\"https://cdn.ziffstatic.com/pg/mashable.js\" rel=\"preload\"/>\n",
       "<link as=\"script\" href=\"https://cdn.ziffstatic.com/pg/mashable.prebid.js\" rel=\"preload\"/>\n",
       "<link as=\"style\" href=\"https://cdn.ziffstatic.com/pg/mashable.css\" onload=\"this.onload=null;this.rel='stylesheet'\" rel=\"preload\"/>\n",
       "<link as=\"script\" href=\"https://securepubads.g.doubleclick.net/tag/js/gpt.js\" rel=\"preload\"/>\n",
       "<script async=\"\" src=\"https://securepubads.g.doubleclick.net/tag/js/gpt.js\" type=\"text/javascript\"></script>\n",
       "<script>\n",
       "    window.PogoConfig =\n",
       "    {\n",
       "                    \"template\": \"article\",\n",
       "                            }\n",
       "</script>\n",
       "<script>\n",
       "    (function(d) {\n",
       "        var bounceExchangeLoaded = false;\n",
       "        window.addEventListener('load', function(){\n",
       "            document.addEventListener('scroll', bounceExchangeScript);\n",
       "            document.addEventListener('mousemove', bounceExchangeScript);\n",
       "        })\n",
       "        function bounceExchangeScript() {\n",
       "            if (!bounceExchangeLoaded) {\n",
       "                bounceExchangeLoaded = true;\n",
       "                document.removeEventListener('scroll', bounceExchangeScript);\n",
       "                document.removeEventListener('mousemove', bounceExchangeScript);\n",
       "                var e = d.createElement('script');\n",
       "                e.src = d.location.protocol + '//tag.bounceexchange.com/3441/i.js';\n",
       "                e.async = true;\n",
       "                d.getElementsByTagName(\"head\")[0].appendChild(e);\n",
       "            }\n",
       "        }\n",
       "    }(document));\n",
       "</script>\n",
       "<script async=\"\" src=\"https://cdn.p-n.io/pushly-sdk.min.js?domain_key=TXpY3X8ls7A4Zbp78hzgCks4F8YHWBaGK9tn\"></script>\n",
       "<script>\n",
       "    var PushlySDK = window.PushlySDK || [];\n",
       "    function pushly() { PushlySDK.push(arguments) }\n",
       "    pushly('load', {\n",
       "        domainKey: 'TXpY3X8ls7A4Zbp78hzgCks4F8YHWBaGK9tn',\n",
       "        sw: '/js/pushly-sdk-worker.js',\n",
       "    });\n",
       "    pushly('on_prompt_shown', function() {\n",
       "        if (window.gtag) {\n",
       "            gtag('event', 'Pushly_on_prompt_shown', {\n",
       "                'event_category': 'impressions',\n",
       "                'event_label': 'Pushly_on_prompt_shown'\n",
       "            });\n",
       "        }\n",
       "    });\n",
       "    pushly('on_permission_allowed', function() {\n",
       "        if (window.gtag) {\n",
       "            gtag('event', 'Pushly_on_permission_allowed', {\n",
       "                'event_category': 'clicks',\n",
       "                'event_label': 'Pushly_on_permission_allowed'\n",
       "            });\n",
       "        }\n",
       "    });\n",
       "</script>\n",
       "<style>\n",
       "            * .pogoPgWrap {\n",
       "                transition: all .01s ease;\n",
       "            }\n",
       "\n",
       "            @font-face{font-display:optional;font-family:outfit;font-weight:100 800;src:url(/fonts/Outfit.woff2) format(\"woff2\")}\n",
       "\n",
       "        </style>\n",
       "</head>\n",
       "<body class=\"\">\n",
       "<noscript><iframe height=\"0\" src=\"https://www.googletagmanager.com/ns.html?id=GTM-MN78SWW\" style=\"display:none;visibility:hidden\" width=\"0\"></iframe></noscript>\n",
       "<nav class=\"top-0 z-30 py-3 w-full bg-white border-b-2 border-primary-400\" data-ga-module=\"global_nav\" x-data=\"{navOpen: false}\">\n",
       "<div class=\"flex relative justify-between items-center px-4 pl-3 mx-auto max-w-8xl\">\n",
       "<button true=\"\"> $refs.firstMenuItem.focus());\" class=\"flex-shrink px-2\" aria-label=\"Menu\"&gt;\n",
       "<svg class=\"inline-block w-7 h-7 fill-current\"><use href=\"/images/icons/spritemap.svg#sprite-hamburger\"></use></svg>\n",
       "</button>\n",
       "<a aria-label=\"Home\" class=\"flex items-center mr-12 w-full lg:w-auto\" data-ga-action=\"navigation_logo\" data-ga-click=\"\" data-ga-element=\"navigation_logo\" data-ga-item=\"logo\" href=\"https://mashable.com\">\n",
       "<div x-data=\"{animate: false, reverse: false}\" x-init=\"setTimeout(() =&gt; animate = true, 1000)\">\n",
       "<svg :class=\"{ 'animate': animate, 'animate-reverse': reverse }\" class=\"inline-block -mb-3 w-40 h-11 fill-current hover:fill-secondary-100\" id=\"mashable-wordmark-animated\" shape-rendering=\"geometricPrecision\" text-rendering=\"geometricPrecision\" viewbox=\"0 0 2200 650\" x-ref=\"wordmark\" xmlns=\"http://www.w3.org/2000/svg\" xmlns:xlink=\"http://www.w3.org/1999/xlink\"><style><![CDATA[.animate #euSMf1FbiNs11_to{animation:euSMf1FbiNs11_to__to 1s linear 1 normal forwards}.animate-reverse #euSMf1FbiNs11_to{animation:euSMf1FbiNs11_to__back 1s linear 1 normal forwards}@keyframes  euSMf1FbiNs11_to__to{0%{transform:translate(2326.395841px,218.229656px)}45%{transform:translate(2326.395841px,218.229656px)}73%{transform:translate(662.384075px,215.434656px)}100%{transform:translate(662.384075px,215.434656px)}}@keyframes  euSMf1FbiNs11_to__back{0%{transform:translate(662.384075px,215.434656px)}45%{transform:translate(662.384075px,215.434656px)}73%{transform:translate(2326.395841px,218.229656px)}100%{transform:translate(2326.395841px,218.229656px)}}.animate #euSMf1FbiNs15_to{animation:euSMf1FbiNs15_to__to 1s linear 1 normal forwards}.animate-reverse #euSMf1FbiNs15_to{animation:euSMf1FbiNs15_to__back 1s linear 1 normal forwards}@keyframes  euSMf1FbiNs15_to__to{0%{transform:translate(144.277373px,1260.854733px)}41%{transform:translate(144.277373px,331.868153px)}100%{transform:translate(144.277373px,331.868153px)}}@keyframes  euSMf1FbiNs15_to__back{0%{transform:translate(144.277373px,331.868153px)}41%{transform:translate(144.277373px,331.868153px)}100%{transform:translate(144.277373px,1260.854733px)}}.animate #euSMf1FbiNs19_to{animation:euSMf1FbiNs19_to__to 1s linear 1 normal forwards}.animate-reverse #euSMf1FbiNs19_to{animation:euSMf1FbiNs19_to__back 1s linear 1 normal forwards}@keyframes  euSMf1FbiNs19_to__to{0%{transform:translate(144.277373px,1003.724046px)}60%{transform:translate(144.277373px,1003.724046px)}80%{transform:translate(145.277373px,766.938989px)}100%{transform:translate(145.277373px,766.938989px)}}@keyframes  euSMf1FbiNs19_to__back{0%{transform:translate(145.277373px,766.938989px)}60%{transform:translate(145.277373px,766.938989px)}80%{transform:translate(144.277373px,1003.724046px)}100%{transform:translate(144.277373px,1003.724046px)}}.animate #euSMf1FbiNs22_to{animation:euSMf1FbiNs22_to__to 1s linear 1 normal forwards}.animate-reverse #euSMf1FbiNs22_to{animation:euSMf1FbiNs22_to__back 1s linear 1 normal forwards}@keyframes  euSMf1FbiNs22_to__to{0%{transform:translate(5474.895347px,1202.280706px)}60%{transform:translate(5474.895347px,1202.280706px)}90%{transform:translate(13.364022px,1202.286993px)}100%{transform:translate(13.364022px,1202.286993px)}}@keyframes  euSMf1FbiNs22_to__back{0%{transform:translate(13.364022px,1202.286993px)}60%{transform:translate(13.364022px,1202.286993px)}90%{transform:translate(5474.895347px,1202.280706px)}100%{transform:translate(5474.895347px,1202.280706px)}}]]></style><g id=\"euSMf1FbiNs2\" transform=\"matrix(1 0 0 1 327.55203400000028 85.59466518500005)\"><polygon fill=\"currentColor\" id=\"euSMf1FbiNs3\" points=\"221.679659,0.620000 221.679659,0.669994 221.589769,0.620000 143.495006,136.034612 65.410231,0.620000 65.320341,0.669994 65.320341,0.620000 0,0.620000 0,264.620000 65.320341,264.620000 65.320341,131.265154 119.594153,225.374460 119.594153,225.374460 129.252375,242.112558 157.747625,242.112558 170.312302,220.325034 221.679659,131.265154 221.679659,264.620000 287,264.620000 287,0.620000 221.679659,0.620000\" stroke=\"none\" stroke-width=\"1\"></polygon><path d=\"M442.390000,897.214899C442.390000,839.553909,481.940898,800.570000,521.811158,800.570000C549.465848,800.570000,567.150479,814.747785,577.439900,829.245519L583.867046,805.729194L642.390000,805.729194L642.390000,987.410806L583.867046,987.410806L577.439900,963.894481C567.150479,978.392215,549.495788,992.570000,521.811158,992.570000C481.920938,992.570000,442.390000,953.586091,442.390000,897.214899ZM574.545689,896.574999C574.545689,876.578124,562.010758,861.780436,543.677425,861.780436C524.715349,861.780436,511.841098,877.887919,511.841098,896.574999C511.841098,915.901979,524.705369,931.359564,543.677425,931.359564C562.010758,931.359564,574.545689,916.541879,574.545689,896.574999Z\" fill=\"currentColor\" id=\"euSMf1FbiNs4\" stroke=\"none\" stroke-width=\"1\" transform=\"matrix(1 0 0 1 -127.05000000000000 -727.75999999999999)\"></path><path d=\"M812.223369,813.460670L812.223369,868.883557C799.336738,861.473171,775.822886,855.002834,755.848108,855.002834C744.261137,855.002834,738.132739,857.262952,738.132739,861.773187C738.132739,866.283422,744.581053,869.183573,762.296422,873.053774C793.538254,879.814126,825.110000,891.054712,825.110000,930.406761C825.110000,968.408741,795.117841,992.590000,740.712065,992.590000C712.719383,992.590000,689.825369,986.149665,674.359412,977.769228L674.359412,918.176124C690.785118,929.176697,710.759895,938.177166,737.492906,938.177166C751.019370,938.177166,758.747350,935.917048,758.747350,930.766780C758.747350,924.966478,749.089875,923.036377,727.185601,917.236075C699.192919,909.825689,672.110000,896.294985,672.110000,862.133205C672.110000,826.691359,701.102420,800.590000,752.628949,800.590000C774.213306,800.569999,797.077329,805.410251,812.223369,813.460670Z\" fill=\"currentColor\" id=\"euSMf1FbiNs5\" stroke=\"none\" stroke-width=\"1\" transform=\"matrix(1 0 0 1 -127.05000000000000 -727.75999999999999)\"></path><path d=\"M920.501202,819.668695L920.822692,819.668695C930.869277,809.056557,947.697307,800.379339,967.438845,800.379339C1005.957451,800.379339,1030.230000,823.837750,1030.230000,864.650596L1030.230000,986.760000L960.968845,986.760000L960.968845,882.643356C960.968845,867.862164,954.488798,861.439028,941.880334,861.439028C928.608796,861.439028,920.511248,870.116246,920.511248,881.685870L920.511248,986.760000L851.230000,986.760000L851.230000,727.760000L920.501202,727.760000Z\" fill=\"currentColor\" id=\"euSMf1FbiNs6\" stroke=\"none\" stroke-width=\"1\" transform=\"matrix(1 0 0 1 -127.05000000000000 -727.75999999999999)\"></path><path d=\"M1053.890000,897.214899C1053.890000,839.553909,1093.440898,800.570000,1133.311158,800.570000C1160.955868,800.570000,1178.650479,814.747785,1188.939900,829.245519L1195.367046,805.729194L1253.890000,805.729194L1253.890000,987.410806L1195.367046,987.410806L1188.939900,963.894481C1178.650479,978.392215,1160.995788,992.570000,1133.311158,992.570000C1093.440898,992.570000,1053.890000,953.586091,1053.890000,897.214899ZM1186.045689,896.574999C1186.045689,876.578124,1173.500778,861.780436,1155.177425,861.780436C1136.215349,861.780436,1123.341098,877.887919,1123.341098,896.574999C1123.341098,915.901979,1136.205369,931.359564,1155.177425,931.359564C1173.500778,931.359564,1186.045689,916.541879,1186.045689,896.574999Z\" fill=\"currentColor\" id=\"euSMf1FbiNs7\" stroke=\"none\" stroke-width=\"1\" transform=\"matrix(1 0 0 1 -127.05000000000000 -727.75999999999999)\"></path><path d=\"M1357.242375,827.972530C1367.531796,812.559819,1388.759341,800.347289,1411.264331,800.347289C1453.060739,800.347289,1488.430000,837.931972,1488.430000,896.053644C1488.430000,954.175317,1449.847166,991.760000,1408.050758,991.760000C1381.683493,991.760000,1363.679501,977.623374,1353.380100,963.167726L1346.952954,986.615783L1288.430000,986.615783L1288.430000,727.760000L1357.292275,727.760000ZM1356.603653,896.073583C1356.603653,916.311490,1369.138583,930.757168,1387.471916,930.757168C1406.114631,930.757168,1418.978902,915.663478,1418.978902,896.392605C1418.978902,877.450722,1406.114631,861.380029,1387.142575,861.380029C1369.138583,861.380029,1356.603653,876.154698,1356.603653,896.073583Z\" fill=\"currentColor\" id=\"euSMf1FbiNs8\" stroke=\"none\" stroke-width=\"1\" transform=\"matrix(1 0 0 1 -127.05000000000000 -727.75999999999999)\"></path><path d=\"M1514.920000,727.760000L1583.920000,727.760000L1583.920000,986.760000L1514.920000,986.760000Z\" fill=\"currentColor\" id=\"euSMf1FbiNs9\" stroke=\"none\" stroke-width=\"1\" transform=\"matrix(1 0 0 1 -127.05000000000000 -727.75999999999999)\"></path><path d=\"M1789.715993,914.612181L1676.080565,914.612181C1684.748180,932.009463,1704.653808,940.058205,1726.163442,940.058205C1745.740298,940.058205,1763.075529,933.619211,1779.125562,926.530319L1779.125562,979.042114C1760.505132,988.040708,1739.274456,992.570000,1716.529437,992.570000C1647.198476,992.570000,1609.320000,951.656393,1609.320000,896.894949C1609.320000,840.193809,1649.768872,800.570000,1703.368610,800.570000C1751.837517,800.570000,1791.320000,832.784966,1791.320000,893.675452C1791.329416,900.685633,1790.793115,907.685839,1789.715993,914.612181ZM1726.482251,876.618117C1726.163442,864.060080,1717.814635,853.101792,1703.049801,853.101792C1689.570164,853.101792,1678.332152,862.100386,1673.520131,876.618117Z\" fill=\"currentColor\" id=\"euSMf1FbiNs10\" stroke=\"none\" stroke-width=\"1\" transform=\"matrix(1 0 0 1 -127.05000000000000 -727.75999999999999)\"></path></g><g id=\"euSMf1FbiNs11_to\" transform=\"translate(2326.395841,218.229656)\"><polygon fill=\"rgb(255,255,255)\" id=\"euSMf1FbiNs11\" points=\"2994.404278,1003.400000 1373.292899,1003.400000 1167.283721,1164.601894 916.220000,1387.164859 2994.404278,1387.164859 2994.404278,1003.400000\" stroke=\"none\" stroke-width=\"1\" transform=\"scale(0.922440,0.922440) translate(-1188.489990,-1195.614990)\"></polygon></g><g id=\"euSMf1FbiNs12\" mask=\"url(#euSMf1FbiNs14)\" transform=\"matrix(1 0 0 1 0 -4)\"><polygon fill=\"currentColor\" id=\"euSMf1FbiNs13\" points=\"-0.124694,383.594023 0.000007,787.553039 0.000007,842.876599 0.000007,1388.080235 457.526979,1383.558047 457.526979,628.534061 457.526979,573.210501 458.403224,0 -0.124694,383.594023\" stroke=\"none\" stroke-width=\"1\" transform=\"matrix(0.44272113509609 0 0 0.43153125079610 43.00491365445770 18.64549964827933)\"></polygon><mask id=\"euSMf1FbiNs14\" mask-type=\"alpha\"><g id=\"euSMf1FbiNs15_to\" transform=\"translate(144.277373,1260.854733)\"><polygon fill=\"currentColor\" id=\"euSMf1FbiNs15\" points=\"-0.124694,383.429007 -0.000073,787.214245 -0.000073,842.514006 -0.000073,1387.483103 452.947836,1385.590461 457.231375,628.263675 457.231375,572.963914 458.107053,0 -0.124694,383.429007\" stroke=\"none\" stroke-width=\"1\" transform=\"scale(0.938390,0.938390) translate(-228.750000,-725.840023)\"></polygon></g></mask></g><g id=\"euSMf1FbiNs16\" mask=\"url(#euSMf1FbiNs18)\" transform=\"matrix(1 0 0 1 0 -4)\"><polygon fill=\"rgb(255,255,255)\" id=\"euSMf1FbiNs17\" points=\"-0.124694,383.160079 -0.000226,786.662112 -0.000226,841.923087 3.273209,1314.095486 489.720027,1314.095486 486.446592,1026.057228 456.669898,572.562051 457.544501,0 -0.124694,383.160079\" stroke=\"none\" stroke-width=\"1\" transform=\"matrix(0.44299752680467 0 0 0.45278292652264 42.94168905111819 3.22018284927219)\"></polygon><mask id=\"euSMf1FbiNs18\" mask-type=\"alpha\"><g id=\"euSMf1FbiNs19_to\" transform=\"translate(144.277373,1003.724046)\"><polygon fill=\"rgb(0,0,0)\" id=\"euSMf1FbiNs19\" points=\"-0.124694,383.022539 -0.000070,786.379730 -0.000070,841.620869 -0.000070,1386.012253 452.957811,1384.121616 457.241445,627.597662 457.241445,572.356523 458.117142,0 -0.124694,383.022539\" stroke=\"none\" stroke-width=\"1\" transform=\"scale(0.442998,0.442998) translate(-228.750000,-725.840023)\"></polygon></g></mask></g><g id=\"euSMf1FbiNs20\" transform=\"matrix(0.44964075354686 0 0 0.44964075354686 -85.59085363638468 -7.93672154314413)\"><g id=\"euSMf1FbiNs21\" mask=\"url(#euSMf1FbiNs35)\"><g id=\"euSMf1FbiNs22_to\" transform=\"translate(5474.895347,1202.280706)\"><g id=\"euSMf1FbiNs22\" transform=\"translate(-1027.768089,-1215.630979)\"><polygon fill=\"currentColor\" id=\"euSMf1FbiNs23\" points=\"632.859436,1003.400000 545.466598,1003.400000 87.980000,1388.151601 174.242154,1388.151601 632.859436,1003.400000\" stroke=\"none\" stroke-width=\"1\" transform=\"matrix(1 0 0 1 1278.41180423626361 20.01597926568184)\"></polygon><polygon fill=\"currentColor\" id=\"euSMf1FbiNs24\" points=\"632.859436,1003.400000 545.466598,1003.400000 87.980000,1388.151601 174.242154,1388.151601 632.859436,1003.400000\" stroke=\"none\" stroke-width=\"1\" transform=\"matrix(1 0 0 1 279.34607797268734 20.01597926568184)\"></polygon><polygon fill=\"currentColor\" id=\"euSMf1FbiNs25\" points=\"797.209436,1003.400000 709.824999,1003.400000 252.330000,1388.151601 338.593738,1388.151601 797.209436,1003.400000\" stroke=\"none\" stroke-width=\"1\" transform=\"matrix(1 0 0 1 1278.41180423626383 20.01597926568184)\"></polygon><polygon fill=\"currentColor\" id=\"euSMf1FbiNs26\" points=\"797.209436,1003.400000 709.824999,1003.400000 252.330000,1388.151601 338.593738,1388.151601 797.209436,1003.400000\" stroke=\"none\" stroke-width=\"1\" transform=\"matrix(1 0 0 1 279.34607797268734 20.01597926568184)\"></polygon><polygon fill=\"currentColor\" id=\"euSMf1FbiNs27\" points=\"963.879436,1003.400000 876.494999,1003.400000 419,1388.151601 505.263738,1388.151601 963.879436,1003.400000\" stroke=\"none\" stroke-width=\"1\" transform=\"matrix(1 0 0 1 1278.41180423626383 20.01597926568184)\"></polygon><polygon fill=\"currentColor\" id=\"euSMf1FbiNs28\" points=\"963.879436,1003.400000 876.494999,1003.400000 419,1388.151601 505.263738,1388.151601 963.879436,1003.400000\" stroke=\"none\" stroke-width=\"1\" transform=\"matrix(1 0 0 1 279.34607797268734 20.01597926568184)\"></polygon><polygon fill=\"currentColor\" id=\"euSMf1FbiNs29\" points=\"1128.219436,1003.400000 1040.834999,1003.400000 583.340000,1388.151601 669.603738,1388.151601 1128.219436,1003.400000\" stroke=\"none\" stroke-width=\"1\" transform=\"matrix(1 0 0 1 1277.96797339258319 22.59894977233307)\"></polygon><polygon fill=\"currentColor\" id=\"euSMf1FbiNs30\" points=\"1128.219436,1003.400000 1040.834999,1003.400000 583.340000,1388.151601 669.603738,1388.151601 1128.219436,1003.400000\" stroke=\"none\" stroke-width=\"1\" transform=\"matrix(1 0 0 1 278.90224712900635 22.59894977233307)\"></polygon><polygon fill=\"currentColor\" id=\"euSMf1FbiNs31\" points=\"1296.749436,1003.400000 1209.356598,1003.400000 751.870000,1388.151601 838.132154,1388.151601 1296.749436,1003.400000\" stroke=\"none\" stroke-width=\"1\" transform=\"matrix(1 0 0 1 1278.41180423626565 20.01597926568184)\"></polygon><polygon fill=\"currentColor\" id=\"euSMf1FbiNs32\" points=\"1296.749436,1003.400000 1209.356598,1003.400000 751.870000,1388.151601 838.132154,1388.151601 1296.749436,1003.400000\" stroke=\"none\" stroke-width=\"1\" transform=\"matrix(1 0 0 1 279.34607797268723 20.01597926568184)\"></polygon><polygon fill=\"currentColor\" id=\"euSMf1FbiNs33\" points=\"1461.099436,1003.400000 1373.714999,1003.400000 916.220000,1388.151601 1002.483738,1388.151601 1461.099436,1003.400000\" stroke=\"none\" stroke-width=\"1\" transform=\"matrix(1 0 0 1 1278.41180423626429 20.01597926568184)\"></polygon><polygon fill=\"currentColor\" id=\"euSMf1FbiNs34\" points=\"1461.099436,1003.400000 1373.714999,1003.400000 916.220000,1388.151601 1002.483738,1388.151601 1461.099436,1003.400000\" stroke=\"none\" stroke-width=\"1\" transform=\"matrix(1 0 0 1 279.34607797268723 20.01597926568184)\"></polygon></g></g><mask id=\"euSMf1FbiNs35\" mask-type=\"alpha\"><rect fill=\"rgb(210,219,237)\" height=\"172.855395\" id=\"euSMf1FbiNs36\" rx=\"0\" ry=\"0\" stroke=\"none\" stroke-width=\"0\" transform=\"matrix(6.63914743458407 0 0 3.36734374316499 306.31173456484885 871.81575675521890)\" width=\"668.168909\"></rect></mask></g></g><polygon fill=\"currentColor\" id=\"euSMf1FbiNs37\" points=\"221.679659,0.620000 221.679659,0.669994 221.589769,0.620000 143.495006,136.034612 65.410231,0.620000 65.320341,0.669994 65.320341,0.620000 0,0.620000 0,264.620000 65.320341,264.620000 65.320341,131.265154 119.594153,225.374460 119.594153,225.374460 129.252375,242.112558 157.747625,242.112558 170.312302,220.325034 221.679659,131.265154 221.679659,264.620000 287,264.620000 287,0.620000 221.679659,0.620000\" stroke=\"none\" stroke-width=\"1\" transform=\"matrix(1 0 0 1 327.55203400000005 85.78466519499989)\"></polygon></svg>\n",
       "</div>\n",
       "</a>\n",
       "<div class=\"flex hidden flex-grow items-center space-x-6 text-sm font-semibold tracking-wide lg:block\" data-ga-action=\"navigation_link\" data-ga-element=\"navigation_link\" data-ga-item=\"title\">\n",
       "<a data-ga-click=\"\" data-ga-label=\"$text\" href=\"https://mashable.com/tech\">Tech</a>\n",
       "<a data-ga-click=\"\" data-ga-label=\"$text\" href=\"https://mashable.com/science\">Science</a>\n",
       "<a data-ga-click=\"\" data-ga-label=\"$text\" href=\"https://mashable.com/life\">Life</a>\n",
       "<a data-ga-click=\"\" data-ga-label=\"$text\" href=\"https://mashable.com/category/social-good\">Social Good</a>\n",
       "<a data-ga-click=\"\" data-ga-label=\"$text\" href=\"https://mashable.com/entertainment\">Entertainment</a>\n",
       "<a data-ga-click=\"\" data-ga-label=\"$text\" href=\"https://mashable.com/deals\">Deals</a>\n",
       "</div>\n",
       "<div :class=\"{ 'w-full mx-0 bg-white ': searchOpen, 'w-6 ': !searchOpen}\" class=\"absolute right-0 py-3 mx-4 lg:py-2 lg:mx-4 lg:max-w-xs xl:max-w-sm lg:min-w-20\" false=\"\" true=\"\" x-data=\"window.navSearch()\" x-init=\"init('prod_site_search_autocomplete')\">\n",
       "<div class=\"relative cursor-pointer\">\n",
       "<input :class=\"{ 'visible': searchOpen, 'invisible': !searchOpen }\" aria-label=\"Search Mashable Content\" class=\"invisible py-1 pr-2 pl-8 w-full lg:border focus:outline-none lg:focus:border-gray-400\" placeholder=\"Search\" x-model=\"query\" x-on:input=\"evt=&gt;query=evt.target.value\" x-on:keydown=\"onKeyDown\" x-on:keyup=\"onKeyUp\" x-ref=\"searchInput\"/>\n",
       "<svg class=\"inline-block absolute top-0 left-0 mt-2 ml-2 w-4 h-4 fill-current\" x-cloak=\"\" x-show=\"searchOpen\"><use href=\"/images/icons/spritemap.svg#sprite-search-solid\"></use></svg>\n",
       "<div class=\"flex absolute top-1 flex-row justify-between py-1 w-full\" x-cloak=\"\" x-show=\"!searchOpen\">\n",
       "<div class=\"flex absolute top-0 flex-row justify-between py-1 w-full\">\n",
       "<div class=\"flex flex-row items-center w-full\">\n",
       "<button class=\"flex\"><svg class=\"inline-block ml-2 w-4 h-4 fill-current\"><use href=\"/images/icons/spritemap.svg#sprite-search-solid\"></use></svg></button>\n",
       "<span class=\"hidden ml-2 text-sm font-semibold lg:block\" x-cloak=\"\" x-show=\"!searchOpen\">Search</span>\n",
       "</div>\n",
       "</div>\n",
       "<button class=\"inline-block absolute right-2 text-sm font-semibold lg:hidden\" false=\"\" x-cloak=\"\" x-show=\"searchOpen\">Cancel</button>\n",
       "</div>\n",
       "<div class=\"absolute z-40 w-full bg-white shadow\" x-cloak=\"\" x-show=\"searchOpen\">\n",
       "<template :key=\"key\" hidden=\"\" x-for=\"[key, value] in Object.entries(results)\">\n",
       "<ul class=\"my-2\" x-show=\"value &amp;&amp; value.length &gt; 0\">\n",
       "<li class=\"py-2 pr-5 pl-8 text-sm text-gray-600\" x-text=\"key + ':'\"></li>\n",
       "<template :key=\"index\" hidden=\"\" x-for=\"(item, index) in value\">\n",
       "<li :class=\"{'bg-gray-100': index + '-' + key  === selectedIndex}\" class=\"\" index=\"\" key=\"\">\n",
       "<a :href=\"item.url\" :name=\"item.title\" class=\"block py-2 pr-5 pl-8 leading-tight no-underline break-words cursor-pointer transition-bg\" x-html=\"item.title\">\n",
       "Search Result\n",
       "</a>\n",
       "</li>\n",
       "</template>\n",
       "<hr class=\"my-4 mr-5 ml-8 border border-gray-100 border-1\"/>\n",
       "</ul>\n",
       "</template>\n",
       "</div>\n",
       "</div>\n",
       "</div>\n",
       "</div>\n",
       "<div class=\"flex fixed top-0 z-30 flex-col w-screen h-screen bg-white shadow-md\" false=\"\" style=\"max-width:400px\" x-cloak=\"\" x-show=\"navOpen\" x-transition:enter=\"transition duration-300 ease-out\" x-transition:enter-end=\"opacity-1\" x-transition:enter-start=\"opacity-0\" x-transition:leave=\"transition duration-300 ease-out\" x-transition:leave-end=\"opacity-0\" x-trap=\"navOpen\">\n",
       "<div class=\"flex relative px-4 mt-4\">\n",
       "<button aria-label=\"Close\" class=\"absolute\" false=\"\" x-ref=\"firstMenuItem\">\n",
       "<svg class=\"inline-block w-6 h-6 fill-current\"><use href=\"/images/icons/spritemap.svg#sprite-times-solid\"></use></svg>\n",
       "</button>\n",
       "<div class=\"relative flex-shrink mx-auto text-center text-primary-400\">\n",
       "<svg class=\"inline-block w-6 h-6 fill-current\"><use href=\"/images/icons/spritemap.svg#sprite-mashable-m\"></use></svg>\n",
       "<svg class=\"absolute top-0 left-0 -mt-1 -ml-5 w-12 h-12 fill-current\"><use href=\"/images/icons/spritemap.svg#sprite-logomark\"></use></svg>\n",
       "</div>\n",
       "</div>\n",
       "<div class=\"flex overflow-auto overscroll-none flex-col flex-grow py-6 px-8 mt-6\" data-ga-action=\"side_navigation_link\" data-ga-element=\"side_navigation_link\" data-ga-item=\"title\">\n",
       "<div class=\"mt-6\" x-data=\"{drawerOpen: false}\">\n",
       "<button class=\"uppercase cursor-pointer select-none header-300\">\n",
       "<strong>Tech</strong>\n",
       "<div class=\"inline-block relative\">\n",
       "<svg class=\"inline-block mb-1 w-5 h-5 text-secondary-300\" x-show=\"drawerOpen\"><use href=\"/images/icons/spritemap.svg#sprite-minus-solid\"></use></svg>\n",
       "<svg class=\"inline-block mb-1 w-5 h-5 text-secondary-300\" x-show=\"!drawerOpen\"><use href=\"/images/icons/spritemap.svg#sprite-plus-solid\"></use></svg>\n",
       "</div>\n",
       "</button>\n",
       "<div class=\"text-base\" x-show=\"drawerOpen\">\n",
       "<a class=\"block mt-4\" data-ga-click=\"\" data-ga-label=\"$text\" href=\"https://mashable.com/category/apps-and-software\">Apps &amp; Software</a>\n",
       "<a class=\"block mt-4\" data-ga-click=\"\" data-ga-label=\"$text\" href=\"https://mashable.com/category/cybersecurity\">Cybersecurity</a>\n",
       "<a class=\"block mt-4\" data-ga-click=\"\" data-ga-label=\"$text\" href=\"https://mashable.com/category/mobile\">Mobile</a>\n",
       "<a class=\"block mt-4\" data-ga-click=\"\" data-ga-label=\"$text\" href=\"https://mashable.com/category/smart-home\">Smart Home</a>\n",
       "<a class=\"block mt-4\" data-ga-click=\"\" data-ga-label=\"$text\" href=\"https://mashable.com/category/social-media\">Social Media</a>\n",
       "<a class=\"block mt-4\" data-ga-click=\"\" data-ga-label=\"$text\" href=\"https://mashable.com/category/tech-industry\">Tech Industry</a>\n",
       "<a class=\"block mt-4\" data-ga-click=\"\" data-ga-label=\"$text\" href=\"https://mashable.com/category/transportation\">Transportation</a>\n",
       "<a class=\"block mt-4 font-bold\" data-ga-click=\"\" data-ga-label=\"$text\" href=\"https://mashable.com/tech\">All Tech</a>\n",
       "</div>\n",
       "</div>\n",
       "<div class=\"mt-6\" x-data=\"{drawerOpen: false}\">\n",
       "<button class=\"uppercase cursor-pointer select-none header-300\">\n",
       "<strong>Science</strong>\n",
       "<div class=\"inline-block relative\">\n",
       "<svg class=\"inline-block mb-1 w-5 h-5 text-secondary-300\" x-show=\"drawerOpen\"><use href=\"/images/icons/spritemap.svg#sprite-minus-solid\"></use></svg>\n",
       "<svg class=\"inline-block mb-1 w-5 h-5 text-secondary-300\" x-show=\"!drawerOpen\"><use href=\"/images/icons/spritemap.svg#sprite-plus-solid\"></use></svg>\n",
       "</div>\n",
       "</button>\n",
       "<div class=\"text-base\" x-show=\"drawerOpen\">\n",
       "<a class=\"block mt-4\" data-ga-click=\"\" data-ga-label=\"$text\" href=\"https://mashable.com/category/space\">Space</a>\n",
       "<a class=\"block mt-4\" data-ga-click=\"\" data-ga-label=\"$text\" href=\"https://mashable.com/category/climate-change\">Climate Change</a>\n",
       "<a class=\"block mt-4\" data-ga-click=\"\" data-ga-label=\"$text\" href=\"https://mashable.com/category/environment\">Environment</a>\n",
       "<a class=\"block mt-4 font-bold\" data-ga-click=\"\" data-ga-label=\"$text\" href=\"https://mashable.com/science\">All Science</a>\n",
       "</div>\n",
       "</div>\n",
       "<div class=\"mt-6\" x-data=\"{drawerOpen: false}\">\n",
       "<button class=\"uppercase cursor-pointer select-none header-300\">\n",
       "<strong>Life</strong>\n",
       "<div class=\"inline-block relative\">\n",
       "<svg class=\"inline-block mb-1 w-5 h-5 text-secondary-300\" x-show=\"drawerOpen\"><use href=\"/images/icons/spritemap.svg#sprite-minus-solid\"></use></svg>\n",
       "<svg class=\"inline-block mb-1 w-5 h-5 text-secondary-300\" x-show=\"!drawerOpen\"><use href=\"/images/icons/spritemap.svg#sprite-plus-solid\"></use></svg>\n",
       "</div>\n",
       "</button>\n",
       "<div class=\"text-base\" x-show=\"drawerOpen\">\n",
       "<a class=\"block mt-4\" data-ga-click=\"\" data-ga-label=\"$text\" href=\"https://mashable.com/category/digital-culture\">Digital Culture</a>\n",
       "<a class=\"block mt-4\" data-ga-click=\"\" data-ga-label=\"$text\" href=\"https://mashable.com/category/family-parenting\">Family &amp; Parenting</a>\n",
       "<a class=\"block mt-4\" data-ga-click=\"\" data-ga-label=\"$text\" href=\"https://mashable.com/category/health-wellness\">Health &amp; Wellness</a>\n",
       "<a class=\"block mt-4\" data-ga-click=\"\" data-ga-label=\"$text\" href=\"https://mashable.com/category/sex-dating-relationships\">Sex, Dating &amp; Relationships</a>\n",
       "<a class=\"block mt-4 font-bold\" data-ga-click=\"\" data-ga-label=\"$text\" href=\"https://mashable.com/life\">All Life</a>\n",
       "</div>\n",
       "</div>\n",
       "<div class=\"mt-6\" x-data=\"{drawerOpen: false}\">\n",
       "<button class=\"uppercase cursor-pointer select-none header-300\">\n",
       "<strong>Social Good</strong>\n",
       "<div class=\"inline-block relative\">\n",
       "<svg class=\"inline-block mb-1 w-5 h-5 text-secondary-300\" x-show=\"drawerOpen\"><use href=\"/images/icons/spritemap.svg#sprite-minus-solid\"></use></svg>\n",
       "<svg class=\"inline-block mb-1 w-5 h-5 text-secondary-300\" x-show=\"!drawerOpen\"><use href=\"/images/icons/spritemap.svg#sprite-plus-solid\"></use></svg>\n",
       "</div>\n",
       "</button>\n",
       "<div class=\"text-base\" x-show=\"drawerOpen\">\n",
       "<a class=\"block mt-4\" data-ga-click=\"\" data-ga-label=\"$text\" href=\"https://mashable.com/category/activism\">Activism</a>\n",
       "<a class=\"block mt-4\" data-ga-click=\"\" data-ga-label=\"$text\" href=\"https://mashable.com/category/gender\">Gender</a>\n",
       "<a class=\"block mt-4\" data-ga-click=\"\" data-ga-label=\"$text\" href=\"https://mashable.com/category/lgbtq\">LGBTQ</a>\n",
       "<a class=\"block mt-4\" data-ga-click=\"\" data-ga-label=\"$text\" href=\"https://mashable.com/category/mental-health\">Mental Health</a>\n",
       "<a class=\"block mt-4\" data-ga-click=\"\" data-ga-label=\"$text\" href=\"https://mashable.com/category/racism\">Racial Justice</a>\n",
       "<a class=\"block mt-4\" data-ga-click=\"\" data-ga-label=\"$text\" href=\"https://mashable.com/category/sustainability\">Sustainability</a>\n",
       "<a class=\"block mt-4 font-bold\" data-ga-click=\"\" data-ga-label=\"$text\" href=\"https://mashable.com/category/social-good\">All Social Good</a>\n",
       "</div>\n",
       "</div>\n",
       "<div class=\"mt-6\" x-data=\"{drawerOpen: false}\">\n",
       "<button class=\"uppercase cursor-pointer select-none header-300\">\n",
       "<strong>Entertainment</strong>\n",
       "<div class=\"inline-block relative\">\n",
       "<svg class=\"inline-block mb-1 w-5 h-5 text-secondary-300\" x-show=\"drawerOpen\"><use href=\"/images/icons/spritemap.svg#sprite-minus-solid\"></use></svg>\n",
       "<svg class=\"inline-block mb-1 w-5 h-5 text-secondary-300\" x-show=\"!drawerOpen\"><use href=\"/images/icons/spritemap.svg#sprite-plus-solid\"></use></svg>\n",
       "</div>\n",
       "</button>\n",
       "<div class=\"text-base\" x-show=\"drawerOpen\">\n",
       "<a class=\"block mt-4\" data-ga-click=\"\" data-ga-label=\"$text\" href=\"https://mashable.com/category/games\">Games</a>\n",
       "<a class=\"block mt-4\" data-ga-click=\"\" data-ga-label=\"$text\" href=\"https://mashable.com/category/movies\">Movies</a>\n",
       "<a class=\"block mt-4\" data-ga-click=\"\" data-ga-label=\"$text\" href=\"https://mashable.com/category/podcasts\">Podcasts</a>\n",
       "<a class=\"block mt-4\" data-ga-click=\"\" data-ga-label=\"$text\" href=\"https://mashable.com/category/tv-shows\">TV Shows</a>\n",
       "<a class=\"block mt-4 font-bold\" data-ga-click=\"\" data-ga-label=\"$text\" href=\"https://mashable.com/entertainment\">All Entertainment</a>\n",
       "</div>\n",
       "</div>\n",
       "<div class=\"mt-6\" x-data=\"{drawerOpen: false}\">\n",
       "<button class=\"uppercase cursor-pointer select-none header-300\">\n",
       "<strong>SHOP THE BEST</strong>\n",
       "<div class=\"inline-block relative\">\n",
       "<svg class=\"inline-block mb-1 w-5 h-5 text-secondary-300\" x-show=\"drawerOpen\"><use href=\"/images/icons/spritemap.svg#sprite-minus-solid\"></use></svg>\n",
       "<svg class=\"inline-block mb-1 w-5 h-5 text-secondary-300\" x-show=\"!drawerOpen\"><use href=\"/images/icons/spritemap.svg#sprite-plus-solid\"></use></svg>\n",
       "</div>\n",
       "</button>\n",
       "<div class=\"text-base\" x-show=\"drawerOpen\">\n",
       "<a class=\"block mt-4\" data-ga-click=\"\" data-ga-label=\"$text\" href=\"https://mashable.com/roundups/category/house-home\">Home</a>\n",
       "<a class=\"block mt-4\" data-ga-click=\"\" data-ga-label=\"$text\" href=\"https://mashable.com/roundups/category/tech\">Tech</a>\n",
       "<a class=\"block mt-4\" data-ga-click=\"\" data-ga-label=\"$text\" href=\"https://mashable.com/roundups/category/kitchen\">Kitchen</a>\n",
       "<a class=\"block mt-4\" data-ga-click=\"\" data-ga-label=\"$text\" href=\"https://mashable.com/roundups/category/fitness\">Fitness</a>\n",
       "<a class=\"block mt-4\" data-ga-click=\"\" data-ga-label=\"$text\" href=\"https://mashable.com/roundups/category/sex-toys\">Sex Toys</a>\n",
       "<a class=\"block mt-4\" data-ga-click=\"\" data-ga-label=\"$text\" href=\"https://mashable.com/roundups/category/apps-and-software\">Apps &amp; Software</a>\n",
       "<a class=\"block mt-4\" data-ga-click=\"\" data-ga-label=\"$text\" href=\"https://mashable.com/roundups/category/sex-dating-relationships\">Dating</a>\n",
       "<a class=\"block mt-4\" data-ga-click=\"\" data-ga-label=\"$text\" href=\"https://mashable.com/gifts\">\n",
       "Gift Guides\n",
       "</a>\n",
       "<a class=\"block mt-4\" data-ga-click=\"\" data-ga-label=\"$text\" href=\"/mashable-choice\">Mashable Choice</a>\n",
       "<a class=\"block mt-4 font-bold\" data-ga-click=\"\" data-ga-label=\"$text\" href=\"https://mashable.com/roundups\">All Best Products</a>\n",
       "</div>\n",
       "</div>\n",
       "<div class=\"mt-6\">\n",
       "<a class=\"uppercase cursor-pointer select-none header-300\" data-ga-click=\"\" data-ga-label=\"$text\" href=\"https://mashable.com/review\"><strong>Reviews</strong></a>\n",
       "</div>\n",
       "<div class=\"mt-6\" x-data=\"{drawerOpen: false}\">\n",
       "<button class=\"uppercase cursor-pointer select-none header-300\">\n",
       "<strong>DEALS</strong>\n",
       "<div class=\"inline-block relative\">\n",
       "<svg class=\"inline-block mb-1 w-5 h-5 text-secondary-300\" x-show=\"drawerOpen\"><use href=\"/images/icons/spritemap.svg#sprite-minus-solid\"></use></svg>\n",
       "<svg class=\"inline-block mb-1 w-5 h-5 text-secondary-300\" x-show=\"!drawerOpen\"><use href=\"/images/icons/spritemap.svg#sprite-plus-solid\"></use></svg>\n",
       "</div>\n",
       "</button>\n",
       "<div class=\"text-base\" x-show=\"drawerOpen\">\n",
       "<a class=\"block mt-4\" data-ga-click=\"\" data-ga-label=\"$text\" href=\"https://mashable.com/deals/category/house-home\">Home</a>\n",
       "<a class=\"block mt-4\" data-ga-click=\"\" data-ga-label=\"$text\" href=\"https://mashable.com/deals/category/tech\">Tech</a>\n",
       "<a class=\"block mt-4\" data-ga-click=\"\" data-ga-label=\"$text\" href=\"https://shop.mashable.com/\" rel=\"noopener\" target=\"_blank\">\n",
       "Mashable Shop<span class=\"sr-only\">(opens in a new tab)</span>\n",
       "<svg class=\"inline-block mb-1 ml-1 w-4 h-4 text-secondary-300\"><use href=\"/images/icons/spritemap.svg#sprite-external-link\"></use></svg>\n",
       "</a>\n",
       "<a class=\"block mt-4 font-bold\" data-ga-click=\"\" data-ga-label=\"$text\" href=\"https://mashable.com/deals\">All Deals</a>\n",
       "</div>\n",
       "</div>\n",
       "<div class=\"mt-6\">\n",
       "<a class=\"uppercase cursor-pointer select-none header-300\" data-ga-click=\"\" data-ga-label=\"$text\" href=\"https://mashable.com/newsletters\"><strong>Newsletters</strong></a>\n",
       "</div>\n",
       "<div class=\"mt-6\" x-data=\"{drawerOpen: false}\">\n",
       "<button class=\"uppercase cursor-pointer select-none header-300\">\n",
       "<strong>VIDEOS</strong>\n",
       "<div class=\"inline-block relative\">\n",
       "<svg class=\"inline-block mb-1 w-5 h-5 text-secondary-300\" x-show=\"drawerOpen\"><use href=\"/images/icons/spritemap.svg#sprite-minus-solid\"></use></svg>\n",
       "<svg class=\"inline-block mb-1 w-5 h-5 text-secondary-300\" x-show=\"!drawerOpen\"><use href=\"/images/icons/spritemap.svg#sprite-plus-solid\"></use></svg>\n",
       "</div>\n",
       "</button>\n",
       "<div class=\"text-base\" x-show=\"drawerOpen\">\n",
       "<a class=\"block mt-4\" data-ga-click=\"\" data-ga-label=\"$text\" href=\"https://mashable.com/shows\">Mashable Shows</a>\n",
       "<a class=\"block mt-4 font-bold\" data-ga-click=\"\" data-ga-label=\"$text\" href=\"https://mashable.com/videos\">All Videos</a>\n",
       "</div>\n",
       "</div>\n",
       "</div>\n",
       "</div>\n",
       "</nav>\n",
       "<header class=\"max-w-7xl px-4 mt-8 text-primary-400 font-sans mx-auto\">\n",
       "<div class=\"flex flex-wrap subtitle-2\">\n",
       "</div>\n",
       "<h1 class=\"mt-4 header-100 max-w-5xl\">13 Static Site Generators to Help You Build Your Ultimate Website</h1>\n",
       "<div class=\"mt-2 leading-normal text-xl max-w-5xl\"></div>\n",
       "<div class=\"w-full subtitle-2 mt-8 text-left md:flex md:flex-wrap md:items-baseline md:space-x-8\">\n",
       "<div>\n",
       "By\n",
       "<a class=\"underline-link\" href=\"/author/grace-smith\">Grace Smith</a>  on <time datetime=\"Thu, 28 Aug 2014 11:15:22 +0000\">August 28, 2014</time>\n",
       "</div>\n",
       "<div class=\"flex flex-initial content-start mt-4 text-base md:mt-0\">\n",
       "<a aria-label=\"Facebook Share\" class=\"pr-3 hover:text-primary-400\" data-ga-action=\"social_share_link\" data-ga-click=\"\" data-ga-element=\"social-share-link\" data-ga-label=\"facebook\" data-ga-position=\"1\" href=\"https://www.facebook.com/sharer.php?u=https%3A%2F%2Fmashable.com%2Farchive%2Fstatic-website-generators\" rel=\"noopener\" target=\"_blank\">\n",
       "<svg class=\"inline-block w-5 h-4 fill-current\"><use href=\"/images/icons/spritemap.svg#sprite-facebook-f-brands\"></use></svg>\n",
       "<span class=\"sr-only\">Share on Facebook (opens in a new window)</span>\n",
       "</a>\n",
       "<a aria-label=\"Twitter Share\" class=\"px-3 hover:text-primary-400\" data-ga-action=\"social_share_link\" data-ga-click=\"\" data-ga-element=\"social-share-link\" data-ga-label=\"twitter\" data-ga-position=\"2\" href=\"https://twitter.com/intent/tweet?url=https%3A%2F%2Fmashable.com%2Farchive%2Fstatic-website-generators&amp;text=13+Static+Site+Generators+to+Help+You+Build+Your+Ultimate+Website\" rel=\"noopener\" target=\"_blank\">\n",
       "<svg class=\"inline-block w-5 h-4 fill-current\"><use href=\"/images/icons/spritemap.svg#sprite-twitter-brands\"></use></svg>\n",
       "<span class=\"sr-only\">Share on Twitter (opens in a new window)</span>\n",
       "</a>\n",
       "<a aria-label=\"Flipboard Share\" class=\"px-3 hover:text-primary-400\" data-ga-action=\"social_share_link\" data-ga-click=\"\" data-ga-element=\"social-share-link\" data-ga-label=\"flipboard\" data-ga-position=\"3\" href=\"https://share.flipboard.com/bookmarklet/popout?v=2&amp;url=https%3A%2F%2Fmashable.com%2Farchive%2Fstatic-website-generators&amp;title=13+Static+Site+Generators+to+Help+You+Build+Your+Ultimate+Website\" rel=\"noopener\" target=\"_blank\">\n",
       "<svg class=\"inline-block w-5 h-4 fill-current\"><use href=\"/images/icons/spritemap.svg#sprite-flipboard-brands\"></use></svg>\n",
       "<span class=\"sr-only\">Share on Flipboard (opens in a new window)</span>\n",
       "</a>\n",
       "</div>\n",
       "</div>\n",
       "</header>\n",
       "<div class=\"px-4 mx-auto mt-8 mt-10 max-w-7xl font-sans text-primary-400\">\n",
       "<img alt=\"13 Static Site Generators to Help You Build Your Ultimate Website\" class=\"w-full\" height=\"702\" sizes=\"(max-width: 1280px) 100vw, 1280px\" src=\"https://helios-i.mashable.com/imagery/archives/00s0gVKdAC9EPTZERS7TvPb/hero-image.fill.size_1248x702.v1647024413.jpg\" srcset=\"https://helios-i.mashable.com/imagery/archives/00s0gVKdAC9EPTZERS7TvPb/hero-image.fill.size_400x225.v1647024413.jpg 400w, https://helios-i.mashable.com/imagery/archives/00s0gVKdAC9EPTZERS7TvPb/hero-image.fill.size_800x450.v1647024413.jpg 800w, https://helios-i.mashable.com/imagery/archives/00s0gVKdAC9EPTZERS7TvPb/hero-image.fill.size_1248x702.v1647024413.jpg 1600w\" width=\"1248\"/>\n",
       "<div class=\"mt-2 leading-none text-left\">\n",
       "<span class=\"font-sans text-gray-600 capitalize subtitle-2\">Credit: vasabii</span>\n",
       "</div>\n",
       "</div>\n",
       "<main class=\"justify-between items-stretch px-4 mx-auto lg:flex max-w-8xl\">\n",
       "<section class=\"flex-grow 2xl:pr-4\" data-ga-module=\"content_body\">\n",
       "<article class=\"mt-8 font-serif editor-content\" data-autopogo=\"\" id=\"article\">\n",
       "<p>Websites are becoming leaner, faster and more agile, as users demand quick, seamless experiences. The solution is to utilize a lightweight, static website generator, which can make building and maintaining websites incredibly simple, as there is no database to slow requests down, and web servers automatically cache headers, reducing bandwidth usage.</p><p>Static sites also offer greater security, as they do not contain dynamic content, so are immune to the most common attacks. Storing content in flat, text files, makes them ideal to be used with version control systems, such as Git. Utilizing a static site generator means you can build websites with modern frameworks, and workflows, with a high degree of productivity and efficiency.</p><p>We have compiled 13 of the best static site generators, which are easy to scale, offer secure filesystems, increased performance and are quick to setup.</p><p></p>\n",
       "</article>\n",
       "</section>\n",
       "<aside class=\"hidden flex-none 2xl:block\" data-ga-module=\"content_rail\" style=\"width:300px;\">\n",
       "<div class=\"sticky top-0 pt-16 mt-8\">\n",
       "<div data-pogo=\"sidebar\"></div>\n",
       "</div>\n",
       "</aside>\n",
       "</main>\n",
       "<div class=\"py-9 px-6 mt-20 text-center text-black rounded border md:mt-32 bg-warmgray-100 border-warmgray-100\" data-ga-category=\"newsletters\" data-ga-impression=\"\" data-ga-label=\"Top Stories\" data-ga-module=\"footer_nl_signup\" x-data=\"window.newsletter()\" x-init=\"init()\">\n",
       "<div class=\"flex flex-col mx-auto max-w-4xl font-sans md:flex-row\" x-show=\"!isSuccess\">\n",
       "<div class=\"font-bold leading-8 text-left md:w-1/2 header-300\">The biggest stories of the day delivered to your inbox.</div>\n",
       "<div class=\"flex flex-col md:mt-2 md:w-1/2\">\n",
       "<form class=\"flex flex-row mt-8 h-12 border-b-2 md:mt-0 text-primary-400 border-primary-400 focus-within:text-secondary-300\" data-initial-lists=\"top-stories\" x-on:submit.prevent=\"submit()\" x-ref=\"subscribeForm\">\n",
       "<input aria-describedby=\"emailSubscribeErrorContainer\" aria-label=\"Email\" class=\"py-2 px-4 w-4/6 text-base font-normal leading-5 placeholder-gray-600 text-gray-600 bg-white md:w-3/4\" placeholder=\"Email Address\" type=\"email\" x-model=\"email\" x-ref=\"emailInput\"/>\n",
       "<input name=\"lists\" type=\"hidden\" value=\"\" x-bind:value=\"selectedListsValue()\"/>\n",
       "<input name=\"source\" type=\"hidden\" value=\"site-footer\"/>\n",
       "<input name=\"courierList\" type=\"hidden\" value=\"Mashable On-Site - Top Stories Daily\"/>\n",
       "<button :disabled=\"isLoading\" class=\"py-2 px-1 w-2/6 font-bold leading-5 text-center bg-white md:w-1/4 subtitle-1\" type=\"submit\">\n",
       "<span class=\"text-primary-400\" x-cloak=\"\" x-show=\"isLoading\">Loading...</span>\n",
       "<span :class=\"{'text-red': isError}\" class=\"text-sm\" x-show=\"!isLoading\">Subscribe</span>\n",
       "</button>\n",
       "</form>\n",
       "<div class=\"flex flex-row px-4 mt-4 text-red\" x-cloak=\"\" x-show=\"isError\">\n",
       "<svg class=\"inline-block w-4 h-4 leading-4 fill-current\"><use href=\"/images/icons/spritemap.svg#sprite-exclamation-square\"></use></svg>\n",
       "<div class=\"ml-1 font-bold leading-4 text-left subtitle-2\" id=\"emailSubscribeErrorContainer\" x-text=\"error\"></div>\n",
       "</div>\n",
       "</div>\n",
       "</div>\n",
       "<div class=\"mx-auto mt-4 max-w-4xl font-sans leading-normal text-left subtitle-1\" x-show=\"!isSuccess\">\n",
       "By signing up to the Mashable newsletter you agree to receive electronic communications\n",
       "from Mashable that may sometimes include advertisements or sponsored content.\n",
       "</div>\n",
       "<div class=\"py-1 text-center\" x-cloak=\"\" x-show=\"isSuccess\">\n",
       "<svg class=\"inline-block w-24 h-20 leading-4 fill-current\"><use href=\"/images/icons/spritemap.svg#sprite-mailbox-regular\"></use></svg>\n",
       "<div class=\"header-300\">Thanks for signing up. See you at your inbox!</div>\n",
       "</div>\n",
       "</div>\n",
       "<footer class=\"py-12 mx-auto w-full font-sans text-center text-white bg-primary-400\" data-ga-action=\"footer_link\" data-ga-module=\"global_footer\">\n",
       "<div class=\"flex flex-col px-8 md:mx-auto lg:px-4 max-w-8xl\">\n",
       "<div class=\"inline-block relative mb-4 ml-5 text-left text-white\">\n",
       "<svg class=\"inline-block w-6 h-6 fill-current\"><use href=\"/images/icons/spritemap.svg#sprite-mashable-m\"></use></svg>\n",
       "<svg class=\"absolute top-0 left-0 -mt-1 -ml-5 w-12 h-12 fill-current\"><use href=\"/images/icons/spritemap.svg#sprite-logomark\"></use></svg>\n",
       "</div>\n",
       "<div class=\"my-8 text-left lg:pr-24 lg:mr-7\">\n",
       "<ul class=\"flex flex-col mt-8 space-y-8 text-2xl font-bold text-white lg:flex-row lg:mt-0 lg:space-y-0 lg:space-x-12\">\n",
       "<li><a class=\"text-white hover:text-accent\" data-ga-click=\"\" data-ga-label=\"$text\" href=\"https://mashable.com/tech\">TECH</a></li>\n",
       "<li><a class=\"text-white hover:text-accent\" data-ga-click=\"\" data-ga-label=\"$text\" href=\"https://mashable.com/science\">SCIENCE</a></li>\n",
       "<li><a class=\"text-white hover:text-accent\" data-ga-click=\"\" data-ga-label=\"$text\" href=\"https://mashable.com/life\">LIFE</a></li>\n",
       "<li><a class=\"text-white hover:text-accent\" data-ga-click=\"\" data-ga-label=\"$text\" href=\"https://mashable.com/category/social-good\">SOCIAL GOOD</a></li>\n",
       "<li><a class=\"text-white hover:text-accent\" data-ga-click=\"\" data-ga-label=\"$text\" href=\"https://mashable.com/entertainment\">ENTERTAINMENT</a></li>\n",
       "<li><a class=\"text-white hover:text-accent\" data-ga-click=\"\" data-ga-label=\"$text\" href=\"https://mashable.com/roundups\">BEST PRODUCTS</a></li>\n",
       "<li><a class=\"text-white hover:text-accent\" data-ga-click=\"\" data-ga-label=\"$text\" href=\"https://mashable.com/deals\">DEALS</a></li>\n",
       "</ul>\n",
       "<ul class=\"flex flex-col mt-12 space-y-4 text-sm font-bold text-white md:flex-row md:space-y-0 md:space-x-6\">\n",
       "<li><a class=\"text-white hover:text-accent\" data-ga-click=\"\" data-ga-label=\"$text\" href=\"https://mashable.com/about/mashable-staff-masthead\">About Mashable</a></li>\n",
       "<li><a class=\"text-white hover:text-accent\" data-ga-click=\"\" data-ga-label=\"$text\" href=\"https://mashable.com/about/contact-us\">Contact Us</a></li>\n",
       "<li><a class=\"text-white hover:text-accent\" data-ga-click=\"\" data-ga-label=\"$text\" href=\"https://www.j2global.com/careers/jobs/?brand=Mashable\" rel=\"noopener\">We're Hiring</a></li>\n",
       "<li><a class=\"text-white hover:text-accent\" data-ga-click=\"\" data-ga-label=\"$text\" href=\"https://mashable.com/newsletters\" rel=\"noopener\">Newsletters</a></li>\n",
       "<li><a class=\"text-white hover:text-accent\" data-ga-click=\"\" data-ga-label=\"$text\" href=\"https://mashable.com/sitemap\">Sitemap</a></li>\n",
       "</ul>\n",
       "<ul class=\"flex flex-row flex-wrap my-8 text-white md:mt-5 md:mb-8 md:space-x-8\">\n",
       "<li><a aria-label=\"Mashable Facebook Page\" data-ga-click=\"\" data-ga-label=\"facebook\" href=\"https://www.facebook.com/mashable/\" rel=\"noopener\"><svg class=\"inline-block mt-6 mr-8 w-5 h-5 text-white fill-current md:mt-0 md:mr-0 hover:text-accent\"><use href=\"/images/icons/spritemap.svg#sprite-facebook-f-brands\"></use></svg></a></li>\n",
       "<li><a aria-label=\"Mashable Twitter Page\" data-ga-click=\"\" data-ga-label=\"twitter\" href=\"https://twitter.com/mashable\" rel=\"noopener\"><svg class=\"inline-block mt-6 mr-8 w-5 h-5 text-white fill-current md:mt-0 md:mr-0 hover:text-accent\"><use href=\"/images/icons/spritemap.svg#sprite-twitter-brands\"></use></svg></a></li>\n",
       "<li><a aria-label=\"Mashable Instagram Page\" data-ga-click=\"\" data-ga-label=\"instagram\" href=\"http://instagram.com/Mashable\" rel=\"noopener\"><svg class=\"inline-block mt-6 mr-8 w-5 h-5 text-white fill-current md:mt-0 md:mr-0 hover:text-accent\"><use href=\"/images/icons/spritemap.svg#sprite-instagram-brands\"></use></svg></a></li>\n",
       "<li><a aria-label=\"Mashable Youtube Page\" data-ga-click=\"\" data-ga-label=\"youtube\" href=\"https://www.youtube.com/user/mashable\" rel=\"noopener\"><svg class=\"inline-block mt-6 mr-8 w-5 h-5 text-white fill-current md:mt-0 md:mr-0 hover:text-accent\"><use href=\"/images/icons/spritemap.svg#sprite-youtube\"></use></svg></a></li>\n",
       "<li><a aria-label=\"Mashable Pinterest Page\" data-ga-click=\"\" data-ga-label=\"pinterest\" href=\"https://www.pinterest.com/mashable/\" rel=\"noopener\"><svg class=\"inline-block mt-6 mr-8 w-5 h-5 text-white fill-current md:mt-0 md:mr-0 hover:text-accent\"><use href=\"/images/icons/spritemap.svg#sprite-pinterest\"></use></svg></a></li>\n",
       "<li><a aria-label=\"Mashable Tiktok Page\" data-ga-click=\"\" data-ga-label=\"tiktok\" href=\" https://www.tiktok.com/@mashable\" rel=\"noopener\"><svg class=\"inline-block mt-6 mr-8 w-5 h-5 text-white fill-current md:mt-0 md:mr-0 hover:text-accent\"><use href=\"/images/icons/spritemap.svg#sprite-tiktok\"></use></svg></a></li>\n",
       "<li><a aria-label=\"Mashable Flipboard Page\" data-ga-click=\"\" data-ga-label=\"flipboard\" href=\"https://flipboard.com/@Mashable\" rel=\"noopener\"><svg class=\"inline-block mt-6 mr-8 w-5 h-5 text-white fill-current md:mt-0 md:mr-0 hover:text-accent\"><use href=\"/images/icons/spritemap.svg#sprite-flipboard-brands\"></use></svg></a></li>\n",
       "<li><a aria-label=\"Mashable Linkedin Page\" data-ga-click=\"\" data-ga-label=\"linkedin\" href=\"https://www.linkedin.com/company/mashable\" rel=\"noopener\"><svg class=\"inline-block mt-6 mr-8 w-5 h-5 text-white fill-current md:mt-0 md:mr-0 hover:text-accent\"><use href=\"/images/icons/spritemap.svg#sprite-linkedin\"></use></svg></a></li>\n",
       "<li><a aria-label=\"Mashable Feeds Page\" data-ga-click=\"\" data-ga-label=\"rss\" href=\"https://mashable.com/feeds/rss/all\" rel=\"noopener\"><svg class=\"inline-block mt-6 mr-8 w-5 h-5 text-white fill-current md:mt-0 md:mr-0 hover:text-accent\"><use href=\"/images/icons/spritemap.svg#sprite-rss-solid\"></use></svg></a></li>\n",
       "</ul>\n",
       "<div class=\"flex flex-col mb-8 space-y-4 md:flex-row md:items-center md:space-y-0 md:space-x-4\">\n",
       "<img alt=\"Group Black\" loading=\"lazy\" src=\"/images/group-black-logo-purple.png\" width=\"150px\"/>\n",
       "<div class=\"max-w-3xl leading-normal subtitle-1\">Mashable supports <a class=\"font-bold text-white\" data-ga-click=\"\" data-ga-label=\"$text\" href=\"https://www.ziffdavis.com/general/group-black-and-ziff-davis-partner-to-amplify-and-scale-black-voices-in-media\" rel=\"noopener\">Group Black</a> and its mission to increase greater diversity in media voices and media ownership. Group Black's collective includes <a class=\"font-bold text-white\" data-ga-click=\"\" data-ga-label=\"$text\" href=\"https://www.essence.com/\" rel=\"noopener\">Essence</a>, <a class=\"font-bold text-white\" data-ga-click=\"\" data-ga-label=\"$text\" href=\"https://theshaderoom.com/\" rel=\"noopener\">TheShadeRoom</a> and <a class=\"font-bold text-white\" data-ga-click=\"\" data-ga-label=\"$text\" href=\"https://afropunk.com/\" rel=\"noopener\">Afro-Punk</a>.</div>\n",
       "</div>\n",
       "<div class=\"font-sans leading-5 subtitle-1\">©2005–2023 Mashable, Inc., a Ziff Davis company. All Rights Reserved.</div>\n",
       "<div class=\"font-sans leading-5 subtitle-1\">Mashable is a registered trademark of Ziff Davis and may not be used by third parties without express written permission.</div>\n",
       "<ul class=\"flex flex-col flex-wrap justify-start items-baseline mt-8 space-y-4 font-sans underline md:flex-row md:space-y-0 md:space-x-6 lg:flex-row subtitle-2\">\n",
       "<li><a class=\"text-white hover:text-accent\" data-ga-click=\"\" data-ga-label=\"$text\" href=\"https://www.ziffdavis.com/about\" rel=\"noopener\">About Ziff Davis</a></li>\n",
       "<li><a class=\"text-white hover:text-accent\" data-ga-click=\"\" data-ga-label=\"$text\" href=\"https://www.ziffdavis.com/privacy-policy\" rel=\"noopener\">Privacy Policy</a></li>\n",
       "<li><a class=\"text-white hover:text-accent\" data-ga-click=\"\" data-ga-label=\"$text\" href=\"https://www.ziffdavis.com/terms-of-use\" rel=\"noopener\">Terms of Use</a></li>\n",
       "<li><a class=\"text-white hover:text-accent\" data-ga-click=\"\" data-ga-label=\"$text\" href=\"https://ziffmedia.com/\" rel=\"noopener\">Advertise</a></li>\n",
       "<li><a class=\"text-white hover:text-accent\" data-ga-click=\"\" data-ga-label=\"$text\" href=\"https://www.ziffdavis.com/accessibility\" rel=\"noopener\">Accessibility</a></li>\n",
       "<li><a class=\"text-white hover:text-accent\" data-ga-click=\"\" data-ga-label=\"$text\" href=\"https://mashable.com/ccpa\">Do Not Sell My Personal Information</a></li>\n",
       "<li><a aria-label=\"BBB Accredited Business Logo\" data-ga-click=\"\" data-ga-label=\"BBB Accredited Business Logo\" href=\"https://www.bbb.org/us/ny/new-york/profile/digital-media/ziff-davis-llc-0121-531/#sealclick\" rel=\"noopener\"><svg fill=\"none\" height=\"50\" viewbox=\"0 0 96 50\" width=\"96\" xmlns=\"http://www.w3.org/2000/svg\" xmlns:xlink=\"http://www.w3.org/1999/xlink\">\n",
       "<rect fill=\"url(#pattern1)\" height=\"50\" width=\"96\"></rect>\n",
       "<defs>\n",
       "<pattern height=\"1\" id=\"pattern1\" patterncontentunits=\"objectBoundingBox\" width=\"1\">\n",
       "<use transform=\"translate(0 -0.00223217) scale(0.0104167 0.0200893)\" xlink:href=\"#image1\"></use>\n",
       "</pattern>\n",
       "<image height=\"50\" id=\"image1\" width=\"96\" xlink:href=\"data:image/png;base64,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\"/>\n",
       "</defs>\n",
       "</svg></a></li>\n",
       "<li>\n",
       "<button class=\"block\" data-ga-click=\"\" data-ga-label=\"zd_consent\" onclick=\"window.zdconsent.showConsentTool();\">\n",
       "<img alt=\"ZiffDavis AdChoices\" class=\"inline-block mr-2\" height=\"18px\" loading=\"lazy\" src=\"https://c.evidon.com/pub/icong1.png\" width=\"14px\"/>AdChoices\n",
       "</button>\n",
       "</li>\n",
       "</ul>\n",
       "</div>\n",
       "</div>\n",
       "</footer>\n",
       "<script async=\"\" src=\"/js/app.js?id=dac38c65cc874218a105e985b9ad1a1e\"></script>\n",
       "<script crossorigin=\"anonymous\" data-cf-beacon='{\"rayId\":\"78f4a7123e4c0716\",\"token\":\"9170c8255f824528826550ee74ecc073\",\"version\":\"2022.11.3\",\"si\":100}' defer=\"\" integrity=\"sha512-0ahDYl866UMhKuYcW078ScMalXqtFJggm7TmlUtp0UlD4eQk0Ixfnm5ykXKvGJNFjLMoortdseTfsRT8oCfgGA==\" src=\"https://static.cloudflareinsights.com/beacon.min.js/vaafb692b2aea4879b33c060e79fe94621666317369993\"></script>\n",
       "</body>\n",
       "</html>"
      ]
     },
     "execution_count": 58,
     "metadata": {},
     "output_type": "execute_result"
    }
   ],
   "source": [
    "soup = BeautifulSoup(resp.text, 'lxml')\n",
    "soup"
   ]
  },
  {
   "cell_type": "code",
   "execution_count": 59,
   "id": "38024134",
   "metadata": {},
   "outputs": [
    {
     "data": {
      "text/plain": [
       "[<a aria-label=\"Home\" class=\"flex items-center mr-12 w-full lg:w-auto\" data-ga-action=\"navigation_logo\" data-ga-click=\"\" data-ga-element=\"navigation_logo\" data-ga-item=\"logo\" href=\"https://mashable.com\">\n",
       " <div x-data=\"{animate: false, reverse: false}\" x-init=\"setTimeout(() =&gt; animate = true, 1000)\">\n",
       " <svg :class=\"{ 'animate': animate, 'animate-reverse': reverse }\" class=\"inline-block -mb-3 w-40 h-11 fill-current hover:fill-secondary-100\" id=\"mashable-wordmark-animated\" shape-rendering=\"geometricPrecision\" text-rendering=\"geometricPrecision\" viewbox=\"0 0 2200 650\" x-ref=\"wordmark\" xmlns=\"http://www.w3.org/2000/svg\" xmlns:xlink=\"http://www.w3.org/1999/xlink\"><style><![CDATA[.animate #euSMf1FbiNs11_to{animation:euSMf1FbiNs11_to__to 1s linear 1 normal forwards}.animate-reverse #euSMf1FbiNs11_to{animation:euSMf1FbiNs11_to__back 1s linear 1 normal forwards}@keyframes  euSMf1FbiNs11_to__to{0%{transform:translate(2326.395841px,218.229656px)}45%{transform:translate(2326.395841px,218.229656px)}73%{transform:translate(662.384075px,215.434656px)}100%{transform:translate(662.384075px,215.434656px)}}@keyframes  euSMf1FbiNs11_to__back{0%{transform:translate(662.384075px,215.434656px)}45%{transform:translate(662.384075px,215.434656px)}73%{transform:translate(2326.395841px,218.229656px)}100%{transform:translate(2326.395841px,218.229656px)}}.animate #euSMf1FbiNs15_to{animation:euSMf1FbiNs15_to__to 1s linear 1 normal forwards}.animate-reverse #euSMf1FbiNs15_to{animation:euSMf1FbiNs15_to__back 1s linear 1 normal forwards}@keyframes  euSMf1FbiNs15_to__to{0%{transform:translate(144.277373px,1260.854733px)}41%{transform:translate(144.277373px,331.868153px)}100%{transform:translate(144.277373px,331.868153px)}}@keyframes  euSMf1FbiNs15_to__back{0%{transform:translate(144.277373px,331.868153px)}41%{transform:translate(144.277373px,331.868153px)}100%{transform:translate(144.277373px,1260.854733px)}}.animate #euSMf1FbiNs19_to{animation:euSMf1FbiNs19_to__to 1s linear 1 normal forwards}.animate-reverse #euSMf1FbiNs19_to{animation:euSMf1FbiNs19_to__back 1s linear 1 normal forwards}@keyframes  euSMf1FbiNs19_to__to{0%{transform:translate(144.277373px,1003.724046px)}60%{transform:translate(144.277373px,1003.724046px)}80%{transform:translate(145.277373px,766.938989px)}100%{transform:translate(145.277373px,766.938989px)}}@keyframes  euSMf1FbiNs19_to__back{0%{transform:translate(145.277373px,766.938989px)}60%{transform:translate(145.277373px,766.938989px)}80%{transform:translate(144.277373px,1003.724046px)}100%{transform:translate(144.277373px,1003.724046px)}}.animate #euSMf1FbiNs22_to{animation:euSMf1FbiNs22_to__to 1s linear 1 normal forwards}.animate-reverse #euSMf1FbiNs22_to{animation:euSMf1FbiNs22_to__back 1s linear 1 normal forwards}@keyframes  euSMf1FbiNs22_to__to{0%{transform:translate(5474.895347px,1202.280706px)}60%{transform:translate(5474.895347px,1202.280706px)}90%{transform:translate(13.364022px,1202.286993px)}100%{transform:translate(13.364022px,1202.286993px)}}@keyframes  euSMf1FbiNs22_to__back{0%{transform:translate(13.364022px,1202.286993px)}60%{transform:translate(13.364022px,1202.286993px)}90%{transform:translate(5474.895347px,1202.280706px)}100%{transform:translate(5474.895347px,1202.280706px)}}]]></style><g id=\"euSMf1FbiNs2\" transform=\"matrix(1 0 0 1 327.55203400000028 85.59466518500005)\"><polygon fill=\"currentColor\" id=\"euSMf1FbiNs3\" points=\"221.679659,0.620000 221.679659,0.669994 221.589769,0.620000 143.495006,136.034612 65.410231,0.620000 65.320341,0.669994 65.320341,0.620000 0,0.620000 0,264.620000 65.320341,264.620000 65.320341,131.265154 119.594153,225.374460 119.594153,225.374460 129.252375,242.112558 157.747625,242.112558 170.312302,220.325034 221.679659,131.265154 221.679659,264.620000 287,264.620000 287,0.620000 221.679659,0.620000\" stroke=\"none\" stroke-width=\"1\"></polygon><path d=\"M442.390000,897.214899C442.390000,839.553909,481.940898,800.570000,521.811158,800.570000C549.465848,800.570000,567.150479,814.747785,577.439900,829.245519L583.867046,805.729194L642.390000,805.729194L642.390000,987.410806L583.867046,987.410806L577.439900,963.894481C567.150479,978.392215,549.495788,992.570000,521.811158,992.570000C481.920938,992.570000,442.390000,953.586091,442.390000,897.214899ZM574.545689,896.574999C574.545689,876.578124,562.010758,861.780436,543.677425,861.780436C524.715349,861.780436,511.841098,877.887919,511.841098,896.574999C511.841098,915.901979,524.705369,931.359564,543.677425,931.359564C562.010758,931.359564,574.545689,916.541879,574.545689,896.574999Z\" fill=\"currentColor\" id=\"euSMf1FbiNs4\" stroke=\"none\" stroke-width=\"1\" transform=\"matrix(1 0 0 1 -127.05000000000000 -727.75999999999999)\"></path><path d=\"M812.223369,813.460670L812.223369,868.883557C799.336738,861.473171,775.822886,855.002834,755.848108,855.002834C744.261137,855.002834,738.132739,857.262952,738.132739,861.773187C738.132739,866.283422,744.581053,869.183573,762.296422,873.053774C793.538254,879.814126,825.110000,891.054712,825.110000,930.406761C825.110000,968.408741,795.117841,992.590000,740.712065,992.590000C712.719383,992.590000,689.825369,986.149665,674.359412,977.769228L674.359412,918.176124C690.785118,929.176697,710.759895,938.177166,737.492906,938.177166C751.019370,938.177166,758.747350,935.917048,758.747350,930.766780C758.747350,924.966478,749.089875,923.036377,727.185601,917.236075C699.192919,909.825689,672.110000,896.294985,672.110000,862.133205C672.110000,826.691359,701.102420,800.590000,752.628949,800.590000C774.213306,800.569999,797.077329,805.410251,812.223369,813.460670Z\" fill=\"currentColor\" id=\"euSMf1FbiNs5\" stroke=\"none\" stroke-width=\"1\" transform=\"matrix(1 0 0 1 -127.05000000000000 -727.75999999999999)\"></path><path d=\"M920.501202,819.668695L920.822692,819.668695C930.869277,809.056557,947.697307,800.379339,967.438845,800.379339C1005.957451,800.379339,1030.230000,823.837750,1030.230000,864.650596L1030.230000,986.760000L960.968845,986.760000L960.968845,882.643356C960.968845,867.862164,954.488798,861.439028,941.880334,861.439028C928.608796,861.439028,920.511248,870.116246,920.511248,881.685870L920.511248,986.760000L851.230000,986.760000L851.230000,727.760000L920.501202,727.760000Z\" fill=\"currentColor\" id=\"euSMf1FbiNs6\" stroke=\"none\" stroke-width=\"1\" transform=\"matrix(1 0 0 1 -127.05000000000000 -727.75999999999999)\"></path><path d=\"M1053.890000,897.214899C1053.890000,839.553909,1093.440898,800.570000,1133.311158,800.570000C1160.955868,800.570000,1178.650479,814.747785,1188.939900,829.245519L1195.367046,805.729194L1253.890000,805.729194L1253.890000,987.410806L1195.367046,987.410806L1188.939900,963.894481C1178.650479,978.392215,1160.995788,992.570000,1133.311158,992.570000C1093.440898,992.570000,1053.890000,953.586091,1053.890000,897.214899ZM1186.045689,896.574999C1186.045689,876.578124,1173.500778,861.780436,1155.177425,861.780436C1136.215349,861.780436,1123.341098,877.887919,1123.341098,896.574999C1123.341098,915.901979,1136.205369,931.359564,1155.177425,931.359564C1173.500778,931.359564,1186.045689,916.541879,1186.045689,896.574999Z\" fill=\"currentColor\" id=\"euSMf1FbiNs7\" stroke=\"none\" stroke-width=\"1\" transform=\"matrix(1 0 0 1 -127.05000000000000 -727.75999999999999)\"></path><path d=\"M1357.242375,827.972530C1367.531796,812.559819,1388.759341,800.347289,1411.264331,800.347289C1453.060739,800.347289,1488.430000,837.931972,1488.430000,896.053644C1488.430000,954.175317,1449.847166,991.760000,1408.050758,991.760000C1381.683493,991.760000,1363.679501,977.623374,1353.380100,963.167726L1346.952954,986.615783L1288.430000,986.615783L1288.430000,727.760000L1357.292275,727.760000ZM1356.603653,896.073583C1356.603653,916.311490,1369.138583,930.757168,1387.471916,930.757168C1406.114631,930.757168,1418.978902,915.663478,1418.978902,896.392605C1418.978902,877.450722,1406.114631,861.380029,1387.142575,861.380029C1369.138583,861.380029,1356.603653,876.154698,1356.603653,896.073583Z\" fill=\"currentColor\" id=\"euSMf1FbiNs8\" stroke=\"none\" stroke-width=\"1\" transform=\"matrix(1 0 0 1 -127.05000000000000 -727.75999999999999)\"></path><path d=\"M1514.920000,727.760000L1583.920000,727.760000L1583.920000,986.760000L1514.920000,986.760000Z\" fill=\"currentColor\" id=\"euSMf1FbiNs9\" stroke=\"none\" stroke-width=\"1\" transform=\"matrix(1 0 0 1 -127.05000000000000 -727.75999999999999)\"></path><path d=\"M1789.715993,914.612181L1676.080565,914.612181C1684.748180,932.009463,1704.653808,940.058205,1726.163442,940.058205C1745.740298,940.058205,1763.075529,933.619211,1779.125562,926.530319L1779.125562,979.042114C1760.505132,988.040708,1739.274456,992.570000,1716.529437,992.570000C1647.198476,992.570000,1609.320000,951.656393,1609.320000,896.894949C1609.320000,840.193809,1649.768872,800.570000,1703.368610,800.570000C1751.837517,800.570000,1791.320000,832.784966,1791.320000,893.675452C1791.329416,900.685633,1790.793115,907.685839,1789.715993,914.612181ZM1726.482251,876.618117C1726.163442,864.060080,1717.814635,853.101792,1703.049801,853.101792C1689.570164,853.101792,1678.332152,862.100386,1673.520131,876.618117Z\" fill=\"currentColor\" id=\"euSMf1FbiNs10\" stroke=\"none\" stroke-width=\"1\" transform=\"matrix(1 0 0 1 -127.05000000000000 -727.75999999999999)\"></path></g><g id=\"euSMf1FbiNs11_to\" transform=\"translate(2326.395841,218.229656)\"><polygon fill=\"rgb(255,255,255)\" id=\"euSMf1FbiNs11\" points=\"2994.404278,1003.400000 1373.292899,1003.400000 1167.283721,1164.601894 916.220000,1387.164859 2994.404278,1387.164859 2994.404278,1003.400000\" stroke=\"none\" stroke-width=\"1\" transform=\"scale(0.922440,0.922440) translate(-1188.489990,-1195.614990)\"></polygon></g><g id=\"euSMf1FbiNs12\" mask=\"url(#euSMf1FbiNs14)\" transform=\"matrix(1 0 0 1 0 -4)\"><polygon fill=\"currentColor\" id=\"euSMf1FbiNs13\" points=\"-0.124694,383.594023 0.000007,787.553039 0.000007,842.876599 0.000007,1388.080235 457.526979,1383.558047 457.526979,628.534061 457.526979,573.210501 458.403224,0 -0.124694,383.594023\" stroke=\"none\" stroke-width=\"1\" transform=\"matrix(0.44272113509609 0 0 0.43153125079610 43.00491365445770 18.64549964827933)\"></polygon><mask id=\"euSMf1FbiNs14\" mask-type=\"alpha\"><g id=\"euSMf1FbiNs15_to\" transform=\"translate(144.277373,1260.854733)\"><polygon fill=\"currentColor\" id=\"euSMf1FbiNs15\" points=\"-0.124694,383.429007 -0.000073,787.214245 -0.000073,842.514006 -0.000073,1387.483103 452.947836,1385.590461 457.231375,628.263675 457.231375,572.963914 458.107053,0 -0.124694,383.429007\" stroke=\"none\" stroke-width=\"1\" transform=\"scale(0.938390,0.938390) translate(-228.750000,-725.840023)\"></polygon></g></mask></g><g id=\"euSMf1FbiNs16\" mask=\"url(#euSMf1FbiNs18)\" transform=\"matrix(1 0 0 1 0 -4)\"><polygon fill=\"rgb(255,255,255)\" id=\"euSMf1FbiNs17\" points=\"-0.124694,383.160079 -0.000226,786.662112 -0.000226,841.923087 3.273209,1314.095486 489.720027,1314.095486 486.446592,1026.057228 456.669898,572.562051 457.544501,0 -0.124694,383.160079\" stroke=\"none\" stroke-width=\"1\" transform=\"matrix(0.44299752680467 0 0 0.45278292652264 42.94168905111819 3.22018284927219)\"></polygon><mask id=\"euSMf1FbiNs18\" mask-type=\"alpha\"><g id=\"euSMf1FbiNs19_to\" transform=\"translate(144.277373,1003.724046)\"><polygon fill=\"rgb(0,0,0)\" id=\"euSMf1FbiNs19\" points=\"-0.124694,383.022539 -0.000070,786.379730 -0.000070,841.620869 -0.000070,1386.012253 452.957811,1384.121616 457.241445,627.597662 457.241445,572.356523 458.117142,0 -0.124694,383.022539\" stroke=\"none\" stroke-width=\"1\" transform=\"scale(0.442998,0.442998) translate(-228.750000,-725.840023)\"></polygon></g></mask></g><g id=\"euSMf1FbiNs20\" transform=\"matrix(0.44964075354686 0 0 0.44964075354686 -85.59085363638468 -7.93672154314413)\"><g id=\"euSMf1FbiNs21\" mask=\"url(#euSMf1FbiNs35)\"><g id=\"euSMf1FbiNs22_to\" transform=\"translate(5474.895347,1202.280706)\"><g id=\"euSMf1FbiNs22\" transform=\"translate(-1027.768089,-1215.630979)\"><polygon fill=\"currentColor\" id=\"euSMf1FbiNs23\" points=\"632.859436,1003.400000 545.466598,1003.400000 87.980000,1388.151601 174.242154,1388.151601 632.859436,1003.400000\" stroke=\"none\" stroke-width=\"1\" transform=\"matrix(1 0 0 1 1278.41180423626361 20.01597926568184)\"></polygon><polygon fill=\"currentColor\" id=\"euSMf1FbiNs24\" points=\"632.859436,1003.400000 545.466598,1003.400000 87.980000,1388.151601 174.242154,1388.151601 632.859436,1003.400000\" stroke=\"none\" stroke-width=\"1\" transform=\"matrix(1 0 0 1 279.34607797268734 20.01597926568184)\"></polygon><polygon fill=\"currentColor\" id=\"euSMf1FbiNs25\" points=\"797.209436,1003.400000 709.824999,1003.400000 252.330000,1388.151601 338.593738,1388.151601 797.209436,1003.400000\" stroke=\"none\" stroke-width=\"1\" transform=\"matrix(1 0 0 1 1278.41180423626383 20.01597926568184)\"></polygon><polygon fill=\"currentColor\" id=\"euSMf1FbiNs26\" points=\"797.209436,1003.400000 709.824999,1003.400000 252.330000,1388.151601 338.593738,1388.151601 797.209436,1003.400000\" stroke=\"none\" stroke-width=\"1\" transform=\"matrix(1 0 0 1 279.34607797268734 20.01597926568184)\"></polygon><polygon fill=\"currentColor\" id=\"euSMf1FbiNs27\" points=\"963.879436,1003.400000 876.494999,1003.400000 419,1388.151601 505.263738,1388.151601 963.879436,1003.400000\" stroke=\"none\" stroke-width=\"1\" transform=\"matrix(1 0 0 1 1278.41180423626383 20.01597926568184)\"></polygon><polygon fill=\"currentColor\" id=\"euSMf1FbiNs28\" points=\"963.879436,1003.400000 876.494999,1003.400000 419,1388.151601 505.263738,1388.151601 963.879436,1003.400000\" stroke=\"none\" stroke-width=\"1\" transform=\"matrix(1 0 0 1 279.34607797268734 20.01597926568184)\"></polygon><polygon fill=\"currentColor\" id=\"euSMf1FbiNs29\" points=\"1128.219436,1003.400000 1040.834999,1003.400000 583.340000,1388.151601 669.603738,1388.151601 1128.219436,1003.400000\" stroke=\"none\" stroke-width=\"1\" transform=\"matrix(1 0 0 1 1277.96797339258319 22.59894977233307)\"></polygon><polygon fill=\"currentColor\" id=\"euSMf1FbiNs30\" points=\"1128.219436,1003.400000 1040.834999,1003.400000 583.340000,1388.151601 669.603738,1388.151601 1128.219436,1003.400000\" stroke=\"none\" stroke-width=\"1\" transform=\"matrix(1 0 0 1 278.90224712900635 22.59894977233307)\"></polygon><polygon fill=\"currentColor\" id=\"euSMf1FbiNs31\" points=\"1296.749436,1003.400000 1209.356598,1003.400000 751.870000,1388.151601 838.132154,1388.151601 1296.749436,1003.400000\" stroke=\"none\" stroke-width=\"1\" transform=\"matrix(1 0 0 1 1278.41180423626565 20.01597926568184)\"></polygon><polygon fill=\"currentColor\" id=\"euSMf1FbiNs32\" points=\"1296.749436,1003.400000 1209.356598,1003.400000 751.870000,1388.151601 838.132154,1388.151601 1296.749436,1003.400000\" stroke=\"none\" stroke-width=\"1\" transform=\"matrix(1 0 0 1 279.34607797268723 20.01597926568184)\"></polygon><polygon fill=\"currentColor\" id=\"euSMf1FbiNs33\" points=\"1461.099436,1003.400000 1373.714999,1003.400000 916.220000,1388.151601 1002.483738,1388.151601 1461.099436,1003.400000\" stroke=\"none\" stroke-width=\"1\" transform=\"matrix(1 0 0 1 1278.41180423626429 20.01597926568184)\"></polygon><polygon fill=\"currentColor\" id=\"euSMf1FbiNs34\" points=\"1461.099436,1003.400000 1373.714999,1003.400000 916.220000,1388.151601 1002.483738,1388.151601 1461.099436,1003.400000\" stroke=\"none\" stroke-width=\"1\" transform=\"matrix(1 0 0 1 279.34607797268723 20.01597926568184)\"></polygon></g></g><mask id=\"euSMf1FbiNs35\" mask-type=\"alpha\"><rect fill=\"rgb(210,219,237)\" height=\"172.855395\" id=\"euSMf1FbiNs36\" rx=\"0\" ry=\"0\" stroke=\"none\" stroke-width=\"0\" transform=\"matrix(6.63914743458407 0 0 3.36734374316499 306.31173456484885 871.81575675521890)\" width=\"668.168909\"></rect></mask></g></g><polygon fill=\"currentColor\" id=\"euSMf1FbiNs37\" points=\"221.679659,0.620000 221.679659,0.669994 221.589769,0.620000 143.495006,136.034612 65.410231,0.620000 65.320341,0.669994 65.320341,0.620000 0,0.620000 0,264.620000 65.320341,264.620000 65.320341,131.265154 119.594153,225.374460 119.594153,225.374460 129.252375,242.112558 157.747625,242.112558 170.312302,220.325034 221.679659,131.265154 221.679659,264.620000 287,264.620000 287,0.620000 221.679659,0.620000\" stroke=\"none\" stroke-width=\"1\" transform=\"matrix(1 0 0 1 327.55203400000005 85.78466519499989)\"></polygon></svg>\n",
       " </div>\n",
       " </a>,\n",
       " <a data-ga-click=\"\" data-ga-label=\"$text\" href=\"https://mashable.com/tech\">Tech</a>,\n",
       " <a data-ga-click=\"\" data-ga-label=\"$text\" href=\"https://mashable.com/science\">Science</a>,\n",
       " <a data-ga-click=\"\" data-ga-label=\"$text\" href=\"https://mashable.com/life\">Life</a>,\n",
       " <a data-ga-click=\"\" data-ga-label=\"$text\" href=\"https://mashable.com/category/social-good\">Social Good</a>,\n",
       " <a data-ga-click=\"\" data-ga-label=\"$text\" href=\"https://mashable.com/entertainment\">Entertainment</a>,\n",
       " <a data-ga-click=\"\" data-ga-label=\"$text\" href=\"https://mashable.com/deals\">Deals</a>,\n",
       " <a class=\"block mt-4\" data-ga-click=\"\" data-ga-label=\"$text\" href=\"https://mashable.com/category/apps-and-software\">Apps &amp; Software</a>,\n",
       " <a class=\"block mt-4\" data-ga-click=\"\" data-ga-label=\"$text\" href=\"https://mashable.com/category/cybersecurity\">Cybersecurity</a>,\n",
       " <a class=\"block mt-4\" data-ga-click=\"\" data-ga-label=\"$text\" href=\"https://mashable.com/category/mobile\">Mobile</a>,\n",
       " <a class=\"block mt-4\" data-ga-click=\"\" data-ga-label=\"$text\" href=\"https://mashable.com/category/smart-home\">Smart Home</a>,\n",
       " <a class=\"block mt-4\" data-ga-click=\"\" data-ga-label=\"$text\" href=\"https://mashable.com/category/social-media\">Social Media</a>,\n",
       " <a class=\"block mt-4\" data-ga-click=\"\" data-ga-label=\"$text\" href=\"https://mashable.com/category/tech-industry\">Tech Industry</a>,\n",
       " <a class=\"block mt-4\" data-ga-click=\"\" data-ga-label=\"$text\" href=\"https://mashable.com/category/transportation\">Transportation</a>,\n",
       " <a class=\"block mt-4 font-bold\" data-ga-click=\"\" data-ga-label=\"$text\" href=\"https://mashable.com/tech\">All Tech</a>,\n",
       " <a class=\"block mt-4\" data-ga-click=\"\" data-ga-label=\"$text\" href=\"https://mashable.com/category/space\">Space</a>,\n",
       " <a class=\"block mt-4\" data-ga-click=\"\" data-ga-label=\"$text\" href=\"https://mashable.com/category/climate-change\">Climate Change</a>,\n",
       " <a class=\"block mt-4\" data-ga-click=\"\" data-ga-label=\"$text\" href=\"https://mashable.com/category/environment\">Environment</a>,\n",
       " <a class=\"block mt-4 font-bold\" data-ga-click=\"\" data-ga-label=\"$text\" href=\"https://mashable.com/science\">All Science</a>,\n",
       " <a class=\"block mt-4\" data-ga-click=\"\" data-ga-label=\"$text\" href=\"https://mashable.com/category/digital-culture\">Digital Culture</a>,\n",
       " <a class=\"block mt-4\" data-ga-click=\"\" data-ga-label=\"$text\" href=\"https://mashable.com/category/family-parenting\">Family &amp; Parenting</a>,\n",
       " <a class=\"block mt-4\" data-ga-click=\"\" data-ga-label=\"$text\" href=\"https://mashable.com/category/health-wellness\">Health &amp; Wellness</a>,\n",
       " <a class=\"block mt-4\" data-ga-click=\"\" data-ga-label=\"$text\" href=\"https://mashable.com/category/sex-dating-relationships\">Sex, Dating &amp; Relationships</a>,\n",
       " <a class=\"block mt-4 font-bold\" data-ga-click=\"\" data-ga-label=\"$text\" href=\"https://mashable.com/life\">All Life</a>,\n",
       " <a class=\"block mt-4\" data-ga-click=\"\" data-ga-label=\"$text\" href=\"https://mashable.com/category/activism\">Activism</a>,\n",
       " <a class=\"block mt-4\" data-ga-click=\"\" data-ga-label=\"$text\" href=\"https://mashable.com/category/gender\">Gender</a>,\n",
       " <a class=\"block mt-4\" data-ga-click=\"\" data-ga-label=\"$text\" href=\"https://mashable.com/category/lgbtq\">LGBTQ</a>,\n",
       " <a class=\"block mt-4\" data-ga-click=\"\" data-ga-label=\"$text\" href=\"https://mashable.com/category/mental-health\">Mental Health</a>,\n",
       " <a class=\"block mt-4\" data-ga-click=\"\" data-ga-label=\"$text\" href=\"https://mashable.com/category/racism\">Racial Justice</a>,\n",
       " <a class=\"block mt-4\" data-ga-click=\"\" data-ga-label=\"$text\" href=\"https://mashable.com/category/sustainability\">Sustainability</a>,\n",
       " <a class=\"block mt-4 font-bold\" data-ga-click=\"\" data-ga-label=\"$text\" href=\"https://mashable.com/category/social-good\">All Social Good</a>,\n",
       " <a class=\"block mt-4\" data-ga-click=\"\" data-ga-label=\"$text\" href=\"https://mashable.com/category/games\">Games</a>,\n",
       " <a class=\"block mt-4\" data-ga-click=\"\" data-ga-label=\"$text\" href=\"https://mashable.com/category/movies\">Movies</a>,\n",
       " <a class=\"block mt-4\" data-ga-click=\"\" data-ga-label=\"$text\" href=\"https://mashable.com/category/podcasts\">Podcasts</a>,\n",
       " <a class=\"block mt-4\" data-ga-click=\"\" data-ga-label=\"$text\" href=\"https://mashable.com/category/tv-shows\">TV Shows</a>,\n",
       " <a class=\"block mt-4 font-bold\" data-ga-click=\"\" data-ga-label=\"$text\" href=\"https://mashable.com/entertainment\">All Entertainment</a>,\n",
       " <a class=\"block mt-4\" data-ga-click=\"\" data-ga-label=\"$text\" href=\"https://mashable.com/roundups/category/house-home\">Home</a>,\n",
       " <a class=\"block mt-4\" data-ga-click=\"\" data-ga-label=\"$text\" href=\"https://mashable.com/roundups/category/tech\">Tech</a>,\n",
       " <a class=\"block mt-4\" data-ga-click=\"\" data-ga-label=\"$text\" href=\"https://mashable.com/roundups/category/kitchen\">Kitchen</a>,\n",
       " <a class=\"block mt-4\" data-ga-click=\"\" data-ga-label=\"$text\" href=\"https://mashable.com/roundups/category/fitness\">Fitness</a>,\n",
       " <a class=\"block mt-4\" data-ga-click=\"\" data-ga-label=\"$text\" href=\"https://mashable.com/roundups/category/sex-toys\">Sex Toys</a>,\n",
       " <a class=\"block mt-4\" data-ga-click=\"\" data-ga-label=\"$text\" href=\"https://mashable.com/roundups/category/apps-and-software\">Apps &amp; Software</a>,\n",
       " <a class=\"block mt-4\" data-ga-click=\"\" data-ga-label=\"$text\" href=\"https://mashable.com/roundups/category/sex-dating-relationships\">Dating</a>,\n",
       " <a class=\"block mt-4\" data-ga-click=\"\" data-ga-label=\"$text\" href=\"https://mashable.com/gifts\">\n",
       " Gift Guides\n",
       " </a>,\n",
       " <a class=\"block mt-4 font-bold\" data-ga-click=\"\" data-ga-label=\"$text\" href=\"https://mashable.com/roundups\">All Best Products</a>,\n",
       " <a class=\"uppercase cursor-pointer select-none header-300\" data-ga-click=\"\" data-ga-label=\"$text\" href=\"https://mashable.com/review\"><strong>Reviews</strong></a>,\n",
       " <a class=\"block mt-4\" data-ga-click=\"\" data-ga-label=\"$text\" href=\"https://mashable.com/deals/category/house-home\">Home</a>,\n",
       " <a class=\"block mt-4\" data-ga-click=\"\" data-ga-label=\"$text\" href=\"https://mashable.com/deals/category/tech\">Tech</a>,\n",
       " <a class=\"block mt-4\" data-ga-click=\"\" data-ga-label=\"$text\" href=\"https://shop.mashable.com/\" rel=\"noopener\" target=\"_blank\">\n",
       " Mashable Shop<span class=\"sr-only\">(opens in a new tab)</span>\n",
       " <svg class=\"inline-block mb-1 ml-1 w-4 h-4 text-secondary-300\"><use href=\"/images/icons/spritemap.svg#sprite-external-link\"></use></svg>\n",
       " </a>,\n",
       " <a class=\"block mt-4 font-bold\" data-ga-click=\"\" data-ga-label=\"$text\" href=\"https://mashable.com/deals\">All Deals</a>,\n",
       " <a class=\"uppercase cursor-pointer select-none header-300\" data-ga-click=\"\" data-ga-label=\"$text\" href=\"https://mashable.com/newsletters\"><strong>Newsletters</strong></a>,\n",
       " <a class=\"block mt-4\" data-ga-click=\"\" data-ga-label=\"$text\" href=\"https://mashable.com/shows\">Mashable Shows</a>,\n",
       " <a class=\"block mt-4 font-bold\" data-ga-click=\"\" data-ga-label=\"$text\" href=\"https://mashable.com/videos\">All Videos</a>,\n",
       " <a aria-label=\"Facebook Share\" class=\"pr-3 hover:text-primary-400\" data-ga-action=\"social_share_link\" data-ga-click=\"\" data-ga-element=\"social-share-link\" data-ga-label=\"facebook\" data-ga-position=\"1\" href=\"https://www.facebook.com/sharer.php?u=https%3A%2F%2Fmashable.com%2Farchive%2Fstatic-website-generators\" rel=\"noopener\" target=\"_blank\">\n",
       " <svg class=\"inline-block w-5 h-4 fill-current\"><use href=\"/images/icons/spritemap.svg#sprite-facebook-f-brands\"></use></svg>\n",
       " <span class=\"sr-only\">Share on Facebook (opens in a new window)</span>\n",
       " </a>,\n",
       " <a aria-label=\"Twitter Share\" class=\"px-3 hover:text-primary-400\" data-ga-action=\"social_share_link\" data-ga-click=\"\" data-ga-element=\"social-share-link\" data-ga-label=\"twitter\" data-ga-position=\"2\" href=\"https://twitter.com/intent/tweet?url=https%3A%2F%2Fmashable.com%2Farchive%2Fstatic-website-generators&amp;text=13+Static+Site+Generators+to+Help+You+Build+Your+Ultimate+Website\" rel=\"noopener\" target=\"_blank\">\n",
       " <svg class=\"inline-block w-5 h-4 fill-current\"><use href=\"/images/icons/spritemap.svg#sprite-twitter-brands\"></use></svg>\n",
       " <span class=\"sr-only\">Share on Twitter (opens in a new window)</span>\n",
       " </a>,\n",
       " <a aria-label=\"Flipboard Share\" class=\"px-3 hover:text-primary-400\" data-ga-action=\"social_share_link\" data-ga-click=\"\" data-ga-element=\"social-share-link\" data-ga-label=\"flipboard\" data-ga-position=\"3\" href=\"https://share.flipboard.com/bookmarklet/popout?v=2&amp;url=https%3A%2F%2Fmashable.com%2Farchive%2Fstatic-website-generators&amp;title=13+Static+Site+Generators+to+Help+You+Build+Your+Ultimate+Website\" rel=\"noopener\" target=\"_blank\">\n",
       " <svg class=\"inline-block w-5 h-4 fill-current\"><use href=\"/images/icons/spritemap.svg#sprite-flipboard-brands\"></use></svg>\n",
       " <span class=\"sr-only\">Share on Flipboard (opens in a new window)</span>\n",
       " </a>,\n",
       " <a class=\"text-white hover:text-accent\" data-ga-click=\"\" data-ga-label=\"$text\" href=\"https://mashable.com/tech\">TECH</a>,\n",
       " <a class=\"text-white hover:text-accent\" data-ga-click=\"\" data-ga-label=\"$text\" href=\"https://mashable.com/science\">SCIENCE</a>,\n",
       " <a class=\"text-white hover:text-accent\" data-ga-click=\"\" data-ga-label=\"$text\" href=\"https://mashable.com/life\">LIFE</a>,\n",
       " <a class=\"text-white hover:text-accent\" data-ga-click=\"\" data-ga-label=\"$text\" href=\"https://mashable.com/category/social-good\">SOCIAL GOOD</a>,\n",
       " <a class=\"text-white hover:text-accent\" data-ga-click=\"\" data-ga-label=\"$text\" href=\"https://mashable.com/entertainment\">ENTERTAINMENT</a>,\n",
       " <a class=\"text-white hover:text-accent\" data-ga-click=\"\" data-ga-label=\"$text\" href=\"https://mashable.com/roundups\">BEST PRODUCTS</a>,\n",
       " <a class=\"text-white hover:text-accent\" data-ga-click=\"\" data-ga-label=\"$text\" href=\"https://mashable.com/deals\">DEALS</a>,\n",
       " <a class=\"text-white hover:text-accent\" data-ga-click=\"\" data-ga-label=\"$text\" href=\"https://mashable.com/about/mashable-staff-masthead\">About Mashable</a>,\n",
       " <a class=\"text-white hover:text-accent\" data-ga-click=\"\" data-ga-label=\"$text\" href=\"https://mashable.com/about/contact-us\">Contact Us</a>,\n",
       " <a class=\"text-white hover:text-accent\" data-ga-click=\"\" data-ga-label=\"$text\" href=\"https://www.j2global.com/careers/jobs/?brand=Mashable\" rel=\"noopener\">We're Hiring</a>,\n",
       " <a class=\"text-white hover:text-accent\" data-ga-click=\"\" data-ga-label=\"$text\" href=\"https://mashable.com/newsletters\" rel=\"noopener\">Newsletters</a>,\n",
       " <a class=\"text-white hover:text-accent\" data-ga-click=\"\" data-ga-label=\"$text\" href=\"https://mashable.com/sitemap\">Sitemap</a>,\n",
       " <a aria-label=\"Mashable Facebook Page\" data-ga-click=\"\" data-ga-label=\"facebook\" href=\"https://www.facebook.com/mashable/\" rel=\"noopener\"><svg class=\"inline-block mt-6 mr-8 w-5 h-5 text-white fill-current md:mt-0 md:mr-0 hover:text-accent\"><use href=\"/images/icons/spritemap.svg#sprite-facebook-f-brands\"></use></svg></a>,\n",
       " <a aria-label=\"Mashable Twitter Page\" data-ga-click=\"\" data-ga-label=\"twitter\" href=\"https://twitter.com/mashable\" rel=\"noopener\"><svg class=\"inline-block mt-6 mr-8 w-5 h-5 text-white fill-current md:mt-0 md:mr-0 hover:text-accent\"><use href=\"/images/icons/spritemap.svg#sprite-twitter-brands\"></use></svg></a>,\n",
       " <a aria-label=\"Mashable Youtube Page\" data-ga-click=\"\" data-ga-label=\"youtube\" href=\"https://www.youtube.com/user/mashable\" rel=\"noopener\"><svg class=\"inline-block mt-6 mr-8 w-5 h-5 text-white fill-current md:mt-0 md:mr-0 hover:text-accent\"><use href=\"/images/icons/spritemap.svg#sprite-youtube\"></use></svg></a>,\n",
       " <a aria-label=\"Mashable Pinterest Page\" data-ga-click=\"\" data-ga-label=\"pinterest\" href=\"https://www.pinterest.com/mashable/\" rel=\"noopener\"><svg class=\"inline-block mt-6 mr-8 w-5 h-5 text-white fill-current md:mt-0 md:mr-0 hover:text-accent\"><use href=\"/images/icons/spritemap.svg#sprite-pinterest\"></use></svg></a>,\n",
       " <a aria-label=\"Mashable Tiktok Page\" data-ga-click=\"\" data-ga-label=\"tiktok\" href=\" https://www.tiktok.com/@mashable\" rel=\"noopener\"><svg class=\"inline-block mt-6 mr-8 w-5 h-5 text-white fill-current md:mt-0 md:mr-0 hover:text-accent\"><use href=\"/images/icons/spritemap.svg#sprite-tiktok\"></use></svg></a>,\n",
       " <a aria-label=\"Mashable Flipboard Page\" data-ga-click=\"\" data-ga-label=\"flipboard\" href=\"https://flipboard.com/@Mashable\" rel=\"noopener\"><svg class=\"inline-block mt-6 mr-8 w-5 h-5 text-white fill-current md:mt-0 md:mr-0 hover:text-accent\"><use href=\"/images/icons/spritemap.svg#sprite-flipboard-brands\"></use></svg></a>,\n",
       " <a aria-label=\"Mashable Linkedin Page\" data-ga-click=\"\" data-ga-label=\"linkedin\" href=\"https://www.linkedin.com/company/mashable\" rel=\"noopener\"><svg class=\"inline-block mt-6 mr-8 w-5 h-5 text-white fill-current md:mt-0 md:mr-0 hover:text-accent\"><use href=\"/images/icons/spritemap.svg#sprite-linkedin\"></use></svg></a>,\n",
       " <a aria-label=\"Mashable Feeds Page\" data-ga-click=\"\" data-ga-label=\"rss\" href=\"https://mashable.com/feeds/rss/all\" rel=\"noopener\"><svg class=\"inline-block mt-6 mr-8 w-5 h-5 text-white fill-current md:mt-0 md:mr-0 hover:text-accent\"><use href=\"/images/icons/spritemap.svg#sprite-rss-solid\"></use></svg></a>,\n",
       " <a class=\"font-bold text-white\" data-ga-click=\"\" data-ga-label=\"$text\" href=\"https://www.ziffdavis.com/general/group-black-and-ziff-davis-partner-to-amplify-and-scale-black-voices-in-media\" rel=\"noopener\">Group Black</a>,\n",
       " <a class=\"font-bold text-white\" data-ga-click=\"\" data-ga-label=\"$text\" href=\"https://www.essence.com/\" rel=\"noopener\">Essence</a>,\n",
       " <a class=\"font-bold text-white\" data-ga-click=\"\" data-ga-label=\"$text\" href=\"https://theshaderoom.com/\" rel=\"noopener\">TheShadeRoom</a>,\n",
       " <a class=\"font-bold text-white\" data-ga-click=\"\" data-ga-label=\"$text\" href=\"https://afropunk.com/\" rel=\"noopener\">Afro-Punk</a>,\n",
       " <a class=\"text-white hover:text-accent\" data-ga-click=\"\" data-ga-label=\"$text\" href=\"https://www.ziffdavis.com/about\" rel=\"noopener\">About Ziff Davis</a>,\n",
       " <a class=\"text-white hover:text-accent\" data-ga-click=\"\" data-ga-label=\"$text\" href=\"https://www.ziffdavis.com/privacy-policy\" rel=\"noopener\">Privacy Policy</a>,\n",
       " <a class=\"text-white hover:text-accent\" data-ga-click=\"\" data-ga-label=\"$text\" href=\"https://www.ziffdavis.com/terms-of-use\" rel=\"noopener\">Terms of Use</a>,\n",
       " <a class=\"text-white hover:text-accent\" data-ga-click=\"\" data-ga-label=\"$text\" href=\"https://ziffmedia.com/\" rel=\"noopener\">Advertise</a>,\n",
       " <a class=\"text-white hover:text-accent\" data-ga-click=\"\" data-ga-label=\"$text\" href=\"https://www.ziffdavis.com/accessibility\" rel=\"noopener\">Accessibility</a>,\n",
       " <a class=\"text-white hover:text-accent\" data-ga-click=\"\" data-ga-label=\"$text\" href=\"https://mashable.com/ccpa\">Do Not Sell My Personal Information</a>,\n",
       " <a aria-label=\"BBB Accredited Business Logo\" data-ga-click=\"\" data-ga-label=\"BBB Accredited Business Logo\" href=\"https://www.bbb.org/us/ny/new-york/profile/digital-media/ziff-davis-llc-0121-531/#sealclick\" rel=\"noopener\"><svg fill=\"none\" height=\"50\" viewbox=\"0 0 96 50\" width=\"96\" xmlns=\"http://www.w3.org/2000/svg\" xmlns:xlink=\"http://www.w3.org/1999/xlink\">\n",
       " <rect fill=\"url(#pattern1)\" height=\"50\" width=\"96\"></rect>\n",
       " <defs>\n",
       " <pattern height=\"1\" id=\"pattern1\" patterncontentunits=\"objectBoundingBox\" width=\"1\">\n",
       " <use transform=\"translate(0 -0.00223217) scale(0.0104167 0.0200893)\" xlink:href=\"#image1\"></use>\n",
       " </pattern>\n",
       " <image height=\"50\" id=\"image1\" width=\"96\" xlink:href=\"data:image/png;base64,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\"/>\n",
       " </defs>\n",
       " </svg></a>]"
      ]
     },
     "execution_count": 59,
     "metadata": {},
     "output_type": "execute_result"
    }
   ],
   "source": [
    "#finding all a tags with href attributes\n",
    "soup.find_all('a', attrs={'href': re.compile('https')})"
   ]
  },
  {
   "cell_type": "code",
   "execution_count": 64,
   "id": "2b4bf69a",
   "metadata": {},
   "outputs": [
    {
     "name": "stdout",
     "output_type": "stream",
     "text": [
      "https://mashable.com\n",
      "https://mashable.com/tech\n",
      "https://mashable.com/science\n",
      "https://mashable.com/life\n",
      "https://mashable.com/category/social-good\n",
      "https://mashable.com/entertainment\n",
      "https://mashable.com/deals\n",
      "https://mashable.com/category/apps-and-software\n",
      "https://mashable.com/category/cybersecurity\n",
      "https://mashable.com/category/mobile\n",
      "https://mashable.com/category/smart-home\n",
      "https://mashable.com/category/social-media\n",
      "https://mashable.com/category/tech-industry\n",
      "https://mashable.com/category/transportation\n",
      "https://mashable.com/tech\n",
      "https://mashable.com/category/space\n",
      "https://mashable.com/category/climate-change\n",
      "https://mashable.com/category/environment\n",
      "https://mashable.com/science\n",
      "https://mashable.com/category/digital-culture\n",
      "https://mashable.com/category/family-parenting\n",
      "https://mashable.com/category/health-wellness\n",
      "https://mashable.com/category/sex-dating-relationships\n",
      "https://mashable.com/life\n",
      "https://mashable.com/category/activism\n",
      "https://mashable.com/category/gender\n",
      "https://mashable.com/category/lgbtq\n",
      "https://mashable.com/category/mental-health\n",
      "https://mashable.com/category/racism\n",
      "https://mashable.com/category/sustainability\n",
      "https://mashable.com/category/social-good\n",
      "https://mashable.com/category/games\n",
      "https://mashable.com/category/movies\n",
      "https://mashable.com/category/podcasts\n",
      "https://mashable.com/category/tv-shows\n",
      "https://mashable.com/entertainment\n",
      "https://mashable.com/roundups/category/house-home\n",
      "https://mashable.com/roundups/category/tech\n",
      "https://mashable.com/roundups/category/kitchen\n",
      "https://mashable.com/roundups/category/fitness\n",
      "https://mashable.com/roundups/category/sex-toys\n",
      "https://mashable.com/roundups/category/apps-and-software\n",
      "https://mashable.com/roundups/category/sex-dating-relationships\n",
      "https://mashable.com/gifts\n",
      "https://mashable.com/roundups\n",
      "https://mashable.com/review\n",
      "https://mashable.com/deals/category/house-home\n",
      "https://mashable.com/deals/category/tech\n",
      "https://shop.mashable.com/\n",
      "https://mashable.com/deals\n",
      "https://mashable.com/newsletters\n",
      "https://mashable.com/shows\n",
      "https://mashable.com/videos\n",
      "https://www.facebook.com/sharer.php?u=https%3A%2F%2Fmashable.com%2Farchive%2Fstatic-website-generators\n",
      "https://twitter.com/intent/tweet?url=https%3A%2F%2Fmashable.com%2Farchive%2Fstatic-website-generators&text=13+Static+Site+Generators+to+Help+You+Build+Your+Ultimate+Website\n",
      "https://share.flipboard.com/bookmarklet/popout?v=2&url=https%3A%2F%2Fmashable.com%2Farchive%2Fstatic-website-generators&title=13+Static+Site+Generators+to+Help+You+Build+Your+Ultimate+Website\n",
      "https://mashable.com/tech\n",
      "https://mashable.com/science\n",
      "https://mashable.com/life\n",
      "https://mashable.com/category/social-good\n",
      "https://mashable.com/entertainment\n",
      "https://mashable.com/roundups\n",
      "https://mashable.com/deals\n",
      "https://mashable.com/about/mashable-staff-masthead\n",
      "https://mashable.com/about/contact-us\n",
      "https://www.j2global.com/careers/jobs/?brand=Mashable\n",
      "https://mashable.com/newsletters\n",
      "https://mashable.com/sitemap\n",
      "https://www.facebook.com/mashable/\n",
      "https://twitter.com/mashable\n",
      "http://instagram.com/Mashable\n",
      "https://www.youtube.com/user/mashable\n",
      "https://www.pinterest.com/mashable/\n",
      " https://www.tiktok.com/@mashable\n",
      "https://flipboard.com/@Mashable\n",
      "https://www.linkedin.com/company/mashable\n",
      "https://mashable.com/feeds/rss/all\n",
      "https://www.ziffdavis.com/general/group-black-and-ziff-davis-partner-to-amplify-and-scale-black-voices-in-media\n",
      "https://www.essence.com/\n",
      "https://theshaderoom.com/\n",
      "https://afropunk.com/\n",
      "https://www.ziffdavis.com/about\n",
      "https://www.ziffdavis.com/privacy-policy\n",
      "https://www.ziffdavis.com/terms-of-use\n",
      "https://ziffmedia.com/\n",
      "https://www.ziffdavis.com/accessibility\n",
      "https://mashable.com/ccpa\n",
      "https://www.bbb.org/us/ny/new-york/profile/digital-media/ziff-davis-llc-0121-531/#sealclick\n"
     ]
    }
   ],
   "source": [
    "for link in soup.findAll('a', attrs={'href':re.compile('http|https')}):\n",
    "    print(link['href'])"
   ]
  },
  {
   "cell_type": "code",
   "execution_count": 65,
   "id": "f9ff0149",
   "metadata": {
    "scrolled": true
   },
   "outputs": [
    {
     "name": "stdout",
     "output_type": "stream",
     "text": [
      "https://mashable.com\n",
      "https://mashable.com/tech\n",
      "https://mashable.com/science\n",
      "https://mashable.com/life\n",
      "https://mashable.com/category/social-good\n",
      "https://mashable.com/entertainment\n",
      "https://mashable.com/deals\n",
      "https://mashable.com/category/apps-and-software\n",
      "https://mashable.com/category/cybersecurity\n",
      "https://mashable.com/category/mobile\n",
      "https://mashable.com/category/smart-home\n",
      "https://mashable.com/category/social-media\n",
      "https://mashable.com/category/tech-industry\n",
      "https://mashable.com/category/transportation\n",
      "https://mashable.com/tech\n",
      "https://mashable.com/category/space\n",
      "https://mashable.com/category/climate-change\n",
      "https://mashable.com/category/environment\n",
      "https://mashable.com/science\n",
      "https://mashable.com/category/digital-culture\n",
      "https://mashable.com/category/family-parenting\n",
      "https://mashable.com/category/health-wellness\n",
      "https://mashable.com/category/sex-dating-relationships\n",
      "https://mashable.com/life\n",
      "https://mashable.com/category/activism\n",
      "https://mashable.com/category/gender\n",
      "https://mashable.com/category/lgbtq\n",
      "https://mashable.com/category/mental-health\n",
      "https://mashable.com/category/racism\n",
      "https://mashable.com/category/sustainability\n",
      "https://mashable.com/category/social-good\n",
      "https://mashable.com/category/games\n",
      "https://mashable.com/category/movies\n",
      "https://mashable.com/category/podcasts\n",
      "https://mashable.com/category/tv-shows\n",
      "https://mashable.com/entertainment\n",
      "https://mashable.com/roundups/category/house-home\n",
      "https://mashable.com/roundups/category/tech\n",
      "https://mashable.com/roundups/category/kitchen\n",
      "https://mashable.com/roundups/category/fitness\n",
      "https://mashable.com/roundups/category/sex-toys\n",
      "https://mashable.com/roundups/category/apps-and-software\n",
      "https://mashable.com/roundups/category/sex-dating-relationships\n",
      "https://mashable.com/gifts\n",
      "/mashable-choice\n",
      "https://mashable.com/roundups\n",
      "https://mashable.com/review\n",
      "https://mashable.com/deals/category/house-home\n",
      "https://mashable.com/deals/category/tech\n",
      "https://shop.mashable.com/\n",
      "https://mashable.com/deals\n",
      "https://mashable.com/newsletters\n",
      "https://mashable.com/shows\n",
      "https://mashable.com/videos\n",
      "/author/grace-smith\n",
      "https://www.facebook.com/sharer.php?u=https%3A%2F%2Fmashable.com%2Farchive%2Fstatic-website-generators\n",
      "https://twitter.com/intent/tweet?url=https%3A%2F%2Fmashable.com%2Farchive%2Fstatic-website-generators&text=13+Static+Site+Generators+to+Help+You+Build+Your+Ultimate+Website\n",
      "https://share.flipboard.com/bookmarklet/popout?v=2&url=https%3A%2F%2Fmashable.com%2Farchive%2Fstatic-website-generators&title=13+Static+Site+Generators+to+Help+You+Build+Your+Ultimate+Website\n",
      "https://mashable.com/tech\n",
      "https://mashable.com/science\n",
      "https://mashable.com/life\n",
      "https://mashable.com/category/social-good\n",
      "https://mashable.com/entertainment\n",
      "https://mashable.com/roundups\n",
      "https://mashable.com/deals\n",
      "https://mashable.com/about/mashable-staff-masthead\n",
      "https://mashable.com/about/contact-us\n",
      "https://www.j2global.com/careers/jobs/?brand=Mashable\n",
      "https://mashable.com/newsletters\n",
      "https://mashable.com/sitemap\n",
      "https://www.facebook.com/mashable/\n",
      "https://twitter.com/mashable\n",
      "http://instagram.com/Mashable\n",
      "https://www.youtube.com/user/mashable\n",
      "https://www.pinterest.com/mashable/\n",
      " https://www.tiktok.com/@mashable\n",
      "https://flipboard.com/@Mashable\n",
      "https://www.linkedin.com/company/mashable\n",
      "https://mashable.com/feeds/rss/all\n",
      "https://www.ziffdavis.com/general/group-black-and-ziff-davis-partner-to-amplify-and-scale-black-voices-in-media\n",
      "https://www.essence.com/\n",
      "https://theshaderoom.com/\n",
      "https://afropunk.com/\n",
      "https://www.ziffdavis.com/about\n",
      "https://www.ziffdavis.com/privacy-policy\n",
      "https://www.ziffdavis.com/terms-of-use\n",
      "https://ziffmedia.com/\n",
      "https://www.ziffdavis.com/accessibility\n",
      "https://mashable.com/ccpa\n",
      "https://www.bbb.org/us/ny/new-york/profile/digital-media/ziff-davis-llc-0121-531/#sealclick\n"
     ]
    }
   ],
   "source": [
    "#to find all a elements with an href attribute\n",
    "for link in soup.findAll('a', href=True):\n",
    "    print(link['href'])"
   ]
  },
  {
   "cell_type": "code",
   "execution_count": 67,
   "id": "8025d157",
   "metadata": {},
   "outputs": [],
   "source": [
    "html_code = \"\"\"\n",
    "\n",
    "<html>\n",
    "<head>\n",
    "    <title> The story of Tom and Jerry </title>\n",
    "</head>\n",
    " <body>\n",
    "    <p class = \"title\"><b>Tom and Jerry</b></p>\n",
    "    <img src = \"TomAndJerry.jpg\" width = \"300\" height = \"300\" alt = \"cartoon_image\"/>\n",
    "    <p class = \"comedy animated series\">\n",
    "        Tom and Jerry is an American animated series of comedy short films created by \n",
    "        <a href = \"https://en.wikipedia.org/wiki/William_Hanna\" class = \"creator\" id = \"link1\" >William_Hanna</a> and  \n",
    "        <a href = \"https://en.wikipedia.org/wiki/Joseph_Barbera\" class = \"creator\" id = \"link2\" >Joseph Barbera</a>. \n",
    "        It centers on a rivalry between the title characters\n",
    "        <a href = \"https://en.wikipedia.org/wiki/Tom_Cat\" class = \"character\" id = \"link3\" >Tom</a>, a cat, and \n",
    "        <a href = \"https://en.wikipedia.org/wiki/Jerry_Mouse\" class = \"character\" id = \"link4\" >Jerry</a>, a mouse.</p> \n",
    "    \n",
    "        <div>\n",
    "                <img src = \"https://upload.wikimedia.org/wikipedia/commons/d/d2/William_Hanna_1977.jpg\" \n",
    "                     width = \"300\" height = \"300\" alt = \"creator_image\" ></img>\n",
    "                <img src = \"https://upload.wikimedia.org/wikipedia/commons/6/67/JBarbera.jpg\" \n",
    "                     width = \"300\" height = \"300\" alt = \"creator_image\"></img>\n",
    "                <img src = \"https://upload.wikimedia.org/wikipedia/en/2/2f/Jerry_Mouse.png\"></img>\n",
    "                <img src = \"https://upload.wikimedia.org/wikipedia/en/f/f6/Tom_Tom_and_Jerry.png\" alt = \"Tom_image\"></img>\n",
    "        </div>\n",
    "        <p class = \"comedy story\">\n",
    "            The series features comic fights between an iconic pair of adversaries, \n",
    "            a house cat (Tom) and a mouse (Jerry). The plots of each short usually center on Tom's \n",
    "            numerous attempts to capture Jerry and the mayhem and destruction that follows. \n",
    "            Tom rarely succeeds in catching Jerry, mainly because of Jerry's cleverness, \n",
    "            cunning abilities, and luck. \n",
    "        </p>\n",
    "        <i>Tom and Jerry show is a full length comedy show</i>\n",
    " </body>\n",
    "</html>\n",
    "\n",
    "\"\"\""
   ]
  },
  {
   "cell_type": "code",
   "execution_count": 68,
   "id": "11c2218c",
   "metadata": {},
   "outputs": [],
   "source": [
    "#soupstrainer is used to extract only the specific html tags and not the whole html\n",
    "div_tags = SoupStrainer(\"div\")"
   ]
  },
  {
   "cell_type": "code",
   "execution_count": 70,
   "id": "d2b31529",
   "metadata": {
    "scrolled": true
   },
   "outputs": [
    {
     "name": "stdout",
     "output_type": "stream",
     "text": [
      "<div>\n",
      " <img alt=\"creator_image\" height=\"300\" src=\"https://upload.wikimedia.org/wikipedia/commons/d/d2/William_Hanna_1977.jpg\" width=\"300\"/>\n",
      " <img alt=\"creator_image\" height=\"300\" src=\"https://upload.wikimedia.org/wikipedia/commons/6/67/JBarbera.jpg\" width=\"300\"/>\n",
      " <img src=\"https://upload.wikimedia.org/wikipedia/en/2/2f/Jerry_Mouse.png\"/>\n",
      " <img alt=\"Tom_image\" src=\"https://upload.wikimedia.org/wikipedia/en/f/f6/Tom_Tom_and_Jerry.png\"/>\n",
      "</div>\n"
     ]
    }
   ],
   "source": [
    "soup = BeautifulSoup(html_code,'lxml',parse_only = div_tags)\n",
    "print(soup.prettify())"
   ]
  },
  {
   "cell_type": "code",
   "execution_count": 71,
   "id": "8b09adfa",
   "metadata": {},
   "outputs": [],
   "source": [
    "alt_attr = SoupStrainer(alt = \"creator_image\")"
   ]
  },
  {
   "cell_type": "code",
   "execution_count": 74,
   "id": "a40ad157",
   "metadata": {},
   "outputs": [
    {
     "name": "stdout",
     "output_type": "stream",
     "text": [
      "<img alt=\"creator_image\" height=\"300\" src=\"https://upload.wikimedia.org/wikipedia/commons/d/d2/William_Hanna_1977.jpg\" width=\"300\"/>\n",
      "<img alt=\"creator_image\" height=\"300\" src=\"https://upload.wikimedia.org/wikipedia/commons/6/67/JBarbera.jpg\" width=\"300\"/>\n",
      "\n"
     ]
    }
   ],
   "source": [
    "#soup strainer also works with regular expression\n",
    "soup = BeautifulSoup(html_code,'lxml',parse_only = alt_attr)\n",
    "print(soup.prettify())"
   ]
  }
 ],
 "metadata": {
  "kernelspec": {
   "display_name": "Python 3 (ipykernel)",
   "language": "python",
   "name": "python3"
  },
  "language_info": {
   "codemirror_mode": {
    "name": "ipython",
    "version": 3
   },
   "file_extension": ".py",
   "mimetype": "text/x-python",
   "name": "python",
   "nbconvert_exporter": "python",
   "pygments_lexer": "ipython3",
   "version": "3.11.1"
  }
 },
 "nbformat": 4,
 "nbformat_minor": 5
}
