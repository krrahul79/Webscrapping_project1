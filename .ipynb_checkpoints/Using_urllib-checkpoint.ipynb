{
 "cells": [
  {
   "cell_type": "code",
   "execution_count": 1,
   "id": "1d466767",
   "metadata": {},
   "outputs": [],
   "source": [
    "#Urllib is build on top of httplib2\n",
    "#post data need to be ecoded in urllib\n",
    "#it is better use the urlopen with with parameter\n",
    "#handling errors is important while trying to webscrape"
   ]
  }
 ],
 "metadata": {
  "kernelspec": {
   "display_name": "Python 3 (ipykernel)",
   "language": "python",
   "name": "python3"
  },
  "language_info": {
   "codemirror_mode": {
    "name": "ipython",
    "version": 3
   },
   "file_extension": ".py",
   "mimetype": "text/x-python",
   "name": "python",
   "nbconvert_exporter": "python",
   "pygments_lexer": "ipython3",
   "version": "3.11.1"
  }
 },
 "nbformat": 4,
 "nbformat_minor": 5
}
